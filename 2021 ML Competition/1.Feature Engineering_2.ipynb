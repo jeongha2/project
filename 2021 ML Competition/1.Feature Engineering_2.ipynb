{
 "cells": [
  {
   "cell_type": "code",
   "execution_count": 1,
   "metadata": {},
   "outputs": [],
   "source": [
    "import lightgbm as lgb\n",
    "import numpy as np\n",
    "import pandas as pd\n",
    "from pprint import pprint\n",
    "from sklearn.metrics import log_loss\n",
    "from sklearn.model_selection import StratifiedKFold\n",
    "import seaborn as sns\n",
    "from tensorflow import keras\n",
    "import tensorflow as tf\n",
    "import warnings\n",
    "from tqdm import tqdm, tqdm_notebook\n",
    "from sklearn.model_selection import cross_val_score\n",
    "\n",
    "from sklearn.feature_selection import RFE\n",
    "from sklearn.feature_selection import SelectPercentile\n",
    "import matplotlib.pyplot as plt\n",
    "import matplotlib.font_manager as fm\n",
    "plt.rc('font', family=fm.FontProperties(fname=\"c:/Windows/Fonts/malgun.ttf\").get_name()) # for Windows OS user\n",
    "import datetime\n",
    "import os"
   ]
  },
  {
   "cell_type": "code",
   "execution_count": 2,
   "metadata": {},
   "outputs": [],
   "source": [
    "from sklearn.model_selection import train_test_split\n",
    "from sklearn.metrics import mean_squared_error\n",
    "from xgboost import XGBRegressor\n",
    "from lightgbm import LGBMRegressor\n",
    "from sklearn.ensemble import GradientBoostingRegressor\n",
    "from catboost import CatBoostRegressor\n",
    "from sklearn.linear_model import Ridge\n",
    "from sklearn.linear_model import BayesianRidge\n",
    "from tensorflow import keras\n",
    "from scipy.stats.mstats import gmean\n",
    "from sklearn.ensemble import RandomForestRegressor\n",
    "from sklearn.model_selection import RandomizedSearchCV\n",
    "import sys, warnings\n",
    "if not sys.warnoptions: warnings.simplefilter(\"ignore\")\n",
    "    "
   ]
  },
  {
   "cell_type": "code",
   "execution_count": 2,
   "metadata": {},
   "outputs": [],
   "source": [
    "# 학습용과 평가용(제출용) 데이터를 읽어들인다.\n",
    "trn = pd.read_csv(os.path.abspath(\"../input\")+'/X_train.csv', encoding='cp949')\n",
    "tst = pd.read_csv(os.path.abspath(\"../input\")+'/X_test.csv', encoding='cp949')\n",
    "\n",
    "# 학습용 정답 데이터를 읽는다.\n",
    "y = pd.read_csv(os.path.abspath(\"../input\")+'/y_train.csv', encoding='cp949')"
   ]
  },
  {
   "cell_type": "code",
   "execution_count": 4,
   "metadata": {},
   "outputs": [],
   "source": [
    "IDtest = tst.custid.unique()\n",
    "data = pd.concat([trn, tst], axis=0)"
   ]
  },
  {
   "cell_type": "code",
   "execution_count": 5,
   "metadata": {},
   "outputs": [
    {
     "name": "stdout",
     "output_type": "stream",
     "text": [
      "<class 'pandas.core.frame.DataFrame'>\n",
      "Int64Index: 1040039 entries, 0 to 414954\n",
      "Data columns (total 19 columns):\n",
      " #   Column           Non-Null Count    Dtype \n",
      "---  ------           --------------    ----- \n",
      " 0   custid           1040039 non-null  int64 \n",
      " 1   sales_month      1040039 non-null  int64 \n",
      " 2   sales_day        1040039 non-null  int64 \n",
      " 3   sales_dayofweek  1040039 non-null  object\n",
      " 4   sales_time       1040039 non-null  int64 \n",
      " 5   str_nm           1040039 non-null  object\n",
      " 6   goodcd           1040039 non-null  int64 \n",
      " 7   brd_nm           1040039 non-null  object\n",
      " 8   corner_nm        1040039 non-null  object\n",
      " 9   pc_nm            1040039 non-null  object\n",
      " 10  part_nm          1040039 non-null  object\n",
      " 11  team_nm          1040039 non-null  object\n",
      " 12  buyer_nm         1040039 non-null  object\n",
      " 13  import_flg       1040039 non-null  int64 \n",
      " 14  tot_amt          1040039 non-null  int64 \n",
      " 15  dis_amt          1040039 non-null  int64 \n",
      " 16  net_amt          1040039 non-null  int64 \n",
      " 17  inst_mon         1040039 non-null  int64 \n",
      " 18  inst_fee         1040039 non-null  int64 \n",
      "dtypes: int64(11), object(8)\n",
      "memory usage: 158.7+ MB\n"
     ]
    }
   ],
   "source": [
    "data.info()"
   ]
  },
  {
   "cell_type": "markdown",
   "metadata": {},
   "source": [
    "날짜 데이터"
   ]
  },
  {
   "cell_type": "code",
   "execution_count": 6,
   "metadata": {},
   "outputs": [],
   "source": [
    "data['sales_year']=data['sales_month'].apply(lambda x: 2018 if x >12 else 2017)"
   ]
  },
  {
   "cell_type": "code",
   "execution_count": 7,
   "metadata": {},
   "outputs": [],
   "source": [
    "# 월 정리\n",
    "data['sales_month']=data['sales_month'].apply(lambda x: x-12 if x >12 else x)"
   ]
  },
  {
   "cell_type": "code",
   "execution_count": 8,
   "metadata": {},
   "outputs": [],
   "source": [
    "# 주말\n",
    "data['weekend'] = data['sales_dayofweek'].apply(lambda x: 1 if (x=='토' or x=='일') else 0)"
   ]
  },
  {
   "cell_type": "code",
   "execution_count": 9,
   "metadata": {},
   "outputs": [],
   "source": [
    "data['sales_year']=data['sales_year'].astype('str')\n",
    "data['sales_month']=data['sales_month'].astype('str')\n",
    "data['sales_day']=data['sales_day'].astype('str')"
   ]
  },
  {
   "cell_type": "code",
   "execution_count": 10,
   "metadata": {},
   "outputs": [],
   "source": [
    "data['date_time']=data['sales_year']+'-'+data['sales_month']+'-'+data['sales_day']"
   ]
  },
  {
   "cell_type": "code",
   "execution_count": 11,
   "metadata": {},
   "outputs": [],
   "source": [
    "data['sales_year']=data['sales_year'].astype('int')\n",
    "data['sales_month']=data['sales_month'].astype('int')\n",
    "data['sales_day']=data['sales_day'].astype('int')"
   ]
  },
  {
   "cell_type": "code",
   "execution_count": 12,
   "metadata": {},
   "outputs": [],
   "source": [
    "data['date_time'] = pd.to_datetime(data['date_time'])"
   ]
  },
  {
   "cell_type": "code",
   "execution_count": 13,
   "metadata": {},
   "outputs": [],
   "source": [
    "a=data.groupby(['custid'])['date_time'].diff()"
   ]
  },
  {
   "cell_type": "code",
   "execution_count": 14,
   "metadata": {},
   "outputs": [],
   "source": [
    "a=a.reset_index().set_index(data.custid)"
   ]
  },
  {
   "cell_type": "code",
   "execution_count": 15,
   "metadata": {},
   "outputs": [],
   "source": [
    "a=a.reset_index()"
   ]
  },
  {
   "cell_type": "code",
   "execution_count": 16,
   "metadata": {},
   "outputs": [],
   "source": [
    "a.set_index('index',inplace=True)"
   ]
  },
  {
   "cell_type": "code",
   "execution_count": 17,
   "metadata": {},
   "outputs": [],
   "source": [
    "data['date_time_diff']=a.date_time"
   ]
  },
  {
   "cell_type": "code",
   "execution_count": 18,
   "metadata": {},
   "outputs": [],
   "source": [
    "dtdt=data.groupby(['custid','date_time'])['date_time_diff'].sum().reset_index()"
   ]
  },
  {
   "cell_type": "code",
   "execution_count": 19,
   "metadata": {},
   "outputs": [],
   "source": [
    "dtdt.date_time_diff=dtdt.date_time_diff.astype('str')"
   ]
  },
  {
   "cell_type": "code",
   "execution_count": 20,
   "metadata": {},
   "outputs": [],
   "source": [
    "dtdt.date_time_diff=dtdt.date_time_diff.apply(lambda x: x.split(' ')[0])"
   ]
  },
  {
   "cell_type": "code",
   "execution_count": 21,
   "metadata": {},
   "outputs": [],
   "source": [
    "dtdt.date_time_diff=dtdt.date_time_diff.astype('int')"
   ]
  },
  {
   "cell_type": "code",
   "execution_count": 22,
   "metadata": {},
   "outputs": [],
   "source": [
    "dtdt_mean=dtdt.groupby('custid')['date_time_diff'].mean().reset_index()"
   ]
  },
  {
   "cell_type": "markdown",
   "metadata": {},
   "source": [
    "# 쇼핑시간"
   ]
  },
  {
   "cell_type": "code",
   "execution_count": 23,
   "metadata": {},
   "outputs": [
    {
     "data": {
      "text/html": [
       "<div>\n",
       "<style scoped>\n",
       "    .dataframe tbody tr th:only-of-type {\n",
       "        vertical-align: middle;\n",
       "    }\n",
       "\n",
       "    .dataframe tbody tr th {\n",
       "        vertical-align: top;\n",
       "    }\n",
       "\n",
       "    .dataframe thead th {\n",
       "        text-align: right;\n",
       "    }\n",
       "</style>\n",
       "<table border=\"1\" class=\"dataframe\">\n",
       "  <thead>\n",
       "    <tr style=\"text-align: right;\">\n",
       "      <th></th>\n",
       "      <th>custid</th>\n",
       "      <th>date_time_diff</th>\n",
       "    </tr>\n",
       "  </thead>\n",
       "  <tbody>\n",
       "    <tr>\n",
       "      <th>0</th>\n",
       "      <td>0</td>\n",
       "      <td>41.142857</td>\n",
       "    </tr>\n",
       "    <tr>\n",
       "      <th>1</th>\n",
       "      <td>2</td>\n",
       "      <td>18.428571</td>\n",
       "    </tr>\n",
       "    <tr>\n",
       "      <th>2</th>\n",
       "      <td>3</td>\n",
       "      <td>25.461538</td>\n",
       "    </tr>\n",
       "    <tr>\n",
       "      <th>3</th>\n",
       "      <td>4</td>\n",
       "      <td>1.500000</td>\n",
       "    </tr>\n",
       "    <tr>\n",
       "      <th>4</th>\n",
       "      <td>5</td>\n",
       "      <td>15.333333</td>\n",
       "    </tr>\n",
       "    <tr>\n",
       "      <th>...</th>\n",
       "      <td>...</td>\n",
       "      <td>...</td>\n",
       "    </tr>\n",
       "    <tr>\n",
       "      <th>35962</th>\n",
       "      <td>49988</td>\n",
       "      <td>28.000000</td>\n",
       "    </tr>\n",
       "    <tr>\n",
       "      <th>35963</th>\n",
       "      <td>49990</td>\n",
       "      <td>0.000000</td>\n",
       "    </tr>\n",
       "    <tr>\n",
       "      <th>35964</th>\n",
       "      <td>49992</td>\n",
       "      <td>142.000000</td>\n",
       "    </tr>\n",
       "    <tr>\n",
       "      <th>35965</th>\n",
       "      <td>49993</td>\n",
       "      <td>0.000000</td>\n",
       "    </tr>\n",
       "    <tr>\n",
       "      <th>35966</th>\n",
       "      <td>49994</td>\n",
       "      <td>0.500000</td>\n",
       "    </tr>\n",
       "  </tbody>\n",
       "</table>\n",
       "<p>35967 rows × 2 columns</p>\n",
       "</div>"
      ],
      "text/plain": [
       "       custid  date_time_diff\n",
       "0           0       41.142857\n",
       "1           2       18.428571\n",
       "2           3       25.461538\n",
       "3           4        1.500000\n",
       "4           5       15.333333\n",
       "...       ...             ...\n",
       "35962   49988       28.000000\n",
       "35963   49990        0.000000\n",
       "35964   49992      142.000000\n",
       "35965   49993        0.000000\n",
       "35966   49994        0.500000\n",
       "\n",
       "[35967 rows x 2 columns]"
      ]
     },
     "execution_count": 23,
     "metadata": {},
     "output_type": "execute_result"
    }
   ],
   "source": [
    "dtdt_mean"
   ]
  },
  {
   "cell_type": "code",
   "execution_count": 24,
   "metadata": {},
   "outputs": [],
   "source": [
    "ab=data.groupby(['custid','sales_day','sales_month'])['sales_time'].agg([('sales_time_min', 'min')]).reset_index()"
   ]
  },
  {
   "cell_type": "code",
   "execution_count": 25,
   "metadata": {},
   "outputs": [],
   "source": [
    "abc=data.groupby(['custid','sales_day','sales_month'])['sales_time'].agg([('sales_time_max', 'max')]).reset_index()"
   ]
  },
  {
   "cell_type": "code",
   "execution_count": 26,
   "metadata": {},
   "outputs": [],
   "source": [
    "ab['time_min']=ab['sales_time_min'].apply(lambda x: int(str(x)[:2]) if len(str(x)) == 4 else int(str(x)[:1]))\n",
    "ab['minute_min']=ab['sales_time_min'].apply(lambda x: int(str(x)[2:]) if len(str(x)) == 4 else int(str(x)[1:]))"
   ]
  },
  {
   "cell_type": "code",
   "execution_count": 27,
   "metadata": {},
   "outputs": [],
   "source": [
    "ab['time_max']=abc['sales_time_max'].apply(lambda x: int(str(x)[:2]) if len(str(x)) == 4 else int(str(x)[:1]))\n",
    "ab['minute_max']=abc['sales_time_max'].apply(lambda x: int(str(x)[2:]) if len(str(x)) == 4 else int(str(x)[1:]))"
   ]
  },
  {
   "cell_type": "code",
   "execution_count": 28,
   "metadata": {},
   "outputs": [],
   "source": [
    "ab['shop_time']=(ab['time_max']-ab['time_min'])*60+(ab['minute_max']-ab['minute_min'])"
   ]
  },
  {
   "cell_type": "code",
   "execution_count": 29,
   "metadata": {},
   "outputs": [],
   "source": [
    "shop_time=ab.groupby('custid')['shop_time'].mean().reset_index()"
   ]
  },
  {
   "cell_type": "code",
   "execution_count": null,
   "metadata": {},
   "outputs": [],
   "source": []
  },
  {
   "cell_type": "markdown",
   "metadata": {},
   "source": [
    "### word2vec"
   ]
  },
  {
   "cell_type": "code",
   "execution_count": 30,
   "metadata": {},
   "outputs": [],
   "source": [
    "# income_occyp_type, income_age_type, edu_occyp_type, edu_income_type, family_income_type\n",
    "\n",
    "import random\n",
    "\n",
    "trn2=trn.reset_index().drop('index',axis=1).copy()\n",
    "trn2=trn2.reset_index()\n",
    "trn2['goodcd']=trn2['goodcd'].astype('str')\n",
    "train_data=list(trn2.groupby('custid')['goodcd'].unique())"
   ]
  },
  {
   "cell_type": "code",
   "execution_count": 31,
   "metadata": {},
   "outputs": [],
   "source": [
    "def oversample(x, n):\n",
    "    lst = []\n",
    "    for i in x:\n",
    "        tmp = []\n",
    "        for j in range(n):\n",
    "            random.shuffle(i)\n",
    "            tmp += list(i)\n",
    "            lst.append(tmp)\n",
    "    return lst"
   ]
  },
  {
   "cell_type": "code",
   "execution_count": 32,
   "metadata": {},
   "outputs": [],
   "source": [
    "w2v_input = oversample(train_data, 5)"
   ]
  },
  {
   "cell_type": "code",
   "execution_count": 33,
   "metadata": {},
   "outputs": [],
   "source": [
    "from gensim.models import word2vec\n",
    "\n",
    "w2v = word2vec.Word2Vec(sentences = w2v_input, vector_size = 100, window = 3, min_count = 1, sg = 1)"
   ]
  },
  {
   "cell_type": "code",
   "execution_count": 34,
   "metadata": {},
   "outputs": [
    {
     "name": "stderr",
     "output_type": "stream",
     "text": [
      "100%|█████████████████████████████████████████████████████████████████████████| 21587/21587 [00:01<00:00, 14799.65it/s]\n"
     ]
    }
   ],
   "source": [
    "train_mean_vector = []\n",
    "for words in tqdm(train_data):\n",
    "    tmp = np.zeros(100)\n",
    "    cnt = 0\n",
    "    for word in words:\n",
    "        try:\n",
    "            tmp += w2v.wv[word]\n",
    "            cnt += 1\n",
    "        except:\n",
    "            pass\n",
    "    tmp /= cnt\n",
    "    train_mean_vector.append(tmp)\n",
    "train_mean_vector = np.array(train_mean_vector)"
   ]
  },
  {
   "cell_type": "code",
   "execution_count": 35,
   "metadata": {},
   "outputs": [
    {
     "data": {
      "text/html": [
       "<div>\n",
       "<style scoped>\n",
       "    .dataframe tbody tr th:only-of-type {\n",
       "        vertical-align: middle;\n",
       "    }\n",
       "\n",
       "    .dataframe tbody tr th {\n",
       "        vertical-align: top;\n",
       "    }\n",
       "\n",
       "    .dataframe thead th {\n",
       "        text-align: right;\n",
       "    }\n",
       "</style>\n",
       "<table border=\"1\" class=\"dataframe\">\n",
       "  <thead>\n",
       "    <tr style=\"text-align: right;\">\n",
       "      <th></th>\n",
       "      <th>0</th>\n",
       "      <th>1</th>\n",
       "      <th>2</th>\n",
       "      <th>3</th>\n",
       "      <th>4</th>\n",
       "      <th>5</th>\n",
       "      <th>6</th>\n",
       "      <th>7</th>\n",
       "      <th>8</th>\n",
       "      <th>9</th>\n",
       "      <th>...</th>\n",
       "      <th>90</th>\n",
       "      <th>91</th>\n",
       "      <th>92</th>\n",
       "      <th>93</th>\n",
       "      <th>94</th>\n",
       "      <th>95</th>\n",
       "      <th>96</th>\n",
       "      <th>97</th>\n",
       "      <th>98</th>\n",
       "      <th>99</th>\n",
       "    </tr>\n",
       "  </thead>\n",
       "  <tbody>\n",
       "    <tr>\n",
       "      <th>0</th>\n",
       "      <td>0.023981</td>\n",
       "      <td>0.200068</td>\n",
       "      <td>0.022746</td>\n",
       "      <td>0.008429</td>\n",
       "      <td>0.055969</td>\n",
       "      <td>-0.147475</td>\n",
       "      <td>0.124675</td>\n",
       "      <td>0.262861</td>\n",
       "      <td>-0.014822</td>\n",
       "      <td>0.087922</td>\n",
       "      <td>...</td>\n",
       "      <td>0.189596</td>\n",
       "      <td>0.036937</td>\n",
       "      <td>-0.051660</td>\n",
       "      <td>-0.002935</td>\n",
       "      <td>-0.067972</td>\n",
       "      <td>-0.143237</td>\n",
       "      <td>0.072112</td>\n",
       "      <td>-0.138113</td>\n",
       "      <td>-0.156703</td>\n",
       "      <td>0.037609</td>\n",
       "    </tr>\n",
       "    <tr>\n",
       "      <th>1</th>\n",
       "      <td>0.184703</td>\n",
       "      <td>0.101927</td>\n",
       "      <td>0.060066</td>\n",
       "      <td>0.157140</td>\n",
       "      <td>0.057818</td>\n",
       "      <td>-0.187687</td>\n",
       "      <td>-0.064481</td>\n",
       "      <td>0.315599</td>\n",
       "      <td>-0.144216</td>\n",
       "      <td>0.077396</td>\n",
       "      <td>...</td>\n",
       "      <td>-0.078254</td>\n",
       "      <td>0.245677</td>\n",
       "      <td>0.202411</td>\n",
       "      <td>-0.132051</td>\n",
       "      <td>-0.122044</td>\n",
       "      <td>-0.150676</td>\n",
       "      <td>-0.089461</td>\n",
       "      <td>-0.205295</td>\n",
       "      <td>-0.178355</td>\n",
       "      <td>0.144199</td>\n",
       "    </tr>\n",
       "    <tr>\n",
       "      <th>2</th>\n",
       "      <td>-0.291270</td>\n",
       "      <td>0.096634</td>\n",
       "      <td>0.152279</td>\n",
       "      <td>0.008337</td>\n",
       "      <td>0.062196</td>\n",
       "      <td>-0.118927</td>\n",
       "      <td>-0.058694</td>\n",
       "      <td>0.188025</td>\n",
       "      <td>-0.041053</td>\n",
       "      <td>0.123184</td>\n",
       "      <td>...</td>\n",
       "      <td>0.197973</td>\n",
       "      <td>0.058031</td>\n",
       "      <td>-0.109240</td>\n",
       "      <td>0.090842</td>\n",
       "      <td>-0.034972</td>\n",
       "      <td>0.009357</td>\n",
       "      <td>-0.069047</td>\n",
       "      <td>0.019490</td>\n",
       "      <td>-0.052048</td>\n",
       "      <td>0.101089</td>\n",
       "    </tr>\n",
       "    <tr>\n",
       "      <th>3</th>\n",
       "      <td>-0.055924</td>\n",
       "      <td>-0.113966</td>\n",
       "      <td>0.039334</td>\n",
       "      <td>0.162921</td>\n",
       "      <td>-0.043175</td>\n",
       "      <td>-0.368415</td>\n",
       "      <td>0.215983</td>\n",
       "      <td>0.841779</td>\n",
       "      <td>0.150075</td>\n",
       "      <td>0.002423</td>\n",
       "      <td>...</td>\n",
       "      <td>0.260856</td>\n",
       "      <td>0.219095</td>\n",
       "      <td>0.107931</td>\n",
       "      <td>-0.009410</td>\n",
       "      <td>-0.026703</td>\n",
       "      <td>0.004254</td>\n",
       "      <td>-0.119072</td>\n",
       "      <td>-0.079067</td>\n",
       "      <td>0.245670</td>\n",
       "      <td>0.005514</td>\n",
       "    </tr>\n",
       "    <tr>\n",
       "      <th>4</th>\n",
       "      <td>-0.136377</td>\n",
       "      <td>0.181545</td>\n",
       "      <td>0.211327</td>\n",
       "      <td>-0.034160</td>\n",
       "      <td>-0.058472</td>\n",
       "      <td>-0.183680</td>\n",
       "      <td>0.142125</td>\n",
       "      <td>0.088776</td>\n",
       "      <td>0.013789</td>\n",
       "      <td>0.111974</td>\n",
       "      <td>...</td>\n",
       "      <td>0.095392</td>\n",
       "      <td>0.162599</td>\n",
       "      <td>-0.033488</td>\n",
       "      <td>0.126233</td>\n",
       "      <td>-0.090414</td>\n",
       "      <td>-0.085551</td>\n",
       "      <td>0.098510</td>\n",
       "      <td>-0.070805</td>\n",
       "      <td>-0.037173</td>\n",
       "      <td>0.058658</td>\n",
       "    </tr>\n",
       "    <tr>\n",
       "      <th>...</th>\n",
       "      <td>...</td>\n",
       "      <td>...</td>\n",
       "      <td>...</td>\n",
       "      <td>...</td>\n",
       "      <td>...</td>\n",
       "      <td>...</td>\n",
       "      <td>...</td>\n",
       "      <td>...</td>\n",
       "      <td>...</td>\n",
       "      <td>...</td>\n",
       "      <td>...</td>\n",
       "      <td>...</td>\n",
       "      <td>...</td>\n",
       "      <td>...</td>\n",
       "      <td>...</td>\n",
       "      <td>...</td>\n",
       "      <td>...</td>\n",
       "      <td>...</td>\n",
       "      <td>...</td>\n",
       "      <td>...</td>\n",
       "      <td>...</td>\n",
       "    </tr>\n",
       "    <tr>\n",
       "      <th>21582</th>\n",
       "      <td>-0.016617</td>\n",
       "      <td>0.174982</td>\n",
       "      <td>0.090610</td>\n",
       "      <td>0.102213</td>\n",
       "      <td>0.028390</td>\n",
       "      <td>-0.255650</td>\n",
       "      <td>0.162203</td>\n",
       "      <td>0.294482</td>\n",
       "      <td>-0.176366</td>\n",
       "      <td>0.130804</td>\n",
       "      <td>...</td>\n",
       "      <td>0.080021</td>\n",
       "      <td>0.143423</td>\n",
       "      <td>-0.063003</td>\n",
       "      <td>-0.238579</td>\n",
       "      <td>0.010103</td>\n",
       "      <td>-0.140052</td>\n",
       "      <td>0.021960</td>\n",
       "      <td>-0.096040</td>\n",
       "      <td>-0.091494</td>\n",
       "      <td>-0.104112</td>\n",
       "    </tr>\n",
       "    <tr>\n",
       "      <th>21583</th>\n",
       "      <td>-0.045056</td>\n",
       "      <td>0.126277</td>\n",
       "      <td>-0.005345</td>\n",
       "      <td>0.139266</td>\n",
       "      <td>0.013025</td>\n",
       "      <td>-0.146202</td>\n",
       "      <td>0.051776</td>\n",
       "      <td>0.347785</td>\n",
       "      <td>-0.065017</td>\n",
       "      <td>-0.079088</td>\n",
       "      <td>...</td>\n",
       "      <td>0.354890</td>\n",
       "      <td>0.073930</td>\n",
       "      <td>-0.001023</td>\n",
       "      <td>-0.142063</td>\n",
       "      <td>0.025272</td>\n",
       "      <td>0.120606</td>\n",
       "      <td>0.050755</td>\n",
       "      <td>-0.043828</td>\n",
       "      <td>-0.217618</td>\n",
       "      <td>0.045339</td>\n",
       "    </tr>\n",
       "    <tr>\n",
       "      <th>21584</th>\n",
       "      <td>-0.092758</td>\n",
       "      <td>0.271385</td>\n",
       "      <td>-0.005424</td>\n",
       "      <td>0.081602</td>\n",
       "      <td>-0.053663</td>\n",
       "      <td>-0.232595</td>\n",
       "      <td>-0.095151</td>\n",
       "      <td>0.278876</td>\n",
       "      <td>-0.086722</td>\n",
       "      <td>0.025125</td>\n",
       "      <td>...</td>\n",
       "      <td>0.089308</td>\n",
       "      <td>0.036489</td>\n",
       "      <td>0.352273</td>\n",
       "      <td>0.087829</td>\n",
       "      <td>-0.002012</td>\n",
       "      <td>0.011465</td>\n",
       "      <td>-0.007542</td>\n",
       "      <td>-0.108492</td>\n",
       "      <td>-0.014787</td>\n",
       "      <td>-0.192827</td>\n",
       "    </tr>\n",
       "    <tr>\n",
       "      <th>21585</th>\n",
       "      <td>-0.051014</td>\n",
       "      <td>-0.024733</td>\n",
       "      <td>-0.189471</td>\n",
       "      <td>0.094827</td>\n",
       "      <td>0.037206</td>\n",
       "      <td>-0.264851</td>\n",
       "      <td>0.001766</td>\n",
       "      <td>0.371398</td>\n",
       "      <td>-0.053686</td>\n",
       "      <td>0.036033</td>\n",
       "      <td>...</td>\n",
       "      <td>0.281668</td>\n",
       "      <td>0.143284</td>\n",
       "      <td>-0.014042</td>\n",
       "      <td>0.019247</td>\n",
       "      <td>-0.009690</td>\n",
       "      <td>0.088231</td>\n",
       "      <td>0.094884</td>\n",
       "      <td>-0.201303</td>\n",
       "      <td>-0.055411</td>\n",
       "      <td>0.153088</td>\n",
       "    </tr>\n",
       "    <tr>\n",
       "      <th>21586</th>\n",
       "      <td>-0.359111</td>\n",
       "      <td>0.267507</td>\n",
       "      <td>-0.153864</td>\n",
       "      <td>0.026183</td>\n",
       "      <td>0.074870</td>\n",
       "      <td>-0.167169</td>\n",
       "      <td>0.055958</td>\n",
       "      <td>0.101303</td>\n",
       "      <td>-0.147130</td>\n",
       "      <td>0.120026</td>\n",
       "      <td>...</td>\n",
       "      <td>0.334435</td>\n",
       "      <td>0.150838</td>\n",
       "      <td>-0.138152</td>\n",
       "      <td>0.118331</td>\n",
       "      <td>-0.152448</td>\n",
       "      <td>0.249347</td>\n",
       "      <td>-0.127043</td>\n",
       "      <td>-0.030556</td>\n",
       "      <td>-0.153479</td>\n",
       "      <td>-0.089235</td>\n",
       "    </tr>\n",
       "  </tbody>\n",
       "</table>\n",
       "<p>21587 rows × 100 columns</p>\n",
       "</div>"
      ],
      "text/plain": [
       "             0         1         2         3         4         5         6   \\\n",
       "0      0.023981  0.200068  0.022746  0.008429  0.055969 -0.147475  0.124675   \n",
       "1      0.184703  0.101927  0.060066  0.157140  0.057818 -0.187687 -0.064481   \n",
       "2     -0.291270  0.096634  0.152279  0.008337  0.062196 -0.118927 -0.058694   \n",
       "3     -0.055924 -0.113966  0.039334  0.162921 -0.043175 -0.368415  0.215983   \n",
       "4     -0.136377  0.181545  0.211327 -0.034160 -0.058472 -0.183680  0.142125   \n",
       "...         ...       ...       ...       ...       ...       ...       ...   \n",
       "21582 -0.016617  0.174982  0.090610  0.102213  0.028390 -0.255650  0.162203   \n",
       "21583 -0.045056  0.126277 -0.005345  0.139266  0.013025 -0.146202  0.051776   \n",
       "21584 -0.092758  0.271385 -0.005424  0.081602 -0.053663 -0.232595 -0.095151   \n",
       "21585 -0.051014 -0.024733 -0.189471  0.094827  0.037206 -0.264851  0.001766   \n",
       "21586 -0.359111  0.267507 -0.153864  0.026183  0.074870 -0.167169  0.055958   \n",
       "\n",
       "             7         8         9   ...        90        91        92  \\\n",
       "0      0.262861 -0.014822  0.087922  ...  0.189596  0.036937 -0.051660   \n",
       "1      0.315599 -0.144216  0.077396  ... -0.078254  0.245677  0.202411   \n",
       "2      0.188025 -0.041053  0.123184  ...  0.197973  0.058031 -0.109240   \n",
       "3      0.841779  0.150075  0.002423  ...  0.260856  0.219095  0.107931   \n",
       "4      0.088776  0.013789  0.111974  ...  0.095392  0.162599 -0.033488   \n",
       "...         ...       ...       ...  ...       ...       ...       ...   \n",
       "21582  0.294482 -0.176366  0.130804  ...  0.080021  0.143423 -0.063003   \n",
       "21583  0.347785 -0.065017 -0.079088  ...  0.354890  0.073930 -0.001023   \n",
       "21584  0.278876 -0.086722  0.025125  ...  0.089308  0.036489  0.352273   \n",
       "21585  0.371398 -0.053686  0.036033  ...  0.281668  0.143284 -0.014042   \n",
       "21586  0.101303 -0.147130  0.120026  ...  0.334435  0.150838 -0.138152   \n",
       "\n",
       "             93        94        95        96        97        98        99  \n",
       "0     -0.002935 -0.067972 -0.143237  0.072112 -0.138113 -0.156703  0.037609  \n",
       "1     -0.132051 -0.122044 -0.150676 -0.089461 -0.205295 -0.178355  0.144199  \n",
       "2      0.090842 -0.034972  0.009357 -0.069047  0.019490 -0.052048  0.101089  \n",
       "3     -0.009410 -0.026703  0.004254 -0.119072 -0.079067  0.245670  0.005514  \n",
       "4      0.126233 -0.090414 -0.085551  0.098510 -0.070805 -0.037173  0.058658  \n",
       "...         ...       ...       ...       ...       ...       ...       ...  \n",
       "21582 -0.238579  0.010103 -0.140052  0.021960 -0.096040 -0.091494 -0.104112  \n",
       "21583 -0.142063  0.025272  0.120606  0.050755 -0.043828 -0.217618  0.045339  \n",
       "21584  0.087829 -0.002012  0.011465 -0.007542 -0.108492 -0.014787 -0.192827  \n",
       "21585  0.019247 -0.009690  0.088231  0.094884 -0.201303 -0.055411  0.153088  \n",
       "21586  0.118331 -0.152448  0.249347 -0.127043 -0.030556 -0.153479 -0.089235  \n",
       "\n",
       "[21587 rows x 100 columns]"
      ]
     },
     "execution_count": 35,
     "metadata": {},
     "output_type": "execute_result"
    }
   ],
   "source": [
    "train_mean_vector = pd.DataFrame(train_mean_vector)\n",
    "train_mean_vector"
   ]
  },
  {
   "cell_type": "code",
   "execution_count": 36,
   "metadata": {},
   "outputs": [],
   "source": [
    "# income_occyp_type, income_age_type, edu_occyp_type, edu_income_type, family_income_type\n",
    "\n",
    "import random\n",
    "\n",
    "tst2=tst.reset_index().drop('index',axis=1).copy()\n",
    "tst2=tst2.reset_index()\n",
    "tst2['goodcd']=tst2['goodcd'].astype('str')\n",
    "test_data=list(tst2.groupby('custid')['goodcd'].unique())"
   ]
  },
  {
   "cell_type": "code",
   "execution_count": 37,
   "metadata": {},
   "outputs": [
    {
     "name": "stderr",
     "output_type": "stream",
     "text": [
      "100%|█████████████████████████████████████████████████████████████████████████| 14380/14380 [00:00<00:00, 15700.02it/s]\n"
     ]
    }
   ],
   "source": [
    "test_mean_vector = []\n",
    "for words in tqdm(test_data):\n",
    "    tmp = np.zeros(100)\n",
    "    cnt = 0\n",
    "    for word in words:\n",
    "        try:\n",
    "            tmp += w2v.wv[word]\n",
    "            cnt += 1\n",
    "        except:\n",
    "            pass\n",
    "    tmp /= cnt\n",
    "    test_mean_vector.append(tmp)\n",
    "test_mean_vector = np.array(test_mean_vector)"
   ]
  },
  {
   "cell_type": "code",
   "execution_count": 38,
   "metadata": {},
   "outputs": [
    {
     "data": {
      "text/html": [
       "<div>\n",
       "<style scoped>\n",
       "    .dataframe tbody tr th:only-of-type {\n",
       "        vertical-align: middle;\n",
       "    }\n",
       "\n",
       "    .dataframe tbody tr th {\n",
       "        vertical-align: top;\n",
       "    }\n",
       "\n",
       "    .dataframe thead th {\n",
       "        text-align: right;\n",
       "    }\n",
       "</style>\n",
       "<table border=\"1\" class=\"dataframe\">\n",
       "  <thead>\n",
       "    <tr style=\"text-align: right;\">\n",
       "      <th></th>\n",
       "      <th>0</th>\n",
       "      <th>1</th>\n",
       "      <th>2</th>\n",
       "      <th>3</th>\n",
       "      <th>4</th>\n",
       "      <th>5</th>\n",
       "      <th>6</th>\n",
       "      <th>7</th>\n",
       "      <th>8</th>\n",
       "      <th>9</th>\n",
       "      <th>...</th>\n",
       "      <th>90</th>\n",
       "      <th>91</th>\n",
       "      <th>92</th>\n",
       "      <th>93</th>\n",
       "      <th>94</th>\n",
       "      <th>95</th>\n",
       "      <th>96</th>\n",
       "      <th>97</th>\n",
       "      <th>98</th>\n",
       "      <th>99</th>\n",
       "    </tr>\n",
       "  </thead>\n",
       "  <tbody>\n",
       "    <tr>\n",
       "      <th>0</th>\n",
       "      <td>0.063029</td>\n",
       "      <td>0.262608</td>\n",
       "      <td>0.023560</td>\n",
       "      <td>-0.161137</td>\n",
       "      <td>-0.181888</td>\n",
       "      <td>-0.170633</td>\n",
       "      <td>0.026449</td>\n",
       "      <td>0.208972</td>\n",
       "      <td>-0.068570</td>\n",
       "      <td>0.212443</td>\n",
       "      <td>...</td>\n",
       "      <td>0.048583</td>\n",
       "      <td>0.127265</td>\n",
       "      <td>-0.069825</td>\n",
       "      <td>-0.144089</td>\n",
       "      <td>-0.100455</td>\n",
       "      <td>-0.157868</td>\n",
       "      <td>0.041255</td>\n",
       "      <td>-0.199506</td>\n",
       "      <td>-0.088287</td>\n",
       "      <td>0.000285</td>\n",
       "    </tr>\n",
       "    <tr>\n",
       "      <th>1</th>\n",
       "      <td>0.011621</td>\n",
       "      <td>0.118320</td>\n",
       "      <td>0.041094</td>\n",
       "      <td>-0.014012</td>\n",
       "      <td>0.029696</td>\n",
       "      <td>-0.171390</td>\n",
       "      <td>0.024332</td>\n",
       "      <td>0.304389</td>\n",
       "      <td>0.028222</td>\n",
       "      <td>0.064186</td>\n",
       "      <td>...</td>\n",
       "      <td>0.168143</td>\n",
       "      <td>0.127393</td>\n",
       "      <td>0.041316</td>\n",
       "      <td>-0.109675</td>\n",
       "      <td>-0.103988</td>\n",
       "      <td>-0.093294</td>\n",
       "      <td>0.064802</td>\n",
       "      <td>-0.160943</td>\n",
       "      <td>-0.013352</td>\n",
       "      <td>0.002507</td>\n",
       "    </tr>\n",
       "    <tr>\n",
       "      <th>2</th>\n",
       "      <td>-0.154721</td>\n",
       "      <td>0.081572</td>\n",
       "      <td>0.115515</td>\n",
       "      <td>-0.065035</td>\n",
       "      <td>-0.029286</td>\n",
       "      <td>-0.121107</td>\n",
       "      <td>0.054674</td>\n",
       "      <td>0.182344</td>\n",
       "      <td>-0.044770</td>\n",
       "      <td>0.058861</td>\n",
       "      <td>...</td>\n",
       "      <td>0.317513</td>\n",
       "      <td>0.102135</td>\n",
       "      <td>0.044914</td>\n",
       "      <td>-0.201248</td>\n",
       "      <td>-0.195571</td>\n",
       "      <td>0.295452</td>\n",
       "      <td>0.174948</td>\n",
       "      <td>0.097004</td>\n",
       "      <td>-0.179747</td>\n",
       "      <td>0.145734</td>\n",
       "    </tr>\n",
       "    <tr>\n",
       "      <th>3</th>\n",
       "      <td>0.079099</td>\n",
       "      <td>0.206270</td>\n",
       "      <td>0.015626</td>\n",
       "      <td>0.066544</td>\n",
       "      <td>-0.069416</td>\n",
       "      <td>-0.205871</td>\n",
       "      <td>0.130075</td>\n",
       "      <td>0.351431</td>\n",
       "      <td>-0.054335</td>\n",
       "      <td>0.163187</td>\n",
       "      <td>...</td>\n",
       "      <td>0.208688</td>\n",
       "      <td>0.137542</td>\n",
       "      <td>-0.070095</td>\n",
       "      <td>-0.028317</td>\n",
       "      <td>-0.066180</td>\n",
       "      <td>0.079849</td>\n",
       "      <td>0.120892</td>\n",
       "      <td>-0.080803</td>\n",
       "      <td>-0.121721</td>\n",
       "      <td>0.025689</td>\n",
       "    </tr>\n",
       "    <tr>\n",
       "      <th>4</th>\n",
       "      <td>-0.013752</td>\n",
       "      <td>0.038467</td>\n",
       "      <td>0.079215</td>\n",
       "      <td>-0.043191</td>\n",
       "      <td>-0.076424</td>\n",
       "      <td>-0.254569</td>\n",
       "      <td>0.049096</td>\n",
       "      <td>0.242913</td>\n",
       "      <td>0.048321</td>\n",
       "      <td>-0.062667</td>\n",
       "      <td>...</td>\n",
       "      <td>0.311658</td>\n",
       "      <td>0.111635</td>\n",
       "      <td>0.115909</td>\n",
       "      <td>-0.134199</td>\n",
       "      <td>0.083623</td>\n",
       "      <td>0.166885</td>\n",
       "      <td>0.214158</td>\n",
       "      <td>0.131958</td>\n",
       "      <td>-0.030432</td>\n",
       "      <td>0.154663</td>\n",
       "    </tr>\n",
       "    <tr>\n",
       "      <th>...</th>\n",
       "      <td>...</td>\n",
       "      <td>...</td>\n",
       "      <td>...</td>\n",
       "      <td>...</td>\n",
       "      <td>...</td>\n",
       "      <td>...</td>\n",
       "      <td>...</td>\n",
       "      <td>...</td>\n",
       "      <td>...</td>\n",
       "      <td>...</td>\n",
       "      <td>...</td>\n",
       "      <td>...</td>\n",
       "      <td>...</td>\n",
       "      <td>...</td>\n",
       "      <td>...</td>\n",
       "      <td>...</td>\n",
       "      <td>...</td>\n",
       "      <td>...</td>\n",
       "      <td>...</td>\n",
       "      <td>...</td>\n",
       "      <td>...</td>\n",
       "    </tr>\n",
       "    <tr>\n",
       "      <th>14375</th>\n",
       "      <td>0.052513</td>\n",
       "      <td>0.127382</td>\n",
       "      <td>0.102240</td>\n",
       "      <td>-0.041510</td>\n",
       "      <td>0.003083</td>\n",
       "      <td>-0.085344</td>\n",
       "      <td>0.106123</td>\n",
       "      <td>0.149331</td>\n",
       "      <td>-0.201807</td>\n",
       "      <td>-0.012295</td>\n",
       "      <td>...</td>\n",
       "      <td>0.028441</td>\n",
       "      <td>0.146396</td>\n",
       "      <td>-0.252499</td>\n",
       "      <td>-0.001601</td>\n",
       "      <td>-0.137837</td>\n",
       "      <td>0.011168</td>\n",
       "      <td>0.140957</td>\n",
       "      <td>-0.035128</td>\n",
       "      <td>0.117698</td>\n",
       "      <td>-0.089379</td>\n",
       "    </tr>\n",
       "    <tr>\n",
       "      <th>14376</th>\n",
       "      <td>-0.080751</td>\n",
       "      <td>0.155199</td>\n",
       "      <td>0.045781</td>\n",
       "      <td>-0.017925</td>\n",
       "      <td>0.089158</td>\n",
       "      <td>-0.170635</td>\n",
       "      <td>-0.011217</td>\n",
       "      <td>0.231496</td>\n",
       "      <td>0.025897</td>\n",
       "      <td>-0.014048</td>\n",
       "      <td>...</td>\n",
       "      <td>0.113352</td>\n",
       "      <td>0.096250</td>\n",
       "      <td>-0.002447</td>\n",
       "      <td>0.034710</td>\n",
       "      <td>-0.075592</td>\n",
       "      <td>0.036920</td>\n",
       "      <td>0.007457</td>\n",
       "      <td>0.033633</td>\n",
       "      <td>0.003268</td>\n",
       "      <td>0.020374</td>\n",
       "    </tr>\n",
       "    <tr>\n",
       "      <th>14377</th>\n",
       "      <td>0.065163</td>\n",
       "      <td>0.107327</td>\n",
       "      <td>0.022211</td>\n",
       "      <td>-0.192686</td>\n",
       "      <td>0.034507</td>\n",
       "      <td>-0.187084</td>\n",
       "      <td>0.038592</td>\n",
       "      <td>0.241669</td>\n",
       "      <td>-0.171746</td>\n",
       "      <td>0.098344</td>\n",
       "      <td>...</td>\n",
       "      <td>0.331588</td>\n",
       "      <td>0.178090</td>\n",
       "      <td>-0.126120</td>\n",
       "      <td>0.100875</td>\n",
       "      <td>-0.202572</td>\n",
       "      <td>-0.087765</td>\n",
       "      <td>0.181459</td>\n",
       "      <td>0.244698</td>\n",
       "      <td>0.054240</td>\n",
       "      <td>-0.052346</td>\n",
       "    </tr>\n",
       "    <tr>\n",
       "      <th>14378</th>\n",
       "      <td>-0.148850</td>\n",
       "      <td>-0.000040</td>\n",
       "      <td>0.214072</td>\n",
       "      <td>0.028718</td>\n",
       "      <td>0.137039</td>\n",
       "      <td>-0.070425</td>\n",
       "      <td>0.037978</td>\n",
       "      <td>-0.028612</td>\n",
       "      <td>0.108339</td>\n",
       "      <td>-0.102126</td>\n",
       "      <td>...</td>\n",
       "      <td>0.180984</td>\n",
       "      <td>0.190317</td>\n",
       "      <td>-0.100234</td>\n",
       "      <td>-0.027959</td>\n",
       "      <td>-0.118626</td>\n",
       "      <td>0.004075</td>\n",
       "      <td>0.182223</td>\n",
       "      <td>-0.059237</td>\n",
       "      <td>-0.036283</td>\n",
       "      <td>-0.100262</td>\n",
       "    </tr>\n",
       "    <tr>\n",
       "      <th>14379</th>\n",
       "      <td>-0.068959</td>\n",
       "      <td>0.195010</td>\n",
       "      <td>0.065952</td>\n",
       "      <td>0.228317</td>\n",
       "      <td>0.197320</td>\n",
       "      <td>-0.189572</td>\n",
       "      <td>0.112492</td>\n",
       "      <td>0.166214</td>\n",
       "      <td>-0.066072</td>\n",
       "      <td>0.370938</td>\n",
       "      <td>...</td>\n",
       "      <td>-0.017766</td>\n",
       "      <td>0.138609</td>\n",
       "      <td>-0.025496</td>\n",
       "      <td>-0.149728</td>\n",
       "      <td>-0.225892</td>\n",
       "      <td>0.048960</td>\n",
       "      <td>-0.165140</td>\n",
       "      <td>-0.096592</td>\n",
       "      <td>-0.121285</td>\n",
       "      <td>0.128370</td>\n",
       "    </tr>\n",
       "  </tbody>\n",
       "</table>\n",
       "<p>14380 rows × 100 columns</p>\n",
       "</div>"
      ],
      "text/plain": [
       "             0         1         2         3         4         5         6   \\\n",
       "0      0.063029  0.262608  0.023560 -0.161137 -0.181888 -0.170633  0.026449   \n",
       "1      0.011621  0.118320  0.041094 -0.014012  0.029696 -0.171390  0.024332   \n",
       "2     -0.154721  0.081572  0.115515 -0.065035 -0.029286 -0.121107  0.054674   \n",
       "3      0.079099  0.206270  0.015626  0.066544 -0.069416 -0.205871  0.130075   \n",
       "4     -0.013752  0.038467  0.079215 -0.043191 -0.076424 -0.254569  0.049096   \n",
       "...         ...       ...       ...       ...       ...       ...       ...   \n",
       "14375  0.052513  0.127382  0.102240 -0.041510  0.003083 -0.085344  0.106123   \n",
       "14376 -0.080751  0.155199  0.045781 -0.017925  0.089158 -0.170635 -0.011217   \n",
       "14377  0.065163  0.107327  0.022211 -0.192686  0.034507 -0.187084  0.038592   \n",
       "14378 -0.148850 -0.000040  0.214072  0.028718  0.137039 -0.070425  0.037978   \n",
       "14379 -0.068959  0.195010  0.065952  0.228317  0.197320 -0.189572  0.112492   \n",
       "\n",
       "             7         8         9   ...        90        91        92  \\\n",
       "0      0.208972 -0.068570  0.212443  ...  0.048583  0.127265 -0.069825   \n",
       "1      0.304389  0.028222  0.064186  ...  0.168143  0.127393  0.041316   \n",
       "2      0.182344 -0.044770  0.058861  ...  0.317513  0.102135  0.044914   \n",
       "3      0.351431 -0.054335  0.163187  ...  0.208688  0.137542 -0.070095   \n",
       "4      0.242913  0.048321 -0.062667  ...  0.311658  0.111635  0.115909   \n",
       "...         ...       ...       ...  ...       ...       ...       ...   \n",
       "14375  0.149331 -0.201807 -0.012295  ...  0.028441  0.146396 -0.252499   \n",
       "14376  0.231496  0.025897 -0.014048  ...  0.113352  0.096250 -0.002447   \n",
       "14377  0.241669 -0.171746  0.098344  ...  0.331588  0.178090 -0.126120   \n",
       "14378 -0.028612  0.108339 -0.102126  ...  0.180984  0.190317 -0.100234   \n",
       "14379  0.166214 -0.066072  0.370938  ... -0.017766  0.138609 -0.025496   \n",
       "\n",
       "             93        94        95        96        97        98        99  \n",
       "0     -0.144089 -0.100455 -0.157868  0.041255 -0.199506 -0.088287  0.000285  \n",
       "1     -0.109675 -0.103988 -0.093294  0.064802 -0.160943 -0.013352  0.002507  \n",
       "2     -0.201248 -0.195571  0.295452  0.174948  0.097004 -0.179747  0.145734  \n",
       "3     -0.028317 -0.066180  0.079849  0.120892 -0.080803 -0.121721  0.025689  \n",
       "4     -0.134199  0.083623  0.166885  0.214158  0.131958 -0.030432  0.154663  \n",
       "...         ...       ...       ...       ...       ...       ...       ...  \n",
       "14375 -0.001601 -0.137837  0.011168  0.140957 -0.035128  0.117698 -0.089379  \n",
       "14376  0.034710 -0.075592  0.036920  0.007457  0.033633  0.003268  0.020374  \n",
       "14377  0.100875 -0.202572 -0.087765  0.181459  0.244698  0.054240 -0.052346  \n",
       "14378 -0.027959 -0.118626  0.004075  0.182223 -0.059237 -0.036283 -0.100262  \n",
       "14379 -0.149728 -0.225892  0.048960 -0.165140 -0.096592 -0.121285  0.128370  \n",
       "\n",
       "[14380 rows x 100 columns]"
      ]
     },
     "execution_count": 38,
     "metadata": {},
     "output_type": "execute_result"
    }
   ],
   "source": [
    "test_mean_vector = pd.DataFrame(test_mean_vector)\n",
    "test_mean_vector"
   ]
  },
  {
   "cell_type": "code",
   "execution_count": null,
   "metadata": {},
   "outputs": [],
   "source": []
  },
  {
   "cell_type": "code",
   "execution_count": 39,
   "metadata": {},
   "outputs": [],
   "source": [
    "# income_occyp_type, income_age_type, edu_occyp_type, edu_income_type, family_income_type\n",
    "\n",
    "import random\n",
    "\n",
    "trn2=trn.reset_index().drop('index',axis=1).copy()\n",
    "trn2=trn2.reset_index()\n",
    "train_data=list(trn2.groupby('custid')['brd_nm'].unique())"
   ]
  },
  {
   "cell_type": "code",
   "execution_count": 40,
   "metadata": {},
   "outputs": [],
   "source": [
    "def oversample(x, n):\n",
    "    lst = []\n",
    "    for i in x:\n",
    "        tmp = []\n",
    "        for j in range(n):\n",
    "            random.shuffle(i)\n",
    "            tmp += list(i)\n",
    "            lst.append(tmp)\n",
    "    return lst"
   ]
  },
  {
   "cell_type": "code",
   "execution_count": 41,
   "metadata": {},
   "outputs": [],
   "source": [
    "w2v_input = oversample(train_data, 5)"
   ]
  },
  {
   "cell_type": "code",
   "execution_count": 42,
   "metadata": {},
   "outputs": [],
   "source": [
    "from gensim.models import word2vec\n",
    "\n",
    "w2v = word2vec.Word2Vec(sentences = w2v_input, vector_size = 100, window = 3, min_count = 1, sg = 1)"
   ]
  },
  {
   "cell_type": "code",
   "execution_count": 43,
   "metadata": {},
   "outputs": [
    {
     "name": "stderr",
     "output_type": "stream",
     "text": [
      "100%|█████████████████████████████████████████████████████████████████████████| 21587/21587 [00:01<00:00, 13982.20it/s]\n"
     ]
    }
   ],
   "source": [
    "train_mean_vector_2 = []\n",
    "for words in tqdm(train_data):\n",
    "    tmp = np.zeros(100)\n",
    "    cnt = 0\n",
    "    for word in words:\n",
    "        try:\n",
    "            tmp += w2v.wv[word]\n",
    "            cnt += 1\n",
    "        except:\n",
    "            pass\n",
    "    tmp /= cnt\n",
    "    train_mean_vector_2.append(tmp)\n",
    "train_mean_vector_2 = np.array(train_mean_vector_2)"
   ]
  },
  {
   "cell_type": "code",
   "execution_count": 44,
   "metadata": {},
   "outputs": [
    {
     "data": {
      "text/html": [
       "<div>\n",
       "<style scoped>\n",
       "    .dataframe tbody tr th:only-of-type {\n",
       "        vertical-align: middle;\n",
       "    }\n",
       "\n",
       "    .dataframe tbody tr th {\n",
       "        vertical-align: top;\n",
       "    }\n",
       "\n",
       "    .dataframe thead th {\n",
       "        text-align: right;\n",
       "    }\n",
       "</style>\n",
       "<table border=\"1\" class=\"dataframe\">\n",
       "  <thead>\n",
       "    <tr style=\"text-align: right;\">\n",
       "      <th></th>\n",
       "      <th>0</th>\n",
       "      <th>1</th>\n",
       "      <th>2</th>\n",
       "      <th>3</th>\n",
       "      <th>4</th>\n",
       "      <th>5</th>\n",
       "      <th>6</th>\n",
       "      <th>7</th>\n",
       "      <th>8</th>\n",
       "      <th>9</th>\n",
       "      <th>...</th>\n",
       "      <th>90</th>\n",
       "      <th>91</th>\n",
       "      <th>92</th>\n",
       "      <th>93</th>\n",
       "      <th>94</th>\n",
       "      <th>95</th>\n",
       "      <th>96</th>\n",
       "      <th>97</th>\n",
       "      <th>98</th>\n",
       "      <th>99</th>\n",
       "    </tr>\n",
       "  </thead>\n",
       "  <tbody>\n",
       "    <tr>\n",
       "      <th>0</th>\n",
       "      <td>-0.178344</td>\n",
       "      <td>0.105850</td>\n",
       "      <td>-0.000367</td>\n",
       "      <td>0.046563</td>\n",
       "      <td>-0.275848</td>\n",
       "      <td>0.108161</td>\n",
       "      <td>0.124965</td>\n",
       "      <td>0.130908</td>\n",
       "      <td>-0.189412</td>\n",
       "      <td>-0.264588</td>\n",
       "      <td>...</td>\n",
       "      <td>0.009121</td>\n",
       "      <td>-0.111270</td>\n",
       "      <td>0.143322</td>\n",
       "      <td>-0.014480</td>\n",
       "      <td>0.042040</td>\n",
       "      <td>-0.125660</td>\n",
       "      <td>0.087444</td>\n",
       "      <td>-0.000090</td>\n",
       "      <td>-0.111664</td>\n",
       "      <td>0.221831</td>\n",
       "    </tr>\n",
       "    <tr>\n",
       "      <th>1</th>\n",
       "      <td>-0.159742</td>\n",
       "      <td>0.021825</td>\n",
       "      <td>0.160372</td>\n",
       "      <td>0.068815</td>\n",
       "      <td>-0.257074</td>\n",
       "      <td>0.063985</td>\n",
       "      <td>0.025633</td>\n",
       "      <td>0.065681</td>\n",
       "      <td>-0.212946</td>\n",
       "      <td>-0.208971</td>\n",
       "      <td>...</td>\n",
       "      <td>0.015741</td>\n",
       "      <td>-0.015932</td>\n",
       "      <td>0.162089</td>\n",
       "      <td>0.002160</td>\n",
       "      <td>0.019100</td>\n",
       "      <td>-0.229261</td>\n",
       "      <td>-0.067889</td>\n",
       "      <td>-0.031362</td>\n",
       "      <td>-0.046352</td>\n",
       "      <td>0.243985</td>\n",
       "    </tr>\n",
       "    <tr>\n",
       "      <th>2</th>\n",
       "      <td>-0.285183</td>\n",
       "      <td>0.116465</td>\n",
       "      <td>0.064869</td>\n",
       "      <td>0.234074</td>\n",
       "      <td>-0.184961</td>\n",
       "      <td>0.125919</td>\n",
       "      <td>0.012431</td>\n",
       "      <td>0.038625</td>\n",
       "      <td>-0.119666</td>\n",
       "      <td>-0.128189</td>\n",
       "      <td>...</td>\n",
       "      <td>-0.020950</td>\n",
       "      <td>-0.022836</td>\n",
       "      <td>0.193000</td>\n",
       "      <td>-0.058724</td>\n",
       "      <td>0.062418</td>\n",
       "      <td>-0.077949</td>\n",
       "      <td>-0.043073</td>\n",
       "      <td>-0.120203</td>\n",
       "      <td>-0.160464</td>\n",
       "      <td>0.144444</td>\n",
       "    </tr>\n",
       "    <tr>\n",
       "      <th>3</th>\n",
       "      <td>-0.290505</td>\n",
       "      <td>0.083172</td>\n",
       "      <td>0.216535</td>\n",
       "      <td>0.110587</td>\n",
       "      <td>-0.097301</td>\n",
       "      <td>0.390241</td>\n",
       "      <td>-0.002257</td>\n",
       "      <td>0.118329</td>\n",
       "      <td>-0.333057</td>\n",
       "      <td>-0.408728</td>\n",
       "      <td>...</td>\n",
       "      <td>-0.214718</td>\n",
       "      <td>0.008400</td>\n",
       "      <td>0.009828</td>\n",
       "      <td>0.050159</td>\n",
       "      <td>0.185995</td>\n",
       "      <td>-0.046572</td>\n",
       "      <td>-0.154069</td>\n",
       "      <td>-0.114660</td>\n",
       "      <td>-0.023363</td>\n",
       "      <td>-0.124461</td>\n",
       "    </tr>\n",
       "    <tr>\n",
       "      <th>4</th>\n",
       "      <td>-0.231829</td>\n",
       "      <td>0.034202</td>\n",
       "      <td>0.023778</td>\n",
       "      <td>0.165390</td>\n",
       "      <td>-0.201471</td>\n",
       "      <td>0.074464</td>\n",
       "      <td>0.042276</td>\n",
       "      <td>0.098801</td>\n",
       "      <td>-0.110091</td>\n",
       "      <td>-0.159074</td>\n",
       "      <td>...</td>\n",
       "      <td>-0.050114</td>\n",
       "      <td>-0.040600</td>\n",
       "      <td>0.147433</td>\n",
       "      <td>-0.079258</td>\n",
       "      <td>-0.027340</td>\n",
       "      <td>-0.181252</td>\n",
       "      <td>0.022176</td>\n",
       "      <td>0.029429</td>\n",
       "      <td>-0.192105</td>\n",
       "      <td>0.155232</td>\n",
       "    </tr>\n",
       "    <tr>\n",
       "      <th>...</th>\n",
       "      <td>...</td>\n",
       "      <td>...</td>\n",
       "      <td>...</td>\n",
       "      <td>...</td>\n",
       "      <td>...</td>\n",
       "      <td>...</td>\n",
       "      <td>...</td>\n",
       "      <td>...</td>\n",
       "      <td>...</td>\n",
       "      <td>...</td>\n",
       "      <td>...</td>\n",
       "      <td>...</td>\n",
       "      <td>...</td>\n",
       "      <td>...</td>\n",
       "      <td>...</td>\n",
       "      <td>...</td>\n",
       "      <td>...</td>\n",
       "      <td>...</td>\n",
       "      <td>...</td>\n",
       "      <td>...</td>\n",
       "      <td>...</td>\n",
       "    </tr>\n",
       "    <tr>\n",
       "      <th>21582</th>\n",
       "      <td>-0.176824</td>\n",
       "      <td>0.071281</td>\n",
       "      <td>0.079347</td>\n",
       "      <td>0.101582</td>\n",
       "      <td>-0.105446</td>\n",
       "      <td>0.039295</td>\n",
       "      <td>0.026817</td>\n",
       "      <td>0.128958</td>\n",
       "      <td>-0.188847</td>\n",
       "      <td>-0.259928</td>\n",
       "      <td>...</td>\n",
       "      <td>-0.101068</td>\n",
       "      <td>-0.056316</td>\n",
       "      <td>0.196761</td>\n",
       "      <td>-0.058868</td>\n",
       "      <td>-0.024536</td>\n",
       "      <td>-0.055838</td>\n",
       "      <td>-0.080669</td>\n",
       "      <td>-0.041144</td>\n",
       "      <td>-0.154630</td>\n",
       "      <td>0.128005</td>\n",
       "    </tr>\n",
       "    <tr>\n",
       "      <th>21583</th>\n",
       "      <td>-0.228353</td>\n",
       "      <td>0.038323</td>\n",
       "      <td>0.112884</td>\n",
       "      <td>0.092016</td>\n",
       "      <td>-0.041935</td>\n",
       "      <td>0.038321</td>\n",
       "      <td>0.086642</td>\n",
       "      <td>0.010010</td>\n",
       "      <td>-0.153997</td>\n",
       "      <td>-0.316325</td>\n",
       "      <td>...</td>\n",
       "      <td>-0.087514</td>\n",
       "      <td>-0.163740</td>\n",
       "      <td>0.193717</td>\n",
       "      <td>-0.069007</td>\n",
       "      <td>0.128401</td>\n",
       "      <td>-0.078540</td>\n",
       "      <td>-0.130183</td>\n",
       "      <td>-0.086045</td>\n",
       "      <td>-0.077185</td>\n",
       "      <td>0.213188</td>\n",
       "    </tr>\n",
       "    <tr>\n",
       "      <th>21584</th>\n",
       "      <td>-0.191543</td>\n",
       "      <td>0.000382</td>\n",
       "      <td>0.120480</td>\n",
       "      <td>0.152677</td>\n",
       "      <td>-0.286981</td>\n",
       "      <td>-0.000413</td>\n",
       "      <td>0.085119</td>\n",
       "      <td>0.130209</td>\n",
       "      <td>-0.247474</td>\n",
       "      <td>-0.320288</td>\n",
       "      <td>...</td>\n",
       "      <td>0.028040</td>\n",
       "      <td>-0.064780</td>\n",
       "      <td>0.075344</td>\n",
       "      <td>0.041409</td>\n",
       "      <td>0.022361</td>\n",
       "      <td>-0.072043</td>\n",
       "      <td>-0.045915</td>\n",
       "      <td>0.054749</td>\n",
       "      <td>-0.197880</td>\n",
       "      <td>0.157196</td>\n",
       "    </tr>\n",
       "    <tr>\n",
       "      <th>21585</th>\n",
       "      <td>-0.101838</td>\n",
       "      <td>0.017738</td>\n",
       "      <td>0.036664</td>\n",
       "      <td>0.237069</td>\n",
       "      <td>-0.050111</td>\n",
       "      <td>0.054301</td>\n",
       "      <td>0.018627</td>\n",
       "      <td>-0.012816</td>\n",
       "      <td>-0.109608</td>\n",
       "      <td>-0.217939</td>\n",
       "      <td>...</td>\n",
       "      <td>0.048790</td>\n",
       "      <td>-0.076608</td>\n",
       "      <td>0.162124</td>\n",
       "      <td>-0.011795</td>\n",
       "      <td>0.143018</td>\n",
       "      <td>-0.102912</td>\n",
       "      <td>-0.123728</td>\n",
       "      <td>-0.005026</td>\n",
       "      <td>-0.117246</td>\n",
       "      <td>0.148187</td>\n",
       "    </tr>\n",
       "    <tr>\n",
       "      <th>21586</th>\n",
       "      <td>-0.369254</td>\n",
       "      <td>0.035723</td>\n",
       "      <td>-0.063104</td>\n",
       "      <td>0.008682</td>\n",
       "      <td>-0.186175</td>\n",
       "      <td>0.039715</td>\n",
       "      <td>0.096852</td>\n",
       "      <td>0.116358</td>\n",
       "      <td>-0.261876</td>\n",
       "      <td>-0.151232</td>\n",
       "      <td>...</td>\n",
       "      <td>0.011837</td>\n",
       "      <td>0.065221</td>\n",
       "      <td>0.219929</td>\n",
       "      <td>-0.049049</td>\n",
       "      <td>0.076563</td>\n",
       "      <td>-0.168116</td>\n",
       "      <td>-0.015382</td>\n",
       "      <td>-0.053168</td>\n",
       "      <td>-0.162216</td>\n",
       "      <td>0.203938</td>\n",
       "    </tr>\n",
       "  </tbody>\n",
       "</table>\n",
       "<p>21587 rows × 100 columns</p>\n",
       "</div>"
      ],
      "text/plain": [
       "             0         1         2         3         4         5         6   \\\n",
       "0     -0.178344  0.105850 -0.000367  0.046563 -0.275848  0.108161  0.124965   \n",
       "1     -0.159742  0.021825  0.160372  0.068815 -0.257074  0.063985  0.025633   \n",
       "2     -0.285183  0.116465  0.064869  0.234074 -0.184961  0.125919  0.012431   \n",
       "3     -0.290505  0.083172  0.216535  0.110587 -0.097301  0.390241 -0.002257   \n",
       "4     -0.231829  0.034202  0.023778  0.165390 -0.201471  0.074464  0.042276   \n",
       "...         ...       ...       ...       ...       ...       ...       ...   \n",
       "21582 -0.176824  0.071281  0.079347  0.101582 -0.105446  0.039295  0.026817   \n",
       "21583 -0.228353  0.038323  0.112884  0.092016 -0.041935  0.038321  0.086642   \n",
       "21584 -0.191543  0.000382  0.120480  0.152677 -0.286981 -0.000413  0.085119   \n",
       "21585 -0.101838  0.017738  0.036664  0.237069 -0.050111  0.054301  0.018627   \n",
       "21586 -0.369254  0.035723 -0.063104  0.008682 -0.186175  0.039715  0.096852   \n",
       "\n",
       "             7         8         9   ...        90        91        92  \\\n",
       "0      0.130908 -0.189412 -0.264588  ...  0.009121 -0.111270  0.143322   \n",
       "1      0.065681 -0.212946 -0.208971  ...  0.015741 -0.015932  0.162089   \n",
       "2      0.038625 -0.119666 -0.128189  ... -0.020950 -0.022836  0.193000   \n",
       "3      0.118329 -0.333057 -0.408728  ... -0.214718  0.008400  0.009828   \n",
       "4      0.098801 -0.110091 -0.159074  ... -0.050114 -0.040600  0.147433   \n",
       "...         ...       ...       ...  ...       ...       ...       ...   \n",
       "21582  0.128958 -0.188847 -0.259928  ... -0.101068 -0.056316  0.196761   \n",
       "21583  0.010010 -0.153997 -0.316325  ... -0.087514 -0.163740  0.193717   \n",
       "21584  0.130209 -0.247474 -0.320288  ...  0.028040 -0.064780  0.075344   \n",
       "21585 -0.012816 -0.109608 -0.217939  ...  0.048790 -0.076608  0.162124   \n",
       "21586  0.116358 -0.261876 -0.151232  ...  0.011837  0.065221  0.219929   \n",
       "\n",
       "             93        94        95        96        97        98        99  \n",
       "0     -0.014480  0.042040 -0.125660  0.087444 -0.000090 -0.111664  0.221831  \n",
       "1      0.002160  0.019100 -0.229261 -0.067889 -0.031362 -0.046352  0.243985  \n",
       "2     -0.058724  0.062418 -0.077949 -0.043073 -0.120203 -0.160464  0.144444  \n",
       "3      0.050159  0.185995 -0.046572 -0.154069 -0.114660 -0.023363 -0.124461  \n",
       "4     -0.079258 -0.027340 -0.181252  0.022176  0.029429 -0.192105  0.155232  \n",
       "...         ...       ...       ...       ...       ...       ...       ...  \n",
       "21582 -0.058868 -0.024536 -0.055838 -0.080669 -0.041144 -0.154630  0.128005  \n",
       "21583 -0.069007  0.128401 -0.078540 -0.130183 -0.086045 -0.077185  0.213188  \n",
       "21584  0.041409  0.022361 -0.072043 -0.045915  0.054749 -0.197880  0.157196  \n",
       "21585 -0.011795  0.143018 -0.102912 -0.123728 -0.005026 -0.117246  0.148187  \n",
       "21586 -0.049049  0.076563 -0.168116 -0.015382 -0.053168 -0.162216  0.203938  \n",
       "\n",
       "[21587 rows x 100 columns]"
      ]
     },
     "execution_count": 44,
     "metadata": {},
     "output_type": "execute_result"
    }
   ],
   "source": [
    "train_mean_vector_2 = pd.DataFrame(train_mean_vector_2)\n",
    "train_mean_vector_2"
   ]
  },
  {
   "cell_type": "code",
   "execution_count": 45,
   "metadata": {},
   "outputs": [],
   "source": [
    "# income_occyp_type, income_age_type, edu_occyp_type, edu_income_type, family_income_type\n",
    "\n",
    "import random\n",
    "\n",
    "tst2=tst.reset_index().drop('index',axis=1).copy()\n",
    "tst2=tst2.reset_index()\n",
    "test_data=list(tst2.groupby('custid')['brd_nm'].unique())"
   ]
  },
  {
   "cell_type": "code",
   "execution_count": 46,
   "metadata": {},
   "outputs": [
    {
     "name": "stderr",
     "output_type": "stream",
     "text": [
      "100%|█████████████████████████████████████████████████████████████████████████| 14380/14380 [00:01<00:00, 13713.21it/s]\n"
     ]
    }
   ],
   "source": [
    "test_mean_vector_2 = []\n",
    "for words in tqdm(test_data):\n",
    "    tmp = np.zeros(100)\n",
    "    cnt = 0\n",
    "    for word in words:\n",
    "        try:\n",
    "            tmp += w2v.wv[word]\n",
    "            cnt += 1\n",
    "        except:\n",
    "            pass\n",
    "    tmp /= cnt\n",
    "    test_mean_vector_2.append(tmp)\n",
    "test_mean_vector_2 = np.array(test_mean_vector_2)"
   ]
  },
  {
   "cell_type": "code",
   "execution_count": 47,
   "metadata": {},
   "outputs": [
    {
     "data": {
      "text/html": [
       "<div>\n",
       "<style scoped>\n",
       "    .dataframe tbody tr th:only-of-type {\n",
       "        vertical-align: middle;\n",
       "    }\n",
       "\n",
       "    .dataframe tbody tr th {\n",
       "        vertical-align: top;\n",
       "    }\n",
       "\n",
       "    .dataframe thead th {\n",
       "        text-align: right;\n",
       "    }\n",
       "</style>\n",
       "<table border=\"1\" class=\"dataframe\">\n",
       "  <thead>\n",
       "    <tr style=\"text-align: right;\">\n",
       "      <th></th>\n",
       "      <th>0</th>\n",
       "      <th>1</th>\n",
       "      <th>2</th>\n",
       "      <th>3</th>\n",
       "      <th>4</th>\n",
       "      <th>5</th>\n",
       "      <th>6</th>\n",
       "      <th>7</th>\n",
       "      <th>8</th>\n",
       "      <th>9</th>\n",
       "      <th>...</th>\n",
       "      <th>90</th>\n",
       "      <th>91</th>\n",
       "      <th>92</th>\n",
       "      <th>93</th>\n",
       "      <th>94</th>\n",
       "      <th>95</th>\n",
       "      <th>96</th>\n",
       "      <th>97</th>\n",
       "      <th>98</th>\n",
       "      <th>99</th>\n",
       "    </tr>\n",
       "  </thead>\n",
       "  <tbody>\n",
       "    <tr>\n",
       "      <th>0</th>\n",
       "      <td>-0.206838</td>\n",
       "      <td>0.167460</td>\n",
       "      <td>0.000779</td>\n",
       "      <td>0.016562</td>\n",
       "      <td>-0.200798</td>\n",
       "      <td>0.147325</td>\n",
       "      <td>-0.013143</td>\n",
       "      <td>0.080544</td>\n",
       "      <td>-0.182752</td>\n",
       "      <td>-0.170307</td>\n",
       "      <td>...</td>\n",
       "      <td>-0.004497</td>\n",
       "      <td>-0.015271</td>\n",
       "      <td>0.143416</td>\n",
       "      <td>-0.001277</td>\n",
       "      <td>0.005580</td>\n",
       "      <td>-0.177626</td>\n",
       "      <td>0.018077</td>\n",
       "      <td>-0.015047</td>\n",
       "      <td>-0.065258</td>\n",
       "      <td>0.199905</td>\n",
       "    </tr>\n",
       "    <tr>\n",
       "      <th>1</th>\n",
       "      <td>-0.165584</td>\n",
       "      <td>0.068428</td>\n",
       "      <td>0.071313</td>\n",
       "      <td>0.135421</td>\n",
       "      <td>-0.164613</td>\n",
       "      <td>0.034201</td>\n",
       "      <td>0.058631</td>\n",
       "      <td>0.118954</td>\n",
       "      <td>-0.154230</td>\n",
       "      <td>-0.206022</td>\n",
       "      <td>...</td>\n",
       "      <td>-0.019304</td>\n",
       "      <td>-0.086523</td>\n",
       "      <td>0.129896</td>\n",
       "      <td>-0.096303</td>\n",
       "      <td>0.054745</td>\n",
       "      <td>-0.152090</td>\n",
       "      <td>-0.026188</td>\n",
       "      <td>0.019808</td>\n",
       "      <td>-0.132540</td>\n",
       "      <td>0.160860</td>\n",
       "    </tr>\n",
       "    <tr>\n",
       "      <th>2</th>\n",
       "      <td>-0.243817</td>\n",
       "      <td>-0.027718</td>\n",
       "      <td>0.140094</td>\n",
       "      <td>0.136712</td>\n",
       "      <td>-0.198732</td>\n",
       "      <td>0.189112</td>\n",
       "      <td>0.162729</td>\n",
       "      <td>-0.074721</td>\n",
       "      <td>-0.139128</td>\n",
       "      <td>-0.258932</td>\n",
       "      <td>...</td>\n",
       "      <td>-0.091955</td>\n",
       "      <td>-0.123720</td>\n",
       "      <td>0.120187</td>\n",
       "      <td>-0.073211</td>\n",
       "      <td>0.032595</td>\n",
       "      <td>-0.080989</td>\n",
       "      <td>-0.120131</td>\n",
       "      <td>-0.056888</td>\n",
       "      <td>-0.082997</td>\n",
       "      <td>0.138445</td>\n",
       "    </tr>\n",
       "    <tr>\n",
       "      <th>3</th>\n",
       "      <td>-0.207972</td>\n",
       "      <td>-0.066215</td>\n",
       "      <td>0.110911</td>\n",
       "      <td>0.226881</td>\n",
       "      <td>-0.036370</td>\n",
       "      <td>0.083503</td>\n",
       "      <td>0.114363</td>\n",
       "      <td>0.059260</td>\n",
       "      <td>-0.236970</td>\n",
       "      <td>-0.355303</td>\n",
       "      <td>...</td>\n",
       "      <td>-0.012446</td>\n",
       "      <td>-0.071517</td>\n",
       "      <td>0.202670</td>\n",
       "      <td>-0.015149</td>\n",
       "      <td>0.065785</td>\n",
       "      <td>-0.051563</td>\n",
       "      <td>-0.136461</td>\n",
       "      <td>-0.053072</td>\n",
       "      <td>0.095391</td>\n",
       "      <td>0.347672</td>\n",
       "    </tr>\n",
       "    <tr>\n",
       "      <th>4</th>\n",
       "      <td>-0.250290</td>\n",
       "      <td>-0.058977</td>\n",
       "      <td>0.036890</td>\n",
       "      <td>0.080139</td>\n",
       "      <td>-0.114835</td>\n",
       "      <td>0.048564</td>\n",
       "      <td>0.028253</td>\n",
       "      <td>0.035690</td>\n",
       "      <td>-0.175025</td>\n",
       "      <td>-0.166582</td>\n",
       "      <td>...</td>\n",
       "      <td>-0.034739</td>\n",
       "      <td>-0.105624</td>\n",
       "      <td>0.168097</td>\n",
       "      <td>-0.115262</td>\n",
       "      <td>-0.047710</td>\n",
       "      <td>-0.100699</td>\n",
       "      <td>-0.050854</td>\n",
       "      <td>0.051047</td>\n",
       "      <td>-0.154485</td>\n",
       "      <td>0.211251</td>\n",
       "    </tr>\n",
       "    <tr>\n",
       "      <th>...</th>\n",
       "      <td>...</td>\n",
       "      <td>...</td>\n",
       "      <td>...</td>\n",
       "      <td>...</td>\n",
       "      <td>...</td>\n",
       "      <td>...</td>\n",
       "      <td>...</td>\n",
       "      <td>...</td>\n",
       "      <td>...</td>\n",
       "      <td>...</td>\n",
       "      <td>...</td>\n",
       "      <td>...</td>\n",
       "      <td>...</td>\n",
       "      <td>...</td>\n",
       "      <td>...</td>\n",
       "      <td>...</td>\n",
       "      <td>...</td>\n",
       "      <td>...</td>\n",
       "      <td>...</td>\n",
       "      <td>...</td>\n",
       "      <td>...</td>\n",
       "    </tr>\n",
       "    <tr>\n",
       "      <th>14375</th>\n",
       "      <td>-0.283718</td>\n",
       "      <td>0.078619</td>\n",
       "      <td>0.057053</td>\n",
       "      <td>0.215036</td>\n",
       "      <td>-0.348992</td>\n",
       "      <td>0.054950</td>\n",
       "      <td>0.074013</td>\n",
       "      <td>0.178097</td>\n",
       "      <td>-0.174814</td>\n",
       "      <td>-0.240574</td>\n",
       "      <td>...</td>\n",
       "      <td>-0.301440</td>\n",
       "      <td>-0.050172</td>\n",
       "      <td>0.136164</td>\n",
       "      <td>-0.197191</td>\n",
       "      <td>0.035007</td>\n",
       "      <td>-0.160246</td>\n",
       "      <td>-0.060941</td>\n",
       "      <td>0.013558</td>\n",
       "      <td>-0.311837</td>\n",
       "      <td>0.251957</td>\n",
       "    </tr>\n",
       "    <tr>\n",
       "      <th>14376</th>\n",
       "      <td>-0.171232</td>\n",
       "      <td>-0.129878</td>\n",
       "      <td>0.046225</td>\n",
       "      <td>0.129231</td>\n",
       "      <td>-0.283436</td>\n",
       "      <td>0.189212</td>\n",
       "      <td>0.193102</td>\n",
       "      <td>-0.014398</td>\n",
       "      <td>-0.158307</td>\n",
       "      <td>-0.252301</td>\n",
       "      <td>...</td>\n",
       "      <td>-0.010293</td>\n",
       "      <td>-0.189415</td>\n",
       "      <td>0.047693</td>\n",
       "      <td>-0.049922</td>\n",
       "      <td>-0.089928</td>\n",
       "      <td>-0.096680</td>\n",
       "      <td>-0.089367</td>\n",
       "      <td>0.252171</td>\n",
       "      <td>-0.169873</td>\n",
       "      <td>0.318054</td>\n",
       "    </tr>\n",
       "    <tr>\n",
       "      <th>14377</th>\n",
       "      <td>-0.157498</td>\n",
       "      <td>0.057496</td>\n",
       "      <td>0.085162</td>\n",
       "      <td>0.044260</td>\n",
       "      <td>-0.239347</td>\n",
       "      <td>0.133134</td>\n",
       "      <td>0.049829</td>\n",
       "      <td>0.254204</td>\n",
       "      <td>-0.199186</td>\n",
       "      <td>-0.092021</td>\n",
       "      <td>...</td>\n",
       "      <td>-0.084553</td>\n",
       "      <td>0.039290</td>\n",
       "      <td>0.149201</td>\n",
       "      <td>-0.268059</td>\n",
       "      <td>0.118222</td>\n",
       "      <td>-0.172335</td>\n",
       "      <td>0.034922</td>\n",
       "      <td>0.201777</td>\n",
       "      <td>-0.151267</td>\n",
       "      <td>0.188443</td>\n",
       "    </tr>\n",
       "    <tr>\n",
       "      <th>14378</th>\n",
       "      <td>-0.164044</td>\n",
       "      <td>-0.078153</td>\n",
       "      <td>0.083420</td>\n",
       "      <td>0.166603</td>\n",
       "      <td>-0.368248</td>\n",
       "      <td>0.148491</td>\n",
       "      <td>0.061132</td>\n",
       "      <td>0.035519</td>\n",
       "      <td>-0.087845</td>\n",
       "      <td>-0.079247</td>\n",
       "      <td>...</td>\n",
       "      <td>-0.064491</td>\n",
       "      <td>-0.041648</td>\n",
       "      <td>0.207485</td>\n",
       "      <td>-0.080112</td>\n",
       "      <td>0.037100</td>\n",
       "      <td>-0.097280</td>\n",
       "      <td>-0.154013</td>\n",
       "      <td>-0.025294</td>\n",
       "      <td>-0.200387</td>\n",
       "      <td>0.114565</td>\n",
       "    </tr>\n",
       "    <tr>\n",
       "      <th>14379</th>\n",
       "      <td>-0.197673</td>\n",
       "      <td>0.124712</td>\n",
       "      <td>0.015266</td>\n",
       "      <td>0.126311</td>\n",
       "      <td>-0.122272</td>\n",
       "      <td>0.099446</td>\n",
       "      <td>0.022821</td>\n",
       "      <td>-0.048337</td>\n",
       "      <td>-0.204004</td>\n",
       "      <td>-0.178320</td>\n",
       "      <td>...</td>\n",
       "      <td>-0.028358</td>\n",
       "      <td>-0.098916</td>\n",
       "      <td>0.052274</td>\n",
       "      <td>-0.081757</td>\n",
       "      <td>-0.072733</td>\n",
       "      <td>-0.127380</td>\n",
       "      <td>0.017099</td>\n",
       "      <td>0.182605</td>\n",
       "      <td>-0.082427</td>\n",
       "      <td>0.355232</td>\n",
       "    </tr>\n",
       "  </tbody>\n",
       "</table>\n",
       "<p>14380 rows × 100 columns</p>\n",
       "</div>"
      ],
      "text/plain": [
       "             0         1         2         3         4         5         6   \\\n",
       "0     -0.206838  0.167460  0.000779  0.016562 -0.200798  0.147325 -0.013143   \n",
       "1     -0.165584  0.068428  0.071313  0.135421 -0.164613  0.034201  0.058631   \n",
       "2     -0.243817 -0.027718  0.140094  0.136712 -0.198732  0.189112  0.162729   \n",
       "3     -0.207972 -0.066215  0.110911  0.226881 -0.036370  0.083503  0.114363   \n",
       "4     -0.250290 -0.058977  0.036890  0.080139 -0.114835  0.048564  0.028253   \n",
       "...         ...       ...       ...       ...       ...       ...       ...   \n",
       "14375 -0.283718  0.078619  0.057053  0.215036 -0.348992  0.054950  0.074013   \n",
       "14376 -0.171232 -0.129878  0.046225  0.129231 -0.283436  0.189212  0.193102   \n",
       "14377 -0.157498  0.057496  0.085162  0.044260 -0.239347  0.133134  0.049829   \n",
       "14378 -0.164044 -0.078153  0.083420  0.166603 -0.368248  0.148491  0.061132   \n",
       "14379 -0.197673  0.124712  0.015266  0.126311 -0.122272  0.099446  0.022821   \n",
       "\n",
       "             7         8         9   ...        90        91        92  \\\n",
       "0      0.080544 -0.182752 -0.170307  ... -0.004497 -0.015271  0.143416   \n",
       "1      0.118954 -0.154230 -0.206022  ... -0.019304 -0.086523  0.129896   \n",
       "2     -0.074721 -0.139128 -0.258932  ... -0.091955 -0.123720  0.120187   \n",
       "3      0.059260 -0.236970 -0.355303  ... -0.012446 -0.071517  0.202670   \n",
       "4      0.035690 -0.175025 -0.166582  ... -0.034739 -0.105624  0.168097   \n",
       "...         ...       ...       ...  ...       ...       ...       ...   \n",
       "14375  0.178097 -0.174814 -0.240574  ... -0.301440 -0.050172  0.136164   \n",
       "14376 -0.014398 -0.158307 -0.252301  ... -0.010293 -0.189415  0.047693   \n",
       "14377  0.254204 -0.199186 -0.092021  ... -0.084553  0.039290  0.149201   \n",
       "14378  0.035519 -0.087845 -0.079247  ... -0.064491 -0.041648  0.207485   \n",
       "14379 -0.048337 -0.204004 -0.178320  ... -0.028358 -0.098916  0.052274   \n",
       "\n",
       "             93        94        95        96        97        98        99  \n",
       "0     -0.001277  0.005580 -0.177626  0.018077 -0.015047 -0.065258  0.199905  \n",
       "1     -0.096303  0.054745 -0.152090 -0.026188  0.019808 -0.132540  0.160860  \n",
       "2     -0.073211  0.032595 -0.080989 -0.120131 -0.056888 -0.082997  0.138445  \n",
       "3     -0.015149  0.065785 -0.051563 -0.136461 -0.053072  0.095391  0.347672  \n",
       "4     -0.115262 -0.047710 -0.100699 -0.050854  0.051047 -0.154485  0.211251  \n",
       "...         ...       ...       ...       ...       ...       ...       ...  \n",
       "14375 -0.197191  0.035007 -0.160246 -0.060941  0.013558 -0.311837  0.251957  \n",
       "14376 -0.049922 -0.089928 -0.096680 -0.089367  0.252171 -0.169873  0.318054  \n",
       "14377 -0.268059  0.118222 -0.172335  0.034922  0.201777 -0.151267  0.188443  \n",
       "14378 -0.080112  0.037100 -0.097280 -0.154013 -0.025294 -0.200387  0.114565  \n",
       "14379 -0.081757 -0.072733 -0.127380  0.017099  0.182605 -0.082427  0.355232  \n",
       "\n",
       "[14380 rows x 100 columns]"
      ]
     },
     "execution_count": 47,
     "metadata": {},
     "output_type": "execute_result"
    }
   ],
   "source": [
    "test_mean_vector_2 = pd.DataFrame(test_mean_vector_2)\n",
    "test_mean_vector_2"
   ]
  },
  {
   "cell_type": "code",
   "execution_count": null,
   "metadata": {},
   "outputs": [],
   "source": []
  },
  {
   "cell_type": "code",
   "execution_count": 48,
   "metadata": {},
   "outputs": [],
   "source": [
    "# sales time - 아침/ 낮/ 밤 구매 나누기\n",
    "data['sales_time'] = data['sales_time'].apply(lambda x: int(str(x)[:2]) if len(str(x)) == 4 else int(str(x)[:1]))\n",
    "data['sales_time_cat'] = data['sales_time'].apply(lambda x: 'mo_sales' if (9 <= x <= 12) else ('af_sales' if (13 <= x <= 18) else 'knt_sales'))"
   ]
  },
  {
   "cell_type": "code",
   "execution_count": 49,
   "metadata": {},
   "outputs": [],
   "source": [
    "# dis_amt - 할인율 특성 추가\n",
    "data['dis_rate'] = data['dis_amt']/data['tot_amt']"
   ]
  },
  {
   "cell_type": "code",
   "execution_count": 50,
   "metadata": {},
   "outputs": [],
   "source": [
    "# 퇴근전/후 구매 빈도, 비율\n",
    "def get_off_work(x):\n",
    "    if 9<=x<=17:\n",
    "        return('bf_work')\n",
    "    else:\n",
    "        return('af_work')"
   ]
  },
  {
   "cell_type": "code",
   "execution_count": 51,
   "metadata": {},
   "outputs": [],
   "source": [
    "data['sales_type'] = data['sales_time'].map(get_off_work)"
   ]
  },
  {
   "cell_type": "markdown",
   "metadata": {},
   "source": [
    "시간별 구매 횟수"
   ]
  },
  {
   "cell_type": "code",
   "execution_count": 52,
   "metadata": {},
   "outputs": [],
   "source": [
    "freq_per_time = pd.pivot_table(index='custid',columns='sales_time',values='tot_amt',aggfunc=np.size, fill_value=0, data=data.query(\"tot_amt>0\")[['custid','sales_time','tot_amt']]).reset_index()"
   ]
  },
  {
   "cell_type": "code",
   "execution_count": 53,
   "metadata": {},
   "outputs": [],
   "source": [
    "sales_type = pd.pivot_table(index='custid',columns='sales_type',values='tot_amt',aggfunc=np.size, fill_value=0,data = data.query('tot_amt>0')[['custid','sales_type','tot_amt']]).reset_index()"
   ]
  },
  {
   "cell_type": "code",
   "execution_count": 54,
   "metadata": {},
   "outputs": [],
   "source": [
    "freq_per_time.columns=['custid', '1_stf', '9_stf', \"10_stf\", '11_stf', '12_stf', '13_stf', '14_stf', '15_stf', '16_stf', '17_stf', '18_stf', '19_stf', '20_stf', '21_stf', '22_stf']"
   ]
  },
  {
   "cell_type": "code",
   "execution_count": 55,
   "metadata": {},
   "outputs": [],
   "source": [
    "features = pd.merge(freq_per_time, sales_type, on = 'custid')"
   ]
  },
  {
   "cell_type": "code",
   "execution_count": 56,
   "metadata": {},
   "outputs": [],
   "source": [
    "features = pd.merge(features, shop_time, on = 'custid')"
   ]
  },
  {
   "cell_type": "code",
   "execution_count": 57,
   "metadata": {},
   "outputs": [],
   "source": [
    "features = pd.merge(features, dtdt_mean, on = 'custid')"
   ]
  },
  {
   "cell_type": "code",
   "execution_count": 58,
   "metadata": {},
   "outputs": [],
   "source": [
    "def floor_transfer_a(x) :\n",
    "    return  {\n",
    "        \"무역점\" : 0,\n",
    "        \"본점\" : 1,\n",
    "        \"신촌점\" : 0,\n",
    "        \"천호점\" : 1\n",
    "    }.get(x)\n",
    "\n",
    "def floor_transfer_m(x) :  \n",
    "    return  {\n",
    "        \"무역점\" : 1/10*13,\n",
    "        \"본점\" : 1/6*13,\n",
    "        \"신촌점\" : 1/11*13,\n",
    "        \"천호점\" : 1\n",
    "    }.get(x)\n",
    "data['floor'] = (data.str_nm.apply(floor_transfer_a))*data.str_nm.apply(floor_transfer_m).astype(int)"
   ]
  },
  {
   "cell_type": "code",
   "execution_count": 59,
   "metadata": {},
   "outputs": [],
   "source": [
    "features = pd.merge(features, data.groupby('custid')['floor'].mean().reset_index(), on = 'custid')"
   ]
  },
  {
   "cell_type": "code",
   "execution_count": null,
   "metadata": {},
   "outputs": [],
   "source": []
  },
  {
   "cell_type": "code",
   "execution_count": 60,
   "metadata": {},
   "outputs": [],
   "source": [
    "features['af_work_rate'] = features['af_work']/(features['af_work'] + features['bf_work'])\n",
    "features['bf_work_rate'] = features['bf_work']/(features['af_work'] + features['bf_work'])"
   ]
  },
  {
   "cell_type": "code",
   "execution_count": 61,
   "metadata": {},
   "outputs": [],
   "source": [
    "# 아침구매/ 낮구매/ 밤구매\n",
    "freq_sales_cat = pd.pivot_table(index='custid',columns='sales_time_cat',values='tot_amt',aggfunc=np.size, fill_value=0, data=data.query(\"tot_amt>0\")[['custid','sales_time_cat','tot_amt']]).reset_index()\n",
    "features = pd.merge(features, freq_sales_cat,on='custid')"
   ]
  },
  {
   "cell_type": "code",
   "execution_count": null,
   "metadata": {},
   "outputs": [],
   "source": []
  },
  {
   "cell_type": "code",
   "execution_count": 62,
   "metadata": {},
   "outputs": [],
   "source": [
    "refund_freq=data.query('tot_amt<0').groupby('custid')['sales_day'].count().reset_index()\n",
    "features = pd.merge(features, refund_freq, left_on = 'custid',right_on='custid',how='left')\n",
    "features.rename(columns = {'sales_day': 'refund_freq'},inplace=True)\n",
    "features.fillna(0,inplace=True)"
   ]
  },
  {
   "cell_type": "code",
   "execution_count": 63,
   "metadata": {},
   "outputs": [],
   "source": [
    "sales_freq=data.query('tot_amt>0').groupby('custid')['sales_day'].count().reset_index()\n",
    "features = pd.merge(features, sales_freq, left_on = 'custid',right_on='custid',how='left')\n",
    "features.rename(columns = {'sales_day': 'sales_freq'},inplace=True)"
   ]
  },
  {
   "cell_type": "code",
   "execution_count": 64,
   "metadata": {},
   "outputs": [],
   "source": [
    "# 구매 빈도 특성 추가\n",
    "all_freq=data.groupby('custid')['sales_day'].count().reset_index()\n",
    "features = pd.merge(features, all_freq,  left_on = 'custid',right_on='custid',how='left')\n",
    "features.rename(columns = {'sales_day': 'all_freq'},inplace=True)"
   ]
  },
  {
   "cell_type": "code",
   "execution_count": 65,
   "metadata": {},
   "outputs": [],
   "source": [
    "features['refund_sales_rate']=features['refund_freq']/features['sales_freq']\n",
    "features['refund_all_rate'] = features['refund_freq']/features['all_freq']"
   ]
  },
  {
   "cell_type": "markdown",
   "metadata": {},
   "source": [
    "방문한 날짜의 갯수"
   ]
  },
  {
   "cell_type": "code",
   "execution_count": 66,
   "metadata": {},
   "outputs": [],
   "source": [
    "data_aaa=data.groupby(['custid','sales_month','sales_day'])['sales_dayofweek'].count().reset_index()"
   ]
  },
  {
   "cell_type": "code",
   "execution_count": 67,
   "metadata": {},
   "outputs": [],
   "source": [
    "data_aaa.sales_dayofweek=1"
   ]
  },
  {
   "cell_type": "code",
   "execution_count": 68,
   "metadata": {},
   "outputs": [],
   "source": [
    "data_aaa=data_aaa.groupby('custid')['sales_dayofweek'].sum().reset_index()"
   ]
  },
  {
   "cell_type": "code",
   "execution_count": 69,
   "metadata": {},
   "outputs": [],
   "source": [
    "features = pd.merge(features, data_aaa, on = 'custid')"
   ]
  },
  {
   "cell_type": "code",
   "execution_count": 70,
   "metadata": {},
   "outputs": [],
   "source": [
    "features['sales_freq_mean']=features['sales_freq']/features['sales_dayofweek']"
   ]
  },
  {
   "cell_type": "markdown",
   "metadata": {},
   "source": [
    "평일에 방문하는 평균 시간"
   ]
  },
  {
   "cell_type": "code",
   "execution_count": 71,
   "metadata": {},
   "outputs": [],
   "source": [
    "vuddlf=data[data.weekend==0].groupby('custid')['sales_time'].mean().reset_index()"
   ]
  },
  {
   "cell_type": "code",
   "execution_count": 72,
   "metadata": {},
   "outputs": [],
   "source": [
    "features = pd.merge(features, vuddlf, how='left',on = 'custid')"
   ]
  },
  {
   "cell_type": "code",
   "execution_count": 73,
   "metadata": {},
   "outputs": [],
   "source": [
    "wkdtjdgus=data[data.weekend==0].groupby('custid')['sales_time'].agg([('sales_time_mod', lambda x: x.value_counts().index[0])]).reset_index()"
   ]
  },
  {
   "cell_type": "code",
   "execution_count": 74,
   "metadata": {},
   "outputs": [],
   "source": [
    "features = pd.merge(features, wkdtjdgus, how='left',on = 'custid')"
   ]
  },
  {
   "cell_type": "markdown",
   "metadata": {},
   "source": [
    "주말에 방문하는 평균 시간"
   ]
  },
  {
   "cell_type": "code",
   "execution_count": 75,
   "metadata": {},
   "outputs": [],
   "source": [
    "wnakf=data[data.weekend==1].groupby('custid')['sales_time'].mean().reset_index()"
   ]
  },
  {
   "cell_type": "code",
   "execution_count": 76,
   "metadata": {},
   "outputs": [],
   "source": [
    "features = pd.merge(features, wnakf, how='left',on = 'custid')"
   ]
  },
  {
   "cell_type": "code",
   "execution_count": 77,
   "metadata": {},
   "outputs": [],
   "source": [
    "wkdtjdgus=data[data.weekend==1].groupby('custid')['sales_time'].agg([('sales_time_mod', lambda x: x.value_counts().index[0])]).reset_index()"
   ]
  },
  {
   "cell_type": "code",
   "execution_count": 78,
   "metadata": {},
   "outputs": [],
   "source": [
    "features = pd.merge(features, wkdtjdgus, how='left',on = 'custid')"
   ]
  },
  {
   "cell_type": "code",
   "execution_count": 79,
   "metadata": {},
   "outputs": [],
   "source": [
    "# 수입상품 관련 열\n",
    "sales_import=data.groupby('custid')['import_flg'].agg('sum').reset_index()\n",
    "features = pd.merge(features, sales_import, on = 'custid')\n",
    "\n",
    "features.rename(columns = {'import_flg': 'sales_import'},inplace=True)"
   ]
  },
  {
   "cell_type": "code",
   "execution_count": 80,
   "metadata": {},
   "outputs": [],
   "source": [
    "# 수입상품 구매 빈도 추가\n",
    "features['import_rate']=features['sales_import']/features['sales_freq']"
   ]
  },
  {
   "cell_type": "code",
   "execution_count": 81,
   "metadata": {},
   "outputs": [],
   "source": [
    "# 수입상품 환불 빈도 추가\n",
    "features['import_refund_rate']=features['sales_import']/(features['refund_freq']+1)"
   ]
  },
  {
   "cell_type": "code",
   "execution_count": 82,
   "metadata": {},
   "outputs": [],
   "source": [
    "# 계절별 구매 빈도 추가\n",
    "def f1(x):\n",
    "    if 3 <= x <= 5 :\n",
    "        return('spring_sales')\n",
    "    elif 6 <= x <= 8 :\n",
    "        return('summer_sales')\n",
    "    elif 9 <= x <= 11 :\n",
    "        return('fall_sales')\n",
    "    else :\n",
    "        return('winter_sales')    "
   ]
  },
  {
   "cell_type": "code",
   "execution_count": 83,
   "metadata": {},
   "outputs": [],
   "source": [
    "data['season_sales']=data['sales_month'].apply(f1)"
   ]
  },
  {
   "cell_type": "code",
   "execution_count": 84,
   "metadata": {},
   "outputs": [],
   "source": [
    "season = pd.pivot_table(data, index='custid', columns='season_sales', values='tot_amt', \n",
    "                   aggfunc=np.size, fill_value=0).reset_index()\n",
    "features = pd.merge(features, season, how='left',on = 'custid')"
   ]
  },
  {
   "cell_type": "code",
   "execution_count": 85,
   "metadata": {},
   "outputs": [],
   "source": [
    "#계절별 구매만 빈도\n",
    "season_sales_freq = pd.pivot_table(index='custid',columns='season_sales',values='tot_amt',aggfunc=np.size, fill_value=0, data=data.query(\"tot_amt>0\")[['custid','season_sales','tot_amt']]).reset_index()\n",
    "features = pd.merge(features, season_sales_freq, how='left',on = 'custid')"
   ]
  },
  {
   "cell_type": "code",
   "execution_count": 86,
   "metadata": {},
   "outputs": [],
   "source": [
    "#계절별 환불만 빈도\n",
    "season_refund_freq = pd.pivot_table(index='custid',columns='season_sales',values='tot_amt',aggfunc=np.size, fill_value=0, data=data.query(\"tot_amt<0\")[['custid','season_sales','tot_amt']]).reset_index()\n",
    "features = pd.merge(features, season_refund_freq, how='left',on = 'custid')\n",
    "features.fillna(0,inplace=True)"
   ]
  },
  {
   "cell_type": "code",
   "execution_count": 87,
   "metadata": {},
   "outputs": [],
   "source": [
    "features['sales_fall_rate']=features.fall_sales_x/(features.fall_sales_x+features.spring_sales_x+features.summer_sales_x+features.winter_sales_x)"
   ]
  },
  {
   "cell_type": "code",
   "execution_count": 88,
   "metadata": {},
   "outputs": [],
   "source": [
    "features['sales_spring_rate']=features.spring_sales_x/(features.fall_sales_x+features.spring_sales_x+features.summer_sales_x+features.winter_sales_x)"
   ]
  },
  {
   "cell_type": "code",
   "execution_count": 89,
   "metadata": {},
   "outputs": [],
   "source": [
    "features['sales_summer_rate']=features.summer_sales_x/(features.fall_sales_x+features.spring_sales_x+features.summer_sales_x+features.winter_sales_x)"
   ]
  },
  {
   "cell_type": "code",
   "execution_count": 90,
   "metadata": {},
   "outputs": [],
   "source": [
    "features['sales_winter_rate']=features.winter_sales_x/(features.fall_sales_x+features.spring_sales_x+features.summer_sales_x+features.winter_sales_x)"
   ]
  },
  {
   "cell_type": "code",
   "execution_count": 91,
   "metadata": {},
   "outputs": [],
   "source": [
    "features['refund_fall_rate']=features.fall_sales_y/(features.fall_sales_y+features.spring_sales_y+features.summer_sales_y+features.winter_sales_y)"
   ]
  },
  {
   "cell_type": "code",
   "execution_count": 92,
   "metadata": {},
   "outputs": [],
   "source": [
    "features['refund_fall_rate']=features.fall_sales_y/(features.fall_sales_y+features.spring_sales_y+features.summer_sales_y+features.winter_sales_y)"
   ]
  },
  {
   "cell_type": "code",
   "execution_count": 93,
   "metadata": {},
   "outputs": [],
   "source": [
    "features['refund_spring_rate']=features.spring_sales_y/(features.fall_sales_y+features.spring_sales_y+features.summer_sales_y+features.winter_sales_y)"
   ]
  },
  {
   "cell_type": "code",
   "execution_count": 94,
   "metadata": {},
   "outputs": [],
   "source": [
    "features['refund_summer_rate']=features.summer_sales_y/(features.fall_sales_y+features.spring_sales_y+features.summer_sales_y+features.winter_sales_y)"
   ]
  },
  {
   "cell_type": "code",
   "execution_count": 95,
   "metadata": {},
   "outputs": [],
   "source": [
    "features['refund_winter_rate']=features.winter_sales_y/(features.fall_sales_y+features.spring_sales_y+features.summer_sales_y+features.winter_sales_y)"
   ]
  },
  {
   "cell_type": "code",
   "execution_count": 96,
   "metadata": {},
   "outputs": [],
   "source": [
    "features['all_fall_rate']=features.fall_sales/(features.fall_sales+features.spring_sales+features.summer_sales+features.winter_sales)"
   ]
  },
  {
   "cell_type": "code",
   "execution_count": 97,
   "metadata": {},
   "outputs": [],
   "source": [
    "features['all_spring_rate']=features.spring_sales/(features.fall_sales+features.spring_sales+features.summer_sales+features.winter_sales)"
   ]
  },
  {
   "cell_type": "code",
   "execution_count": 98,
   "metadata": {},
   "outputs": [],
   "source": [
    "features['all_summer_rate']=features.summer_sales/(features.fall_sales+features.spring_sales+features.summer_sales+features.winter_sales)"
   ]
  },
  {
   "cell_type": "code",
   "execution_count": 99,
   "metadata": {},
   "outputs": [],
   "source": [
    "features['all_winter_rate']=features.winter_sales/(features.fall_sales+features.spring_sales+features.summer_sales+features.winter_sales)"
   ]
  },
  {
   "cell_type": "code",
   "execution_count": 100,
   "metadata": {},
   "outputs": [],
   "source": [
    "# 주말 구매 비율\n",
    "features['wd_sales_rate'] = (data.groupby('custid')['weekend'].sum().reset_index()['weekend']/features['sales_freq'])*100"
   ]
  },
  {
   "cell_type": "markdown",
   "metadata": {},
   "source": [
    "월별 구매액의 합, 평균"
   ]
  },
  {
   "cell_type": "code",
   "execution_count": 101,
   "metadata": {},
   "outputs": [],
   "source": [
    "month_sales_mn=data.groupby(['custid','sales_month'])['net_amt'].mean().unstack().fillna(0)"
   ]
  },
  {
   "cell_type": "code",
   "execution_count": 102,
   "metadata": {},
   "outputs": [],
   "source": [
    "month_sales_mn.columns = ['mon_sale_mn'+ str(column) for column in month_sales_mn.columns]\n",
    "month_sales_mn = month_sales_mn.reset_index()"
   ]
  },
  {
   "cell_type": "code",
   "execution_count": 103,
   "metadata": {},
   "outputs": [],
   "source": [
    "month_sales_sm=data.groupby(['custid','sales_month'])['net_amt'].sum().unstack().fillna(0)"
   ]
  },
  {
   "cell_type": "code",
   "execution_count": 104,
   "metadata": {},
   "outputs": [],
   "source": [
    "month_sales_sm.columns = ['mon_sale_sm'+ str(column) for column in month_sales_sm.columns]\n",
    "month_sales_sm = month_sales_sm.reset_index()"
   ]
  },
  {
   "cell_type": "code",
   "execution_count": 105,
   "metadata": {},
   "outputs": [],
   "source": [
    "features = pd.merge(features, month_sales_sm, how='left',on = 'custid')"
   ]
  },
  {
   "cell_type": "code",
   "execution_count": 106,
   "metadata": {},
   "outputs": [],
   "source": [
    "features = pd.merge(features, month_sales_mn, how='left',on = 'custid')"
   ]
  },
  {
   "cell_type": "code",
   "execution_count": null,
   "metadata": {},
   "outputs": [],
   "source": []
  },
  {
   "cell_type": "code",
   "execution_count": 107,
   "metadata": {},
   "outputs": [],
   "source": [
    "# 구매 월 평균\n",
    "features['month_mean'] = data.groupby('custid')['sales_month'].mean().reset_index()['sales_month']"
   ]
  },
  {
   "cell_type": "code",
   "execution_count": 108,
   "metadata": {},
   "outputs": [],
   "source": [
    "# 자주 가는 월 - 원래 자주가는 \n",
    "#f = pd.pivot_table(data, index='custid', columns='sales_month', values='tot_amt', \n",
    "#                   aggfunc=np.size, fill_value=0).reset_index()\n",
    "f=pd.pivot_table(data[data.tot_amt>0], index='custid', columns='sales_month', values='tot_amt', \n",
    "                   aggfunc=np.size, fill_value=0).reset_index()"
   ]
  },
  {
   "cell_type": "code",
   "execution_count": 109,
   "metadata": {},
   "outputs": [],
   "source": [
    "f.columns=['custid', '1_mmff', '2_mmff', '3_mmff', '4_mmff', '5_mmff', '6_mmff', '7_mmff', '8_mmff', '9_mmff', '10_mmff', '11_mmff', '12_mmff']"
   ]
  },
  {
   "cell_type": "code",
   "execution_count": 110,
   "metadata": {},
   "outputs": [],
   "source": [
    "features = pd.merge(features, f, how='left',on = 'custid')"
   ]
  },
  {
   "cell_type": "markdown",
   "metadata": {},
   "source": [
    "금액 관리"
   ]
  },
  {
   "cell_type": "code",
   "execution_count": 111,
   "metadata": {},
   "outputs": [],
   "source": [
    "refund_net_sum=data[data.net_amt<0].groupby('custid')['net_amt'].sum().reset_index()\n",
    "features = pd.merge(features, refund_net_sum, how='left',on = 'custid')"
   ]
  },
  {
   "cell_type": "code",
   "execution_count": 112,
   "metadata": {},
   "outputs": [],
   "source": [
    "net_saels_all=data.groupby('custid')['net_amt'].agg([('tot_sales_all','sum'),('mean_amt_all','mean')])\n",
    "features = pd.merge(features, net_saels_all, how='left',on = 'custid').fillna(0)"
   ]
  },
  {
   "cell_type": "code",
   "execution_count": 113,
   "metadata": {},
   "outputs": [],
   "source": [
    "net_sales_0_all=data[data.net_amt>0].groupby('custid')['net_amt'].agg([('tot_sales','sum'),('max_sales_amt','max'),('min_sales_amt','min'),('mean_sales_amt','mean')])\n",
    "features = pd.merge(features, net_sales_0_all, how='left',on = 'custid').fillna(0)"
   ]
  },
  {
   "cell_type": "code",
   "execution_count": 114,
   "metadata": {},
   "outputs": [],
   "source": [
    "net_refund_all=data[data.net_amt<0].groupby('custid')['net_amt'].agg([('tot_refund','sum'),('max_refund_amt','max'),('min_refund_amt','min'),('mean_refund_amt','mean')])\n",
    "features = pd.merge(features, net_refund_all, how='left',on = 'custid').fillna(0)"
   ]
  },
  {
   "cell_type": "code",
   "execution_count": 115,
   "metadata": {},
   "outputs": [],
   "source": [
    "features[['mean_amt_all','mean_sales_amt','mean_refund_amt']] =round(features[['mean_amt_all','mean_sales_amt','mean_refund_amt']],2)"
   ]
  },
  {
   "cell_type": "code",
   "execution_count": 116,
   "metadata": {},
   "outputs": [],
   "source": [
    "features['tot_sales_freq_mean']=features['tot_sales']/features['sales_dayofweek']"
   ]
  },
  {
   "cell_type": "code",
   "execution_count": null,
   "metadata": {},
   "outputs": [],
   "source": []
  },
  {
   "cell_type": "code",
   "execution_count": 117,
   "metadata": {},
   "outputs": [],
   "source": [
    "# 총 할인금액\n",
    "features['tot_dis_amt'] = data.groupby('custid')['dis_amt'].sum().reset_index()['dis_amt']"
   ]
  },
  {
   "cell_type": "code",
   "execution_count": 118,
   "metadata": {},
   "outputs": [],
   "source": [
    "# 최대, 평균 할인율\n",
    "features['max_dis'] = data.groupby('custid')['dis_rate'].max().reset_index()['dis_rate']\n",
    "features['mean_dis'] = data.groupby('custid')['dis_rate'].mean().reset_index()['dis_rate']"
   ]
  },
  {
   "cell_type": "code",
   "execution_count": 119,
   "metadata": {},
   "outputs": [],
   "source": [
    "# 할인 받은 빈도, 비율\n",
    "dis_rate=data.query(\"dis_rate>0\").groupby('custid')['dis_rate'].count().reset_index()\n",
    "features = pd.merge(features, dis_rate, how='left',on='custid').fillna(0)\n",
    "features.rename(columns = {'dis_rate': 'dis_freq'},inplace=True)"
   ]
  },
  {
   "cell_type": "code",
   "execution_count": 120,
   "metadata": {},
   "outputs": [],
   "source": [
    "features['dis_freq_rate'] = features['dis_freq']/features['sales_freq']"
   ]
  },
  {
   "cell_type": "code",
   "execution_count": 121,
   "metadata": {},
   "outputs": [],
   "source": [
    "# 할부 빈도, 비율/ 평균 할부개월\n",
    "inst_ft = data.query(\"inst_mon != 1\").groupby('custid')['inst_mon'].agg([('inst_freq','count'),('inst_avg','mean'),('inst_max','max')])\n",
    "features = pd.merge(features, inst_ft, how='left',on = 'custid').fillna(0)\n",
    "features['inst_freq_rate'] = features['inst_freq']/features['sales_freq']\n",
    "features['inst_freq_all_rate'] = features['inst_freq']/features['all_freq']"
   ]
  },
  {
   "cell_type": "code",
   "execution_count": 122,
   "metadata": {},
   "outputs": [],
   "source": [
    "# 할부 총 달\n",
    "inst_ft_sum = data.groupby('custid')['inst_mon'].agg([('inst_sum','sum')])\n",
    "features = pd.merge(features, inst_ft_sum, how='left',on = 'custid').fillna(0)"
   ]
  },
  {
   "cell_type": "code",
   "execution_count": null,
   "metadata": {},
   "outputs": [],
   "source": []
  },
  {
   "cell_type": "code",
   "execution_count": 123,
   "metadata": {},
   "outputs": [],
   "source": [
    "features['tot_inst_amt']=features['tot_sales']/features['inst_sum']"
   ]
  },
  {
   "cell_type": "code",
   "execution_count": null,
   "metadata": {},
   "outputs": [],
   "source": []
  },
  {
   "cell_type": "code",
   "execution_count": 124,
   "metadata": {},
   "outputs": [],
   "source": [
    "# 할부 총 달\n",
    "sales_noinst = data.groupby('custid')['inst_fee'].agg([('inst_fee_sum','sum')])\n",
    "features = pd.merge(features, sales_noinst, how='left',on = 'custid').fillna(0)"
   ]
  },
  {
   "cell_type": "code",
   "execution_count": 125,
   "metadata": {},
   "outputs": [],
   "source": [
    "#def inst_avg(x):\n",
    "#    if x >=3:\n",
    "#        return 1\n",
    "#    else:\n",
    "#        return 0\n",
    "#\n",
    "#features['inst_quan'] = features.inst_avg.apply(inst_avg)"
   ]
  },
  {
   "cell_type": "code",
   "execution_count": null,
   "metadata": {},
   "outputs": [],
   "source": []
  },
  {
   "cell_type": "code",
   "execution_count": null,
   "metadata": {},
   "outputs": [],
   "source": []
  },
  {
   "cell_type": "code",
   "execution_count": 126,
   "metadata": {},
   "outputs": [],
   "source": [
    "# 자주가는 지점이 어딘지 원핫인코딩 한 것\n",
    "data['str_nm'] = data['str_nm'].apply(lambda x: 'mu' if x=='무역점' else('bon' if x=='본점' else('cheon' if x=='천호점' else 'sin')))"
   ]
  },
  {
   "cell_type": "code",
   "execution_count": 127,
   "metadata": {},
   "outputs": [],
   "source": [
    "f = data.groupby(['custid','str_nm'])['str_nm'].agg([('str_freq','count')]).reset_index()"
   ]
  },
  {
   "cell_type": "code",
   "execution_count": 128,
   "metadata": {
    "scrolled": false
   },
   "outputs": [
    {
     "data": {
      "application/vnd.jupyter.widget-view+json": {
       "model_id": "c3729ea07e24465cba17456920e05933",
       "version_major": 2,
       "version_minor": 0
      },
      "text/plain": [
       "HBox(children=(FloatProgress(value=0.0, max=35967.0), HTML(value='')))"
      ]
     },
     "metadata": {},
     "output_type": "display_data"
    },
    {
     "name": "stdout",
     "output_type": "stream",
     "text": [
      "\n"
     ]
    }
   ],
   "source": [
    "lst = []\n",
    "for i in tqdm_notebook(f['custid'].unique()) : \n",
    "    f2 = f.query(\"custid == @i\")\n",
    "    lst.append(f2.sort_values(by='str_freq',ascending=False)['str_nm'].iloc[0])\n",
    "\n",
    "features['str_freq'] = lst"
   ]
  },
  {
   "cell_type": "code",
   "execution_count": 129,
   "metadata": {},
   "outputs": [],
   "source": [
    "features = pd.get_dummies(features, 'str_freq')"
   ]
  },
  {
   "cell_type": "markdown",
   "metadata": {},
   "source": [
    "아이디 별 매장별 몇번씩 갔는지"
   ]
  },
  {
   "cell_type": "code",
   "execution_count": 130,
   "metadata": {},
   "outputs": [],
   "source": [
    "str_freq_all=data.groupby(['custid','str_nm'])['str_nm'].count().unstack().fillna(0)"
   ]
  },
  {
   "cell_type": "code",
   "execution_count": 131,
   "metadata": {},
   "outputs": [],
   "source": [
    "str_freq_all.columns = ['store_'+ str(column) for column in str_freq_all.columns]\n",
    "str_freq_all = str_freq_all.reset_index()"
   ]
  },
  {
   "cell_type": "code",
   "execution_count": 132,
   "metadata": {
    "scrolled": false
   },
   "outputs": [],
   "source": [
    "features = pd.merge(features, str_freq_all, how='left',on = 'custid')"
   ]
  },
  {
   "cell_type": "markdown",
   "metadata": {},
   "source": [
    "매장 별로 얼마나 구매를 하였는지 총구매액"
   ]
  },
  {
   "cell_type": "code",
   "execution_count": 133,
   "metadata": {},
   "outputs": [],
   "source": [
    "str_sale_sum=data[data.net_amt>0].groupby(['custid','str_nm'])['net_amt'].sum().unstack().fillna(0)"
   ]
  },
  {
   "cell_type": "code",
   "execution_count": 134,
   "metadata": {},
   "outputs": [],
   "source": [
    "str_sale_sum.columns = ['str_sales'+ str(column) for column in str_sale_sum.columns]\n",
    "str_sale_sum = str_sale_sum.reset_index()"
   ]
  },
  {
   "cell_type": "code",
   "execution_count": 135,
   "metadata": {},
   "outputs": [],
   "source": [
    "features = pd.merge(features, str_sale_sum, how='left',on = 'custid')"
   ]
  },
  {
   "cell_type": "code",
   "execution_count": null,
   "metadata": {},
   "outputs": [],
   "source": []
  },
  {
   "cell_type": "code",
   "execution_count": 136,
   "metadata": {},
   "outputs": [],
   "source": [
    "str_refund_sum=data[data.net_amt<0].groupby(['custid','str_nm'])['net_amt'].sum().unstack().fillna(0)"
   ]
  },
  {
   "cell_type": "code",
   "execution_count": 137,
   "metadata": {},
   "outputs": [],
   "source": [
    "str_refund_sum.columns = ['str_refund'+ str(column) for column in str_refund_sum.columns]\n",
    "str_refund_sum = str_refund_sum.reset_index()"
   ]
  },
  {
   "cell_type": "code",
   "execution_count": 138,
   "metadata": {},
   "outputs": [],
   "source": [
    "features = pd.merge(features, str_refund_sum, how='left',on = 'custid')"
   ]
  },
  {
   "cell_type": "code",
   "execution_count": null,
   "metadata": {},
   "outputs": [],
   "source": []
  },
  {
   "cell_type": "code",
   "execution_count": 139,
   "metadata": {},
   "outputs": [],
   "source": [
    "# 선호 브랜드\n",
    "df = pd.merge(trn, y, on='custid')"
   ]
  },
  {
   "cell_type": "code",
   "execution_count": 140,
   "metadata": {},
   "outputs": [],
   "source": [
    "twn_prefer_brd = df.query(\"age>=20 & age<30\").brd_nm.value_counts().index[1:11].tolist()\n",
    "thr_prefer_brd = df.query(\"age>=30 & age<40\").brd_nm.value_counts().index[1:11].tolist()\n",
    "for_prefer_brd = df.query(\"age>=40 & age<50\").brd_nm.value_counts().index[1:11].tolist()\n",
    "fiv_prefer_brd = df.query(\"age>=50 & age<60\").brd_nm.value_counts().index[1:11].tolist()\n",
    "six_prefer_brd = df.query(\"age>=60\").brd_nm.value_counts().index[1:11].tolist()"
   ]
  },
  {
   "cell_type": "code",
   "execution_count": 141,
   "metadata": {},
   "outputs": [],
   "source": [
    "def map_twn_brd(x):\n",
    "    if x == twn_prefer_brd[0]:\n",
    "        x=10\n",
    "    elif x == twn_prefer_brd[1]:\n",
    "        x=9\n",
    "    elif x == twn_prefer_brd[2]:\n",
    "        x=8\n",
    "    elif x == twn_prefer_brd[3]:\n",
    "        x=7\n",
    "    elif x == twn_prefer_brd[4]:\n",
    "        x=6\n",
    "    elif x == twn_prefer_brd[5]:\n",
    "        x=5\n",
    "    elif x == twn_prefer_brd[6]:\n",
    "        x=4\n",
    "    elif x == twn_prefer_brd[7]:\n",
    "        x=3\n",
    "    elif x == twn_prefer_brd[8]:\n",
    "        x=2\n",
    "    elif x == twn_prefer_brd[9]:\n",
    "        x=1\n",
    "    else:\n",
    "        x=0\n",
    "    return x"
   ]
  },
  {
   "cell_type": "code",
   "execution_count": 142,
   "metadata": {},
   "outputs": [],
   "source": [
    "def map_thr_brd(x):\n",
    "    if x == thr_prefer_brd[0]:\n",
    "        x=10\n",
    "    elif x == thr_prefer_brd[1]:\n",
    "        x=9\n",
    "    elif x == thr_prefer_brd[2]:\n",
    "        x=8\n",
    "    elif x == thr_prefer_brd[3]:\n",
    "        x=7\n",
    "    elif x == thr_prefer_brd[4]:\n",
    "        x=6\n",
    "    elif x == thr_prefer_brd[5]:\n",
    "        x=5\n",
    "    elif x == thr_prefer_brd[6]:\n",
    "        x=4\n",
    "    elif x == thr_prefer_brd[7]:\n",
    "        x=3\n",
    "    elif x == thr_prefer_brd[8]:\n",
    "        x=2\n",
    "    elif x == thr_prefer_brd[9]:\n",
    "        x=1\n",
    "    else:\n",
    "        x=0\n",
    "    return x"
   ]
  },
  {
   "cell_type": "code",
   "execution_count": 143,
   "metadata": {},
   "outputs": [],
   "source": [
    "def map_for_brd(x):\n",
    "    if x == for_prefer_brd[0]:\n",
    "        x=10\n",
    "    elif x == for_prefer_brd[1]:\n",
    "        x=9\n",
    "    elif x == for_prefer_brd[2]:\n",
    "        x=8\n",
    "    elif x == for_prefer_brd[3]:\n",
    "        x=7\n",
    "    elif x == for_prefer_brd[4]:\n",
    "        x=6\n",
    "    elif x == for_prefer_brd[5]:\n",
    "        x=5\n",
    "    elif x == for_prefer_brd[6]:\n",
    "        x=4\n",
    "    elif x == for_prefer_brd[7]:\n",
    "        x=3\n",
    "    elif x == for_prefer_brd[8]:\n",
    "        x=2\n",
    "    elif x == for_prefer_brd[9]:\n",
    "        x=1\n",
    "    else:\n",
    "        x=0\n",
    "    return x"
   ]
  },
  {
   "cell_type": "code",
   "execution_count": 144,
   "metadata": {},
   "outputs": [],
   "source": [
    "def map_fiv_brd(x):\n",
    "    if x == fiv_prefer_brd[0]:\n",
    "        x=10\n",
    "    elif x == fiv_prefer_brd[1]:\n",
    "        x=9\n",
    "    elif x == fiv_prefer_brd[2]:\n",
    "        x=8\n",
    "    elif x == fiv_prefer_brd[3]:\n",
    "        x=7\n",
    "    elif x == fiv_prefer_brd[4]:\n",
    "        x=6\n",
    "    elif x == fiv_prefer_brd[5]:\n",
    "        x=5\n",
    "    elif x == fiv_prefer_brd[6]:\n",
    "        x=4\n",
    "    elif x == fiv_prefer_brd[7]:\n",
    "        x=3\n",
    "    elif x == fiv_prefer_brd[8]:\n",
    "        x=2\n",
    "    elif x == fiv_prefer_brd[9]:\n",
    "        x=1\n",
    "    else:\n",
    "        x=0\n",
    "    return x"
   ]
  },
  {
   "cell_type": "code",
   "execution_count": 145,
   "metadata": {},
   "outputs": [],
   "source": [
    "def map_six_brd(x):\n",
    "    if x == six_prefer_brd[0]:\n",
    "        x=10\n",
    "    elif x == six_prefer_brd[1]:\n",
    "        x=9\n",
    "    elif x == six_prefer_brd[2]:\n",
    "        x=8\n",
    "    elif x == six_prefer_brd[3]:\n",
    "        x=7\n",
    "    elif x == six_prefer_brd[4]:\n",
    "        x=6\n",
    "    elif x == six_prefer_brd[5]:\n",
    "        x=5\n",
    "    elif x == six_prefer_brd[6]:\n",
    "        x=4\n",
    "    elif x == six_prefer_brd[7]:\n",
    "        x=3\n",
    "    elif x == six_prefer_brd[8]:\n",
    "        x=2\n",
    "    elif x == six_prefer_brd[9]:\n",
    "        x=1\n",
    "    else:\n",
    "        x=0\n",
    "    return x"
   ]
  },
  {
   "cell_type": "code",
   "execution_count": 146,
   "metadata": {},
   "outputs": [],
   "source": [
    "data['twn_brd_point'] = data['brd_nm'].apply(map_twn_brd)\n",
    "data['thr_brd_point'] = data['brd_nm'].apply(map_thr_brd)\n",
    "data['for_brd_point'] = data['brd_nm'].apply(map_for_brd)\n",
    "data['fiv_brd_point'] = data['brd_nm'].apply(map_fiv_brd)\n",
    "data['six_brd_point'] = data['brd_nm'].apply(map_six_brd)"
   ]
  },
  {
   "cell_type": "code",
   "execution_count": 147,
   "metadata": {},
   "outputs": [],
   "source": [
    "twn_brd_point=data.groupby('custid')['twn_brd_point'].mean().reset_index()\n",
    "thr_brd_point=data.groupby('custid')['thr_brd_point'].mean().reset_index()\n",
    "for_brd_point=data.groupby('custid')['for_brd_point'].mean().reset_index()\n",
    "fiv_brd_point=data.groupby('custid')['fiv_brd_point'].mean().reset_index()\n",
    "six_brd_point=data.groupby('custid')['six_brd_point'].mean().reset_index()"
   ]
  },
  {
   "cell_type": "code",
   "execution_count": 148,
   "metadata": {},
   "outputs": [],
   "source": [
    "features = pd.merge(features, twn_brd_point, how='left',on='custid')\n",
    "features = pd.merge(features, thr_brd_point, how='left',on='custid')\n",
    "features = pd.merge(features, for_brd_point, how='left',on='custid')\n",
    "features = pd.merge(features, fiv_brd_point, how='left',on='custid')\n",
    "features = pd.merge(features, six_brd_point, how='left',on='custid')"
   ]
  },
  {
   "cell_type": "code",
   "execution_count": 149,
   "metadata": {},
   "outputs": [],
   "source": [
    "data['buyer_nm'] = data['buyer_nm'].str.replace('행사장.*','행사장')\n",
    "data['buyer_nm'] = data['buyer_nm'].str.replace('피혁A','피혁')\n",
    "data['buyer_nm'] = data['buyer_nm'].str.replace('피혁B','피혁')\n",
    "\n",
    "data['buyer_nm'] = data['buyer_nm'].map({'화장품':'a', '수입명품':'b', '캐릭터캐주얼':'c', '트래디셔널캐주얼':'d', '유아동복':'e', '니트단품':'f', '영캐주얼':'g',\n",
    "       '엘레강스캐주얼':'h', '가전':'i', '섬유':'j', '장신구':'k', '조리욕실':'l', '스포츠':'m', '침구수예':'n', '피혁':'o', '일반식품':'p',\n",
    "       '유니캐주얼':'q', '정장셔츠':'r', '디자이너부띠끄':'s', '문화완구':'t', '타운모피':'u', '조리식품':'v', '기타바이어':'w',\n",
    "       '도자기크리스탈':'x', '가구':'y', '생활용품':'z', '행사장':'aa', '청과곡물':'bb', '점외':'cc'})\n",
    "\n",
    "buyer = pd.pivot_table(index='custid',columns='buyer_nm',values='tot_amt',aggfunc=np.size,fill_value=0,data=data.query(\"tot_amt>0\")[['custid','buyer_nm','tot_amt']]).reset_index()\n",
    "features = pd.merge(features, buyer, on='custid')"
   ]
  },
  {
   "cell_type": "code",
   "execution_count": null,
   "metadata": {},
   "outputs": [],
   "source": []
  },
  {
   "cell_type": "code",
   "execution_count": null,
   "metadata": {},
   "outputs": [],
   "source": []
  },
  {
   "cell_type": "code",
   "execution_count": 150,
   "metadata": {},
   "outputs": [],
   "source": [
    "#구매상품군 다양성\n",
    "n = data.part_nm.nunique()\n",
    "f = data.groupby('custid')['part_nm'].agg([('part_unique', lambda x: len(x.unique()) / n)]).reset_index()\n",
    "features = pd.merge(features, f, on='custid')"
   ]
  },
  {
   "cell_type": "code",
   "execution_count": 151,
   "metadata": {},
   "outputs": [],
   "source": [
    "#브랜드 다양성\n",
    "n=data.brd_nm.nunique()\n",
    "f = data.groupby('custid')['brd_nm'].agg([('brd_unique', lambda x: len(x.unique()) / n)]).reset_index()\n",
    "features = pd.merge(features, f, on='custid')"
   ]
  },
  {
   "cell_type": "code",
   "execution_count": 152,
   "metadata": {},
   "outputs": [],
   "source": [
    "#매장 이용 다양성\n",
    "n = 4\n",
    "f = data.groupby('custid')['str_nm'].agg([('str_unique', lambda x: len(x.unique()) / n)]).reset_index()\n",
    "features = pd.merge(features, f, on='custid')"
   ]
  },
  {
   "cell_type": "code",
   "execution_count": 153,
   "metadata": {},
   "outputs": [],
   "source": [
    "#위에서는 출근 시간 9~17시 퇴근시간 이후로 했는데 좀더 세분화\n",
    "def f2(x):\n",
    "    if 9 <= x < 12 :\n",
    "        return('9_12_sale')\n",
    "    elif 12 <= x < 14 :\n",
    "        return('12_14_sale')\n",
    "    elif 14 <= x < 16 :\n",
    "        return('14_16_sale')\n",
    "    elif 16 <= x < 18 :\n",
    "        return('16_18_sale')\n",
    "    else :\n",
    "        return('18_sale')  \n",
    "\n",
    "data['timeslot2'] = data.sales_time.apply(f2)"
   ]
  },
  {
   "cell_type": "code",
   "execution_count": 154,
   "metadata": {},
   "outputs": [],
   "source": [
    "new_sales_type = pd.pivot_table(index='custid',columns='timeslot2',values='tot_amt',aggfunc=np.size, fill_value=0,data = data.query('tot_amt>0')[['custid','timeslot2','tot_amt']]).reset_index()"
   ]
  },
  {
   "cell_type": "code",
   "execution_count": 155,
   "metadata": {},
   "outputs": [],
   "source": [
    "features=pd.merge(features, new_sales_type, on='custid')"
   ]
  },
  {
   "cell_type": "code",
   "execution_count": 156,
   "metadata": {},
   "outputs": [],
   "source": [
    "features['12_14_sale_ratio']=features['12_14_sale']/(features['12_14_sale'] + features['14_16_sale']+features['16_18_sale']+features['18_sale']+features['9_12_sale'])\n",
    "features['14_16_sale_ratio']=features['14_16_sale']/(features['12_14_sale'] + features['14_16_sale']+features['16_18_sale']+features['18_sale']+features['9_12_sale'])\n",
    "features['16_18_sale_ratio']=features['16_18_sale']/(features['12_14_sale'] + features['14_16_sale']+features['16_18_sale']+features['18_sale']+features['9_12_sale'])\n",
    "features['18_sale_ratio']=features['18_sale']/(features['12_14_sale'] + features['14_16_sale']+features['16_18_sale']+features['18_sale']+features['9_12_sale'])\n",
    "features['9_12_sale_ratio']=features['9_12_sale']/(features['12_14_sale'] + features['14_16_sale']+features['16_18_sale']+features['18_sale']+features['9_12_sale'])"
   ]
  },
  {
   "cell_type": "code",
   "execution_count": null,
   "metadata": {},
   "outputs": [],
   "source": []
  },
  {
   "cell_type": "code",
   "execution_count": 157,
   "metadata": {},
   "outputs": [],
   "source": [
    "#충동지수 충동구매를 하는사람들은 누구일까? 여유가있는 나이가 많은 사람들이 충동구매를 할거같다. 곱하기대신 더하기도 생각해보기\n",
    "\n",
    "features['chungdong_sale']=(features.max_sales_amt/features.tot_sales)\n",
    "features['chungdong_sale_freq']= features.chungdong_sale*features.sales_freq"
   ]
  },
  {
   "cell_type": "code",
   "execution_count": 158,
   "metadata": {},
   "outputs": [],
   "source": [
    "features['mean_min_sales']=features.mean_sales_amt+features.min_sales_amt"
   ]
  },
  {
   "cell_type": "code",
   "execution_count": 159,
   "metadata": {},
   "outputs": [],
   "source": [
    "a=features[['custid','mean_min_sales']]"
   ]
  },
  {
   "cell_type": "code",
   "execution_count": 160,
   "metadata": {},
   "outputs": [],
   "source": [
    "df_LEFT_JOIN = pd.merge(data, a, left_on='custid', right_on='custid', how='left')"
   ]
  },
  {
   "cell_type": "code",
   "execution_count": 161,
   "metadata": {},
   "outputs": [],
   "source": [
    "df_LEFT_JOIN['chungdong']=df_LEFT_JOIN.net_amt >df_LEFT_JOIN.mean_min_sales"
   ]
  },
  {
   "cell_type": "code",
   "execution_count": 162,
   "metadata": {},
   "outputs": [],
   "source": [
    "chung=df_LEFT_JOIN.groupby('custid')['chungdong'].sum().reset_index()"
   ]
  },
  {
   "cell_type": "code",
   "execution_count": 163,
   "metadata": {},
   "outputs": [],
   "source": [
    "features = pd.merge(features, chung, left_on='custid', right_on='custid', how='left')"
   ]
  },
  {
   "cell_type": "code",
   "execution_count": null,
   "metadata": {},
   "outputs": [],
   "source": []
  },
  {
   "cell_type": "code",
   "execution_count": null,
   "metadata": {},
   "outputs": [],
   "source": []
  },
  {
   "cell_type": "code",
   "execution_count": 164,
   "metadata": {},
   "outputs": [],
   "source": [
    "a=data.groupby(['custid','sales_month','sales_day','sales_dayofweek'])['custid'].size().unstack().reset_index()"
   ]
  },
  {
   "cell_type": "code",
   "execution_count": 165,
   "metadata": {},
   "outputs": [],
   "source": [
    "a.iloc[:,3:]=a.iloc[:,3:]/a.iloc[:,3:]"
   ]
  },
  {
   "cell_type": "code",
   "execution_count": 166,
   "metadata": {},
   "outputs": [],
   "source": [
    "a=a.groupby('custid')[['금','목','수','월','일','토','화']].sum()"
   ]
  },
  {
   "cell_type": "code",
   "execution_count": 167,
   "metadata": {},
   "outputs": [],
   "source": [
    "features = pd.merge(features, a, on='custid')"
   ]
  },
  {
   "cell_type": "code",
   "execution_count": 168,
   "metadata": {},
   "outputs": [],
   "source": [
    "features = features.rename(columns={'월':'mon_opn','화':'tue_opn','수':'wen_opn','목':'thr_opn','금':'fri_opn','토':'sat_opn','일':'sun_opn'})"
   ]
  },
  {
   "cell_type": "code",
   "execution_count": 169,
   "metadata": {},
   "outputs": [],
   "source": [
    "features['mon_opn_rate']=features.mon_opn/features.sales_dayofweek\n",
    "features['tue_opn_rate']=features.tue_opn/features.sales_dayofweek\n",
    "features['wen_opn_rate']=features.wen_opn/features.sales_dayofweek\n",
    "features['thr_opn_rate']=features.thr_opn/features.sales_dayofweek\n",
    "features['fri_opn_rate']=features.fri_opn/features.sales_dayofweek\n",
    "features['sat_opn_rate']=features.sat_opn/features.sales_dayofweek\n",
    "features['sun_opn_rate']=features.sun_opn/features.sales_dayofweek"
   ]
  },
  {
   "cell_type": "code",
   "execution_count": 170,
   "metadata": {},
   "outputs": [],
   "source": [
    "a=data[data.net_amt>0].groupby(['custid','sales_month','sales_day','sales_dayofweek'])['net_amt'].sum().unstack().reset_index()"
   ]
  },
  {
   "cell_type": "code",
   "execution_count": 171,
   "metadata": {},
   "outputs": [],
   "source": [
    "a=a.groupby('custid')[['금','목','수','월','일','토','화']].sum()"
   ]
  },
  {
   "cell_type": "code",
   "execution_count": 172,
   "metadata": {},
   "outputs": [],
   "source": [
    "features = pd.merge(features, a, on='custid')"
   ]
  },
  {
   "cell_type": "code",
   "execution_count": 173,
   "metadata": {},
   "outputs": [],
   "source": [
    "features = features.rename(columns={'월':'mon_pri','화':'tue_pri','수':'wen_pri','목':'thr_pri','금':'fri_pri','토':'sat_pri','일':'sun_pri'})"
   ]
  },
  {
   "cell_type": "code",
   "execution_count": 174,
   "metadata": {},
   "outputs": [],
   "source": [
    "features['mon_pri_rate']=features.mon_pri/features.tot_sales\n",
    "features['tue_pri_rate']=features.tue_pri/features.tot_sales\n",
    "features['wen_pri_rate']=features.wen_pri/features.tot_sales\n",
    "features['thr_pri_rate']=features.thr_pri/features.tot_sales\n",
    "features['fri_pri_rate']=features.fri_pri/features.tot_sales\n",
    "features['sat_pri_rate']=features.sat_pri/features.tot_sales\n",
    "features['sun_pri_rate']=features.sun_pri/features.tot_sales"
   ]
  },
  {
   "cell_type": "markdown",
   "metadata": {},
   "source": [
    "충동구매를 하고 환불을 한 횟수"
   ]
  },
  {
   "cell_type": "code",
   "execution_count": null,
   "metadata": {},
   "outputs": [],
   "source": []
  },
  {
   "cell_type": "code",
   "execution_count": 175,
   "metadata": {},
   "outputs": [],
   "source": [
    "features['max_min_sales']=features['max_sales_amt']-features['min_sales_amt']"
   ]
  },
  {
   "cell_type": "code",
   "execution_count": 176,
   "metadata": {},
   "outputs": [],
   "source": [
    "def shopfnc(m):\n",
    "    if m < 5:\n",
    "        return 1\n",
    "    elif m < 12.94 :\n",
    "        return 2 \n",
    "    elif m < 21.538 :\n",
    "        return 3 \n",
    "    elif m < 33.909 :\n",
    "        return 4\n",
    "    else:\n",
    "        return 5"
   ]
  },
  {
   "cell_type": "code",
   "execution_count": 177,
   "metadata": {},
   "outputs": [],
   "source": [
    "features['shop_time_mean']= features.shop_time.apply(lambda x : shopfnc(x))"
   ]
  },
  {
   "cell_type": "code",
   "execution_count": 178,
   "metadata": {},
   "outputs": [
    {
     "name": "stdout",
     "output_type": "stream",
     "text": [
      "249406.0\n",
      "498646.0000000001\n",
      "795650.0\n",
      "1165370.0000000002\n",
      "1622598.0\n",
      "2254104.0\n",
      "3107333.5999999996\n",
      "4541631.800000001\n",
      "7485838.200000001\n"
     ]
    }
   ],
   "source": [
    "for i in np.arange(0.1,1,0.1):\n",
    "    print(features.tot_sales.quantile(q=i))"
   ]
  },
  {
   "cell_type": "code",
   "execution_count": 179,
   "metadata": {
    "scrolled": true
   },
   "outputs": [],
   "source": [
    "# 10분위별로 (1 ~ 10 범위)\n",
    "def fnc(m) : \n",
    "    if m < 249406.0:\n",
    "        return 1\n",
    "    elif m <498646 :\n",
    "        return 2 \n",
    "    elif m < 795650.0 :\n",
    "        return 3 \n",
    "    elif m < 1165370:\n",
    "        return 4 \n",
    "    elif m < 1622598.0 :\n",
    "        return 5 \n",
    "    elif m < 2254104 :\n",
    "        return 6 \n",
    "    elif m < 3107333:\n",
    "        return 7 \n",
    "    elif m < 4541631 :\n",
    "        return 8\n",
    "    elif m < 7485838 :\n",
    "        return 9 \n",
    "    else:\n",
    "        return 10\n",
    "\n",
    "features['tot_sales_amt_quan']= features.tot_sales.apply(lambda x : fnc(x))"
   ]
  },
  {
   "cell_type": "code",
   "execution_count": 180,
   "metadata": {
    "scrolled": false
   },
   "outputs": [
    {
     "name": "stdout",
     "output_type": "stream",
     "text": [
      "98400.0\n",
      "149000.0\n",
      "199000.0\n",
      "261250.0\n",
      "330600.0\n",
      "416000.0\n",
      "534850.0\n",
      "736250.0\n",
      "1180000.0\n"
     ]
    }
   ],
   "source": [
    "for i in np.arange(0.1,1,0.1):\n",
    "    print(features.max_sales_amt.quantile(q=i))"
   ]
  },
  {
   "cell_type": "code",
   "execution_count": 181,
   "metadata": {},
   "outputs": [],
   "source": [
    "# 10분위별로 가격선호도 조사 (1 ~ 10 범위)\n",
    "def fnc2(m) : \n",
    "    if m < 98400.0 :\n",
    "        return 1\n",
    "    elif m < 149000.0 :\n",
    "        return 2 \n",
    "    elif m < 199000.0 :\n",
    "        return 3 \n",
    "    elif m < 261250.0 :\n",
    "        return 4 \n",
    "    elif m < 330600.0 :\n",
    "        return 5 \n",
    "    elif m < 416000.0 :\n",
    "        return 6 \n",
    "    elif m < 534850.0 :\n",
    "        return 7 \n",
    "    elif m < 736250.0 :\n",
    "        return 8\n",
    "    elif m < 1180000.0 :\n",
    "        return 9 \n",
    "    else:\n",
    "        return 10\n",
    "\n",
    "features['max_amt_quan']= features.max_sales_amt.apply(lambda x : fnc2(x))"
   ]
  },
  {
   "cell_type": "code",
   "execution_count": null,
   "metadata": {},
   "outputs": [],
   "source": []
  },
  {
   "cell_type": "code",
   "execution_count": 182,
   "metadata": {},
   "outputs": [],
   "source": [
    "#아동상품 구매건수\n",
    "f = data[data.tot_amt > 0].groupby('custid')['part_nm'].agg([('baby_sales', lambda x: list(x).count('아동')+list(x).count('케주얼,구두,아동')+list(x).count('아동문화')+list(x).count('아동,스포츠'))]).reset_index()\n",
    "features = pd.merge(features, f, on='custid')"
   ]
  },
  {
   "cell_type": "code",
   "execution_count": 183,
   "metadata": {},
   "outputs": [],
   "source": [
    "features['baby_sales_freq']=features['baby_sales']/features.sales_freq"
   ]
  },
  {
   "cell_type": "code",
   "execution_count": 184,
   "metadata": {},
   "outputs": [],
   "source": [
    "#할부 총합\n",
    "sales_installment=data.groupby('custid')['inst_mon'].agg('sum').reset_index()\n",
    "features = pd.merge(features, sales_installment, on='custid')"
   ]
  },
  {
   "cell_type": "code",
   "execution_count": null,
   "metadata": {},
   "outputs": [],
   "source": []
  },
  {
   "cell_type": "code",
   "execution_count": 185,
   "metadata": {},
   "outputs": [],
   "source": [
    "data['team_nm'] = data['team_nm'].map({'잡화가용팀':'aa', '의류패션팀':'bb', '식품팀':'cb', '인터넷백화점':'dd'})"
   ]
  },
  {
   "cell_type": "code",
   "execution_count": 186,
   "metadata": {},
   "outputs": [],
   "source": [
    "f = data.groupby(['custid', 'team_nm'])['custid'].count().unstack()\n",
    "f = f.fillna(0)\n",
    "f.columns = ['Team_'+ str(column) for column in f.columns]\n",
    "f = f.reset_index()"
   ]
  },
  {
   "cell_type": "code",
   "execution_count": 187,
   "metadata": {},
   "outputs": [],
   "source": [
    "features = pd.merge(features, f, on = 'custid')"
   ]
  },
  {
   "cell_type": "code",
   "execution_count": 188,
   "metadata": {},
   "outputs": [],
   "source": [
    "features['food_rate']=features.Team_cb/(features.Team_aa+features.Team_bb+features.Team_cb+features.Team_dd)"
   ]
  },
  {
   "cell_type": "code",
   "execution_count": 189,
   "metadata": {},
   "outputs": [],
   "source": [
    "features['cloth_rate']=features.Team_bb/(features.Team_aa+features.Team_bb+features.Team_cb+features.Team_dd)"
   ]
  },
  {
   "cell_type": "code",
   "execution_count": 190,
   "metadata": {},
   "outputs": [],
   "source": [
    "features['stuff_rate']=features.Team_aa/(features.Team_aa+features.Team_bb+features.Team_cb+features.Team_dd)"
   ]
  },
  {
   "cell_type": "code",
   "execution_count": null,
   "metadata": {},
   "outputs": [],
   "source": []
  },
  {
   "cell_type": "code",
   "execution_count": 191,
   "metadata": {},
   "outputs": [],
   "source": [
    "food_list=['조리식품','축산물','농산물','수산물']\n",
    "t1 = data[data.net_amt>0].query(\"pc_nm == @food_list\").groupby('custid')['net_amt'].agg([('food_sales', np.sum)])\n",
    "features= pd.merge(features,t1, on = 'custid', how='left').fillna(0)\n",
    "features['food_sales_rate'] = features['food_sales'] / features['tot_sales']"
   ]
  },
  {
   "cell_type": "code",
   "execution_count": 192,
   "metadata": {},
   "outputs": [],
   "source": [
    "st=f\"(net_amt>0) and (pc_nm=='화장품')\""
   ]
  },
  {
   "cell_type": "code",
   "execution_count": 193,
   "metadata": {},
   "outputs": [],
   "source": [
    "t2 = data.query(st).groupby('custid')['net_amt'].agg([('face_goods_sales', np.sum)])\n",
    "features= pd.merge(features,t2, on = 'custid', how='left').fillna(0)\n",
    "features['face_sales_rate'] = features['face_goods_sales'] / features['tot_sales']"
   ]
  },
  {
   "cell_type": "code",
   "execution_count": 194,
   "metadata": {},
   "outputs": [],
   "source": [
    "t2 = data.query(st).groupby('custid')['net_amt'].agg([('face_goods_freq', np.size)])\n",
    "features= pd.merge(features,t2, on = 'custid', how='left').fillna(0)\n",
    "features['face_goods_rate'] = features['face_goods_freq'] / features['sales_freq']"
   ]
  },
  {
   "cell_type": "code",
   "execution_count": 195,
   "metadata": {},
   "outputs": [],
   "source": [
    "data['pc_nm'] = data['pc_nm'].str.replace('디자이너부띠끄','디자이너부띠크')\n",
    "data['pc_nm'] = data['pc_nm'].str.replace('디자이너부틱','디자이너부띠크')\n",
    "data['pc_nm'] = data['pc_nm'].str.replace('트래디셔널','트레디셔널')\n",
    "data['pc_nm'] = data['pc_nm'].str.replace('침구/수예','침구수예')\n",
    "data['pc_nm'] = data['pc_nm'].str.replace('침구,수예','침구수예')\n",
    "data['pc_nm'] = data['pc_nm'].str.replace('피혁A','피혁')\n",
    "data['pc_nm'] = data['pc_nm'].str.replace('피혁B','피혁')\n",
    "data['pc_nm'] = data['pc_nm'].str.replace('캐릭터케쥬얼','캐릭터캐쥬얼')\n",
    "data['pc_nm'] = data['pc_nm'].str.replace('캐릭터캐주얼','캐릭터캐쥬얼')\n",
    "data['pc_nm'] = data['pc_nm'].str.replace('진캐주얼','진캐쥬얼')\n",
    "data['pc_nm'] = data['pc_nm'].str.replace('진케주얼','진캐쥬얼')\n",
    "data['pc_nm'] = data['pc_nm'].str.replace('로얄부틱','로얄부띠크')\n",
    "data['pc_nm'] = data['pc_nm'].str.replace('로얄부띠끄','로얄부띠크')"
   ]
  },
  {
   "cell_type": "code",
   "execution_count": 196,
   "metadata": {},
   "outputs": [],
   "source": [
    "twn_trend_brd = df.query(\"age>=20 & age<30\").pc_nm.value_counts().index[1:11].tolist()\n",
    "thr_trend_brd = df.query(\"age>=30 & age<40\").pc_nm.value_counts().index[1:11].tolist()\n",
    "for_trend_brd = df.query(\"age>=40 & age<50\").pc_nm.value_counts().index[1:11].tolist()\n",
    "fiv_trend_brd = df.query(\"age>=50 & age<60\").pc_nm.value_counts().index[1:11].tolist()\n",
    "six_trend_brd = df.query(\"age>=60\").pc_nm.value_counts().index[1:11].tolist()\n",
    "\n",
    "def map_twn_pc(x):\n",
    "    if x == twn_trend_brd[0]:\n",
    "        x=10\n",
    "    elif x == twn_trend_brd[1]:\n",
    "        x=9\n",
    "    elif x == twn_trend_brd[2]:\n",
    "        x=8\n",
    "    elif x == twn_trend_brd[3]:\n",
    "        x=7\n",
    "    elif x == twn_trend_brd[4]:\n",
    "        x=6\n",
    "    elif x == twn_trend_brd[5]:\n",
    "        x=5\n",
    "    elif x == twn_trend_brd[6]:\n",
    "        x=4\n",
    "    elif x == twn_trend_brd[7]:\n",
    "        x=3\n",
    "    elif x == twn_trend_brd[8]:\n",
    "        x=2\n",
    "    elif x == twn_trend_brd[9]:\n",
    "        x=1\n",
    "    else:\n",
    "        x=0\n",
    "    return x\n",
    "\n",
    "def map_thr_pc(x):\n",
    "    if x == thr_trend_brd[0]:\n",
    "        x=10\n",
    "    elif x == thr_trend_brd[1]:\n",
    "        x=9\n",
    "    elif x == thr_trend_brd[2]:\n",
    "        x=8\n",
    "    elif x == thr_trend_brd[3]:\n",
    "        x=7\n",
    "    elif x == thr_trend_brd[4]:\n",
    "        x=6\n",
    "    elif x == thr_trend_brd[5]:\n",
    "        x=5\n",
    "    elif x == thr_trend_brd[6]:\n",
    "        x=4\n",
    "    elif x == thr_trend_brd[7]:\n",
    "        x=3\n",
    "    elif x == thr_trend_brd[8]:\n",
    "        x=2\n",
    "    elif x == thr_trend_brd[9]:\n",
    "        x=1\n",
    "    else:\n",
    "        x=0\n",
    "    return x\n",
    "\n",
    "def map_for_pc(x):\n",
    "    if x == for_trend_brd[0]:\n",
    "        x=10\n",
    "    elif x == for_trend_brd[1]:\n",
    "        x=9\n",
    "    elif x == for_trend_brd[2]:\n",
    "        x=8\n",
    "    elif x == for_trend_brd[3]:\n",
    "        x=7\n",
    "    elif x == for_trend_brd[4]:\n",
    "        x=6\n",
    "    elif x == for_trend_brd[5]:\n",
    "        x=5\n",
    "    elif x == for_trend_brd[6]:\n",
    "        x=4\n",
    "    elif x == for_trend_brd[7]:\n",
    "        x=3\n",
    "    elif x == for_trend_brd[8]:\n",
    "        x=2\n",
    "    elif x == for_trend_brd[9]:\n",
    "        x=1\n",
    "    else:\n",
    "        x=0\n",
    "    return x\n",
    "\n",
    "def map_fiv_pc(x):\n",
    "    if x == fiv_trend_brd[0]:\n",
    "        x=10\n",
    "    elif x == fiv_trend_brd[1]:\n",
    "        x=9\n",
    "    elif x == fiv_trend_brd[2]:\n",
    "        x=8\n",
    "    elif x == fiv_trend_brd[3]:\n",
    "        x=7\n",
    "    elif x == fiv_trend_brd[4]:\n",
    "        x=6\n",
    "    elif x == fiv_trend_brd[5]:\n",
    "        x=5\n",
    "    elif x == fiv_trend_brd[6]:\n",
    "        x=4\n",
    "    elif x == fiv_trend_brd[7]:\n",
    "        x=3\n",
    "    elif x == fiv_trend_brd[8]:\n",
    "        x=2\n",
    "    elif x == fiv_trend_brd[9]:\n",
    "        x=1\n",
    "    else:\n",
    "        x=0\n",
    "    return x\n",
    "\n",
    "def map_six_pc(x):\n",
    "    if x == six_trend_brd[0]:\n",
    "        x=10\n",
    "    elif x == six_trend_brd[1]:\n",
    "        x=9\n",
    "    elif x == six_trend_brd[2]:\n",
    "        x=8\n",
    "    elif x == six_trend_brd[3]:\n",
    "        x=7\n",
    "    elif x == six_trend_brd[4]:\n",
    "        x=6\n",
    "    elif x == six_trend_brd[5]:\n",
    "        x=5\n",
    "    elif x == six_trend_brd[6]:\n",
    "        x=4\n",
    "    elif x == six_trend_brd[7]:\n",
    "        x=3\n",
    "    elif x == six_trend_brd[8]:\n",
    "        x=2\n",
    "    elif x == six_trend_brd[9]:\n",
    "        x=1\n",
    "    else:\n",
    "        x=0\n",
    "    return x\n",
    "\n",
    "data['twn_pc_point'] = data['pc_nm'].apply(map_twn_pc)\n",
    "data['thr_pc_point'] = data['pc_nm'].apply(map_thr_pc)\n",
    "data['for_pc_point'] = data['pc_nm'].apply(map_for_pc)\n",
    "data['fiv_pc_point'] = data['pc_nm'].apply(map_fiv_pc)\n",
    "data['six_pc_point'] = data['pc_nm'].apply(map_six_pc)\n",
    "\n",
    "twn_pcnm_point=data.groupby('custid')['twn_pc_point'].mean().reset_index()\n",
    "thr_pcnm_point=data.groupby('custid')['thr_pc_point'].mean().reset_index()\n",
    "for_pcnm_point=data.groupby('custid')['for_pc_point'].mean().reset_index()\n",
    "fiv_pcnm_point=data.groupby('custid')['fiv_pc_point'].mean().reset_index()\n",
    "six_pcnm_point=data.groupby('custid')['six_pc_point'].mean().reset_index()\n",
    "\n",
    "features = pd.merge(features, twn_pcnm_point, how='left',on='custid')\n",
    "features = pd.merge(features, thr_pcnm_point, how='left',on='custid')\n",
    "features = pd.merge(features, for_pcnm_point, how='left',on='custid')\n",
    "features = pd.merge(features, fiv_pcnm_point, how='left',on='custid')\n",
    "features = pd.merge(features, six_pcnm_point, how='left',on='custid')"
   ]
  },
  {
   "cell_type": "code",
   "execution_count": 197,
   "metadata": {},
   "outputs": [],
   "source": [
    "f = data[data.tot_amt > 0].groupby('custid')['pc_nm'].agg([('young_pc', lambda x: list(x).count('캐릭터정장')+list(x).count('영트랜디')+list(x).count('영캐릭터캐쥬얼')+list(x).count('트랜디 케쥬얼')+list(x).count('캐릭터캐쥬얼')+list(x).count('장신구')+list(x).count('피혁')+list(x).count('섬유')+list(x).count('소품')+list(x).count('핸드백')+list(x).count('(주)현스포츠아쌤'))]).reset_index()\n",
    "features = pd.merge(features, f, on='custid')"
   ]
  },
  {
   "cell_type": "code",
   "execution_count": 198,
   "metadata": {},
   "outputs": [],
   "source": [
    "features['20goods_rate']=features['young_pc']/features.sales_freq"
   ]
  },
  {
   "cell_type": "code",
   "execution_count": 199,
   "metadata": {},
   "outputs": [],
   "source": [
    "#50대선호\n",
    "\n",
    "f = data[data.tot_amt > 0].groupby('custid')['pc_nm'].agg([('butique_freq', lambda x: list(x).count('로얄부띠크')+list(x).count('디자이너부띠크'))]).reset_index()\n",
    "features = pd.merge(features, f, on='custid')"
   ]
  },
  {
   "cell_type": "code",
   "execution_count": 200,
   "metadata": {},
   "outputs": [],
   "source": [
    "features['50goods_rate']=features['butique_freq']/features.sales_freq"
   ]
  },
  {
   "cell_type": "code",
   "execution_count": 201,
   "metadata": {},
   "outputs": [],
   "source": [
    "#트랜드 명품 구매비율\n",
    "f = data[data.tot_amt > 0].groupby('custid')['pc_nm'].agg([('expensive_freq', lambda x: list(x).count('명품토탈')+list(x).count('명품시즌'))]).reset_index()\n",
    "features = pd.merge(features, f, on='custid')"
   ]
  },
  {
   "cell_type": "code",
   "execution_count": 202,
   "metadata": {},
   "outputs": [],
   "source": [
    "features['20~30expensive_rate']=features['expensive_freq']/features.sales_freq"
   ]
  },
  {
   "cell_type": "code",
   "execution_count": null,
   "metadata": {},
   "outputs": [],
   "source": []
  },
  {
   "cell_type": "code",
   "execution_count": null,
   "metadata": {},
   "outputs": [],
   "source": []
  },
  {
   "cell_type": "code",
   "execution_count": 203,
   "metadata": {},
   "outputs": [],
   "source": [
    "data['pc_nm'] = data['pc_nm'].map({'화장품':'face_goods', '명품토탈':'expensive_total', '캐릭터정장':'chr_suit',  '수예':'suae', '유아/완구':'baby_wangu', '패션슈즈':'fashoin_shoes',\n",
    "       '가전':'electronic', '영트랜디':'young_trend', '조리식품':'instant_food', '스포츠':'sports', '아동':'baby', '트래디셔널캐쥬얼':'trady_ca', '가전/문화':'ele_cultur', '셔츠':'shirts',\n",
    "       '란제리':'rangeri', '식기':'food_case', '영캐릭터캐쥬얼':'young_chr', '골프':'golf', '캐릭터캐쥬얼':'chr_cha', '엘레강스캐쥬얼':'elegangs', '트레디셔널':'tradi',\n",
    "       '정장':'suit', '일반식품':'normal_food', '아동복':'baby_cloth', '축산물':'pig', '미확인pc':'unknown_pc','농산물':'vegetable','트랜디 케쥬얼':'trendi cha',\n",
    "        '영트렌디':'young_trendi','여성캐주얼':'girl_cha','문화용품':'culture_goods','생활용품':'lsang','문화':'culture','니트,단품,모피':'neat_mofi','섬유잡화':'sumyou_goods','내의란제리':'inrangeri',\n",
    "        '진캐쥬얼':'jean_ca3','여성구두':'girl_shoes','명품시즌':'expensive_season','남여구두':'man_girl','장신구':'jangsingu','수산물':'susanmul','악세사리':'accesory','섬유':'sumyou',\n",
    "        '어덜트캐주얼':'adult_cha','소품':'sopeum','캐주얼':'cha','미씨캐주얼':'messi_cha','영캐주얼':'young_cha','타운란제리':'townrangeri',\n",
    "        '핸드백':'handbag','수입명품':'suip_goods','디자이너부띠크':'designier_beatuty','쇼핑보증':'shooping_bo','미씨캐릭터':'messi_cha5',\n",
    "        '가구':'gagu','캐쥬얼':'cha2','니트/단품':'neat_one','남성잡화':'man_jobs','(주)현스포츠아쌤':'sportsam','침구수예':'chimgu4','패션시즌':'fashion_season',\n",
    "        '수입의류':'suip_cloth','용기보증':'youngi','사이버쇼핑':'cyber_shopping'})"
   ]
  },
  {
   "cell_type": "code",
   "execution_count": 204,
   "metadata": {},
   "outputs": [],
   "source": [
    "#주구매상품\n",
    "f = data.groupby('custid')['pc_nm'].agg([\n",
    "    ('main_goods', lambda x: x.value_counts().index[0])\n",
    "]).reset_index()"
   ]
  },
  {
   "cell_type": "code",
   "execution_count": 205,
   "metadata": {},
   "outputs": [],
   "source": [
    "features = features.merge(f, how='left')\n",
    "features = pd.get_dummies(features, 'main_goods')"
   ]
  },
  {
   "cell_type": "code",
   "execution_count": 206,
   "metadata": {},
   "outputs": [],
   "source": [
    "f_p = data[data.tot_amt>0].groupby('pc_nm')['tot_amt'].agg([\n",
    "    ('main_goods_price', 'mean')\n",
    "]).reset_index()"
   ]
  },
  {
   "cell_type": "code",
   "execution_count": 207,
   "metadata": {},
   "outputs": [],
   "source": [
    "f = pd.merge(f, f_p,  left_on = 'main_goods',right_on='pc_nm',how='left')"
   ]
  },
  {
   "cell_type": "code",
   "execution_count": 208,
   "metadata": {},
   "outputs": [],
   "source": [
    "features = pd.merge(features, f[['custid','main_goods_price']],  left_on = 'custid',right_on='custid',how='left')"
   ]
  },
  {
   "cell_type": "code",
   "execution_count": 209,
   "metadata": {},
   "outputs": [],
   "source": [
    "pc_count=data[data.tot_amt>0].groupby(['custid','pc_nm'])['pc_nm'].count().unstack().fillna(0)\n",
    "\n",
    "pc_count.columns = ['pc_size_'+ str(column) for column in pc_count.columns]\n",
    "pc_count = pc_count.reset_index()\n",
    "\n",
    "features = pd.merge(features, pc_count, how='left',on = 'custid')"
   ]
  },
  {
   "cell_type": "code",
   "execution_count": null,
   "metadata": {},
   "outputs": [],
   "source": []
  },
  {
   "cell_type": "code",
   "execution_count": 210,
   "metadata": {},
   "outputs": [],
   "source": [
    "\n",
    "data['part_nm'] = data['part_nm'].map({'명품잡화':'aaa', '잡화파트':'bbb', '남성의류':'ccc', '골프/유니캐쥬얼':'ddd', '가정용품':'eee', '아동':'fff', '잡화':'ggg',\n",
    "       '영어덜트캐쥬얼':'hhh', '영라이브':'iii', '공산품':'jjj', '스포츠캐쥬얼':'kkk', '여성캐주얼':'lll', '여성정장':'mmm', '케주얼,구두,아동':'nnn', '남성정장스포츠':'ooo', '아동문화':'ppp',\n",
    "       '로얄부띠끄':'qqq', '공산품파트':'rrr', '생식품파트':'sss', '여성의류파트':'ttt', '가정용품파트':'uuu', '아동,스포츠':'vvv', '패션잡화':'www',\n",
    "       '영캐릭터':'abbb', '영플라자':'abbc', '생식품':'abbd', '스포츠캐주얼':'abbe', '여성캐쥬얼':'abbf', '로얄부틱':'abbg','인터넷백화점':'abbh'})\n"
   ]
  },
  {
   "cell_type": "code",
   "execution_count": 211,
   "metadata": {},
   "outputs": [],
   "source": [
    "#주구매상품분류\n",
    "f = data.groupby('custid')['part_nm'].agg([\n",
    "    ('main_part', lambda x: x.value_counts().index[0])\n",
    "]).reset_index()"
   ]
  },
  {
   "cell_type": "code",
   "execution_count": 212,
   "metadata": {},
   "outputs": [],
   "source": [
    "features = features.merge(f, how='left')\n",
    "features = pd.get_dummies(features, 'main_part')"
   ]
  },
  {
   "cell_type": "code",
   "execution_count": 213,
   "metadata": {},
   "outputs": [],
   "source": [
    "f_p = data[data.tot_amt>0].groupby('part_nm')['tot_amt'].agg([\n",
    "    ('main_part_price', 'mean')\n",
    "]).reset_index()"
   ]
  },
  {
   "cell_type": "code",
   "execution_count": 214,
   "metadata": {},
   "outputs": [],
   "source": [
    "f = pd.merge(f, f_p,  left_on = 'main_part',right_on='part_nm',how='left')"
   ]
  },
  {
   "cell_type": "code",
   "execution_count": 215,
   "metadata": {},
   "outputs": [],
   "source": [
    "features = pd.merge(features, f[['custid','main_part_price']],  left_on = 'custid',right_on='custid',how='left')"
   ]
  },
  {
   "cell_type": "code",
   "execution_count": 216,
   "metadata": {},
   "outputs": [],
   "source": [
    "part_count=data[data.tot_amt>0].groupby(['custid','part_nm'])['part_nm'].count().unstack().fillna(0)\n",
    "\n",
    "part_count.columns = ['part_size_'+ str(column) for column in part_count.columns]\n",
    "part_count = part_count.reset_index()\n",
    "\n",
    "features = pd.merge(features, part_count, how='left',on = 'custid')"
   ]
  },
  {
   "cell_type": "code",
   "execution_count": 217,
   "metadata": {},
   "outputs": [],
   "source": [
    "#내점 당 구매건수 / 내점당 구매액\n",
    "features['one_sales_freq']=features.sales_freq/features.sales_dayofweek\n",
    "features['one_tot_amt']=features.tot_sales/features.sales_dayofweek"
   ]
  },
  {
   "cell_type": "code",
   "execution_count": null,
   "metadata": {},
   "outputs": [],
   "source": []
  },
  {
   "cell_type": "code",
   "execution_count": 218,
   "metadata": {},
   "outputs": [],
   "source": [
    "data['part_pc'] = data['part_nm'].astype(str) + \"_\" + data['pc_nm'].astype(str)"
   ]
  },
  {
   "cell_type": "code",
   "execution_count": 219,
   "metadata": {},
   "outputs": [],
   "source": [
    "#주구매상품분류\n",
    "f = data.groupby('custid')['part_pc'].agg([\n",
    "    ('main_part_pc', lambda x: x.mode()[0])\n",
    "]).reset_index()"
   ]
  },
  {
   "cell_type": "code",
   "execution_count": 220,
   "metadata": {},
   "outputs": [],
   "source": [
    "features = features.merge(f, how='left')\n",
    "features = pd.get_dummies(features, 'main_part_pc')"
   ]
  },
  {
   "cell_type": "code",
   "execution_count": 221,
   "metadata": {},
   "outputs": [],
   "source": [
    "f_p = data[data.tot_amt>0].groupby('part_pc')['tot_amt'].agg([\n",
    "    ('main_part_pc_price', 'mean')\n",
    "]).reset_index()"
   ]
  },
  {
   "cell_type": "code",
   "execution_count": 222,
   "metadata": {},
   "outputs": [],
   "source": [
    "f = pd.merge(f, f_p,  left_on = 'main_part_pc',right_on='part_pc',how='left')"
   ]
  },
  {
   "cell_type": "code",
   "execution_count": 223,
   "metadata": {},
   "outputs": [],
   "source": [
    "features = pd.merge(features, f[['custid','main_part_pc_price']],  left_on = 'custid',right_on='custid',how='left')"
   ]
  },
  {
   "cell_type": "code",
   "execution_count": 224,
   "metadata": {},
   "outputs": [],
   "source": [
    "part_count=data[data.tot_amt>0].groupby(['custid','part_pc'])['part_pc'].count().unstack().fillna(0)\n",
    "\n",
    "part_count.columns = ['part_pc_size_'+ str(column) for column in part_count.columns]\n",
    "part_count = part_count.reset_index()\n",
    "\n",
    "features = pd.merge(features, part_count, how='left',on = 'custid')"
   ]
  },
  {
   "cell_type": "code",
   "execution_count": null,
   "metadata": {},
   "outputs": [],
   "source": []
  },
  {
   "cell_type": "code",
   "execution_count": 225,
   "metadata": {},
   "outputs": [],
   "source": [
    "features1=features.copy()"
   ]
  },
  {
   "cell_type": "code",
   "execution_count": 226,
   "metadata": {},
   "outputs": [],
   "source": [
    "i_max=[]\n",
    "for i in list(features.columns):\n",
    "    if features[i].max()>50000:\n",
    "        i_max.append(i)"
   ]
  },
  {
   "cell_type": "code",
   "execution_count": 227,
   "metadata": {},
   "outputs": [],
   "source": [
    "i_max_min=[]\n",
    "for i in i_max:\n",
    "    if features[i].min()>0:\n",
    "        i_max_min.append(i)"
   ]
  },
  {
   "cell_type": "code",
   "execution_count": 228,
   "metadata": {},
   "outputs": [],
   "source": [
    "features[i_max_min]=np.log1p(features[i_max_min])"
   ]
  },
  {
   "cell_type": "code",
   "execution_count": null,
   "metadata": {},
   "outputs": [],
   "source": []
  },
  {
   "cell_type": "code",
   "execution_count": 229,
   "metadata": {},
   "outputs": [],
   "source": [
    "# 데이터 분할\n",
    "X_train = pd.DataFrame({'custid':trn['custid'].unique()})\n",
    "X_train = pd.merge(X_train, features, how='left',on='custid')\n",
    "\n",
    "y_train = y['age']\n",
    "\n",
    "X_test = pd.DataFrame({'custid':tst['custid'].unique()})\n",
    "X_test = pd.merge(X_test, features, how='left',on='custid')"
   ]
  },
  {
   "cell_type": "code",
   "execution_count": 230,
   "metadata": {},
   "outputs": [],
   "source": [
    "X_train.drop('custid',axis=1,inplace=True)\n",
    "X_test.drop('custid',axis=1,inplace=True)"
   ]
  },
  {
   "cell_type": "code",
   "execution_count": 231,
   "metadata": {
    "scrolled": false
   },
   "outputs": [
    {
     "data": {
      "text/plain": [
       "((21587, 757), (14380, 757), (21587,))"
      ]
     },
     "execution_count": 231,
     "metadata": {},
     "output_type": "execute_result"
    }
   ],
   "source": [
    "X_train.shape, X_test.shape, y_train.shape"
   ]
  },
  {
   "cell_type": "code",
   "execution_count": 232,
   "metadata": {},
   "outputs": [],
   "source": [
    "X_columns=X_train.columns"
   ]
  },
  {
   "cell_type": "code",
   "execution_count": null,
   "metadata": {},
   "outputs": [],
   "source": []
  },
  {
   "cell_type": "code",
   "execution_count": 232,
   "metadata": {},
   "outputs": [],
   "source": [
    "from sklearn.preprocessing import StandardScaler\n",
    "scaler = StandardScaler()\n",
    "\n",
    "X_train_scaled = scaler.fit_transform(X_train)\n",
    "X_test_scaled = scaler.transform(X_test)"
   ]
  },
  {
   "cell_type": "code",
   "execution_count": 233,
   "metadata": {},
   "outputs": [],
   "source": [
    "X_train_scaled=pd.DataFrame(X_train_scaled,columns=X_columns)\n",
    "X_test_scaled=pd.DataFrame(X_test_scaled,columns=X_columns)"
   ]
  },
  {
   "cell_type": "code",
   "execution_count": null,
   "metadata": {},
   "outputs": [],
   "source": []
  },
  {
   "cell_type": "code",
   "execution_count": 233,
   "metadata": {},
   "outputs": [],
   "source": [
    "X_train_scaled = pd.concat([X_train, train_mean_vector], axis=1)\n",
    "X_test_scaled = pd.concat([X_test, test_mean_vector], axis=1)"
   ]
  },
  {
   "cell_type": "code",
   "execution_count": 234,
   "metadata": {},
   "outputs": [],
   "source": [
    "X_train_scaled = pd.concat([X_train_scaled, train_mean_vector_2], axis=1)\n",
    "X_test_scaled = pd.concat([X_test_scaled, test_mean_vector_2], axis=1)"
   ]
  },
  {
   "cell_type": "code",
   "execution_count": 235,
   "metadata": {
    "scrolled": true
   },
   "outputs": [
    {
     "data": {
      "text/plain": [
       "((21587, 957), (14380, 957), (21587,))"
      ]
     },
     "execution_count": 235,
     "metadata": {},
     "output_type": "execute_result"
    }
   ],
   "source": [
    "X_train_scaled.shape, X_test_scaled.shape, y_train.shape"
   ]
  },
  {
   "cell_type": "code",
   "execution_count": 239,
   "metadata": {},
   "outputs": [],
   "source": [
    "X_train_scaled.to_csv('hyun_features' , index = False)"
   ]
  },
  {
   "cell_type": "code",
   "execution_count": 240,
   "metadata": {},
   "outputs": [],
   "source": [
    "X_test_scaled.to_csv('hyun_features_te' , index = False)"
   ]
  },
  {
   "cell_type": "code",
   "execution_count": null,
   "metadata": {},
   "outputs": [],
   "source": []
  }
 ],
 "metadata": {
  "kernelspec": {
   "display_name": "Python 3",
   "language": "python",
   "name": "python3"
  },
  "language_info": {
   "codemirror_mode": {
    "name": "ipython",
    "version": 3
   },
   "file_extension": ".py",
   "mimetype": "text/x-python",
   "name": "python",
   "nbconvert_exporter": "python",
   "pygments_lexer": "ipython3",
   "version": "3.7.6"
  }
 },
 "nbformat": 4,
 "nbformat_minor": 4
}
