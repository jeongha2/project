{
 "cells": [
  {
   "cell_type": "code",
   "execution_count": 1,
   "metadata": {},
   "outputs": [],
   "source": [
    "import pandas as pd\n",
    "pd.set_option(\"display.max_columns\", 200)\n",
    "import numpy as np\n",
    "import datetime\n",
    "from glob import glob\n",
    "\n",
    "# 4. Encoding & Interaction Features\n",
    "from itertools import combinations\n",
    "from tqdm import tqdm\n",
    "from sklearn.preprocessing import LabelEncoder, PolynomialFeatures\n",
    "from pycaret.classification import setup, get_config\n",
    "from imblearn.over_sampling import ADASYN\n",
    "\n",
    "from sklearn.model_selection import StratifiedKFold, train_test_split, cross_val_score\n",
    "from sklearn.metrics import roc_auc_score, make_scorer\n",
    "rocauc = make_scorer(roc_auc_score)\n",
    "\n",
    "from bayes_opt import BayesianOptimization\n",
    "from sklearn.ensemble import ExtraTreesClassifier\n",
    "\n",
    "# Others\n",
    "import warnings\n",
    "warnings.simplefilter('ignore')\n",
    "warnings.filterwarnings('ignore')\n",
    "\n",
    "import os\n",
    "os.environ[\"CUDA_VISIBLE_DEVICES\"]=\"0\""
   ]
  },
  {
   "cell_type": "markdown",
   "metadata": {},
   "source": [
    "- read data"
   ]
  },
  {
   "cell_type": "code",
   "execution_count": 2,
   "metadata": {
    "scrolled": true
   },
   "outputs": [],
   "source": [
    "pd.set_option('max_columns',100)\n",
    "\n",
    "path = './data'\n",
    "\n",
    "data = pd.read_csv(path + '/trainset.csv')\n",
    "test = pd.read_csv( path + '/testset_final.csv')\n",
    "sub = pd.read_csv( path + '/sample_submission_final.csv')"
   ]
  },
  {
   "cell_type": "code",
   "execution_count": 3,
   "metadata": {
    "scrolled": true
   },
   "outputs": [],
   "source": [
    "data['매니저생년월일'] = data['매니저생년월일'].apply(lambda x : x[:4])\n",
    "data = data.drop(['매니저최초가입일' , '매니저최초서비스일' , '매니저주소'] , axis = 1 )"
   ]
  },
  {
   "cell_type": "markdown",
   "metadata": {},
   "source": [
    "- 결측치 제거"
   ]
  },
  {
   "cell_type": "code",
   "execution_count": 4,
   "metadata": {},
   "outputs": [],
   "source": [
    "#결측 제거\n",
    "data[['반려동물','우선청소','매니저사용휴대폰','매니저이동방법']] = data[['반려동물','우선청소','매니저사용휴대폰','매니저이동방법']].fillna('정보없음')\n",
    "data[['부재중여부','CS교육이수여부','청소교육이수여부']] = data[['부재중여부','CS교육이수여부','청소교육이수여부']].fillna(0)\n",
    "\n",
    "test[['반려동물','우선청소','매니저사용휴대폰','매니저이동방법']] = test[['반려동물','우선청소','매니저사용휴대폰','매니저이동방법']].fillna('정보없음')\n",
    "test[['부재중여부','CS교육이수여부','청소교육이수여부']] = test[['부재중여부','CS교육이수여부','청소교육이수여부']].fillna(0)"
   ]
  },
  {
   "cell_type": "code",
   "execution_count": 5,
   "metadata": {},
   "outputs": [],
   "source": [
    "# test 결재형태 결측 제거 - train의 결재형태 최빈값으로 채워줌\n",
    "test['결재형태'] = test['결재형태'].fillna('신용카드')"
   ]
  },
  {
   "cell_type": "code",
   "execution_count": 6,
   "metadata": {},
   "outputs": [],
   "source": [
    "#평수 결측값 제거\n",
    "new_feet = {\n",
    "'10평대' : 0,\n",
    "'20평대' : 1,\n",
    "'30평대' : 2,\n",
    "'40평대이상' : 3    \n",
    "}\n",
    "\n",
    "data['평수'] = data['평수'].map(new_feet).fillna(2)\n",
    "test['평수'] = test['평수'].map(new_feet).fillna(2)"
   ]
  },
  {
   "cell_type": "markdown",
   "metadata": {},
   "source": [
    "- Feature engineering"
   ]
  },
  {
   "cell_type": "code",
   "execution_count": 7,
   "metadata": {},
   "outputs": [],
   "source": [
    "#일자 데이터 datetime으로 변경\n",
    "time_cols = ['접수일','접수시각', '최초서비스일', '서비스일자', '서비스시작시간','서비스종료시간', '고객가입일']\n",
    "\n",
    "data[time_cols] = data[time_cols].apply(pd.to_datetime)\n",
    "test[time_cols] = test[time_cols].apply(pd.to_datetime)"
   ]
  },
  {
   "cell_type": "code",
   "execution_count": 8,
   "metadata": {},
   "outputs": [],
   "source": [
    "#서비스요일 변경\n",
    "data['서비스요일'] = data['서비스일자'].apply(lambda x: x.weekday())\n",
    "\n",
    "test['서비스요일'] = test['서비스일자'].apply(lambda x: x.weekday())"
   ]
  },
  {
   "cell_type": "code",
   "execution_count": 9,
   "metadata": {
    "scrolled": true
   },
   "outputs": [],
   "source": [
    "#가입_최초서비스 : 최초서비스일 - 고객가입일\n",
    "\n",
    "service_to_day = (data['서비스일자'] - data['최초서비스일']).mean()\n",
    "na_index = test['고객가입일'].isna()\n",
    "test.loc[na_index, '고객가입일'] = test[test['고객가입일'].isna()].apply(lambda x : x['최초서비스일'] - service_to_day, axis = 1)"
   ]
  },
  {
   "cell_type": "code",
   "execution_count": 10,
   "metadata": {},
   "outputs": [],
   "source": [
    "# 고객가입일_time\n",
    "\n",
    "data['고객가입_year'] = data['고객가입일'].dt.year\n",
    "data['고객가입_month'] = data['고객가입일'].dt.month\n",
    "data['고객가입_day'] = data['고객가입일'].dt.day\n",
    "data['고객가입_요일'] = data['고객가입일'].dt.weekday\n",
    "\n",
    "test['고객가입_year'] = test['고객가입일'].dt.year\n",
    "test['고객가입_month'] = test['고객가입일'].dt.month\n",
    "test['고객가입_day'] = test['고객가입일'].dt.day\n",
    "test['고객가입_요일'] = test['고객가입일'].dt.weekday"
   ]
  },
  {
   "cell_type": "code",
   "execution_count": 11,
   "metadata": {},
   "outputs": [],
   "source": [
    "# 서비스 주소 == 근무가능주소 \n",
    "add_lst = list(data['서비스주소'].unique())\n",
    "\n",
    "add_seoul = [i for i in add_lst if '서울' in i]\n",
    "add_ch = [i for i in add_lst if '충남' in i]\n",
    "add_gw = [i for i in add_lst if '강원' in i]\n",
    "add_pt = [i for i in add_lst if '평택' in i]\n",
    "add_gj = [i for i in add_lst if '광주' in i]\n",
    "add_city = [i for i in add_lst if ('서울' in i) or ('경기' in i)]\n",
    "add_bs = [i for i in add_lst if '부산' in i]\n",
    "\n",
    "def add_modify(address):\n",
    "    if address in add_seoul: return '서울'\n",
    "    elif address in add_ch: return '천안/아산'\n",
    "    elif address in add_gw: return '원주/춘천'\n",
    "    elif address in add_pt: return '평택'\n",
    "    elif address in add_gj: return '광주'\n",
    "    elif address in add_city: return '수도권'\n",
    "    elif address in add_bs: return '부산'\n",
    "    else: return '기타'\n",
    "\n",
    "def matching_add(service, possible):\n",
    "    if service == possible:\n",
    "        return 1\n",
    "    elif (service == '서울') and (possible == '수도권'):\n",
    "        return 1\n",
    "    else :\n",
    "        return 0\n",
    "\n",
    "data['서비스주소_2'] = data['서비스주소'].apply(add_modify)\n",
    "data['지역_매칭'] = data.apply(lambda x: matching_add(x.서비스주소_2,x.근무가능지역),axis=1)\n",
    "data.drop('서비스주소_2',axis = 1,inplace = True)\n",
    "\n",
    "test['서비스주소_2'] = test['서비스주소'].apply(add_modify)\n",
    "test['지역_매칭'] = test.apply(lambda x: matching_add(x.서비스주소_2,x.근무가능지역),axis=1)\n",
    "test.drop('서비스주소_2',axis = 1,inplace = True)"
   ]
  },
  {
   "cell_type": "code",
   "execution_count": 12,
   "metadata": {},
   "outputs": [],
   "source": [
    "# 총서비스시간\n",
    "data['서비스시작시간'] = data['서비스시작시간'].apply(lambda x: x.hour)\n",
    "data['서비스종료시간'] = data['서비스종료시간'].apply(lambda x: x.hour)\n",
    "\n",
    "data['총서비스시간'] = data['서비스종료시간'] - data['서비스시작시간']\n",
    "\n",
    "test['서비스시작시간'] = test['서비스시작시간'].apply(lambda x: x.hour)\n",
    "test['서비스종료시간'] = test['서비스종료시간'].apply(lambda x: x.hour)\n",
    "\n",
    "test['총서비스시간'] = test['서비스종료시간'] - test['서비스시작시간']"
   ]
  },
  {
   "cell_type": "code",
   "execution_count": 13,
   "metadata": {},
   "outputs": [],
   "source": [
    "#서비스 월\n",
    "data['서비스월'] = data['서비스일자'].apply(lambda x: x.month)\n",
    "\n",
    "test['서비스월'] = test['서비스일자'].apply(lambda x: x.month)"
   ]
  },
  {
   "cell_type": "code",
   "execution_count": 14,
   "metadata": {},
   "outputs": [],
   "source": [
    "#서비스일자와 접수일자 차이\n",
    "def 서비스_접수_차이(service_day, recep_day):\n",
    "    time = service_day - recep_day\n",
    "    return time.days\n",
    "\n",
    "data['서비스-접수-차이'] = data.apply(lambda x: 서비스_접수_차이(x.서비스일자,x.접수일),axis=1)\n",
    "test['서비스-접수-차이'] = test.apply(lambda x: 서비스_접수_차이(x.서비스일자,x.접수일),axis=1)"
   ]
  },
  {
   "cell_type": "code",
   "execution_count": 15,
   "metadata": {},
   "outputs": [],
   "source": [
    "#매니저 연령대\n",
    "\n",
    "def age(recep_day,birth):\n",
    "    return recep_day.year - int(birth) + 1\n",
    "       \n",
    "data['매니저연령'] = data.apply(lambda x: age(x.접수일,x.매니저생년월일),axis=1)\n",
    "data['매니저연령대'] = data['매니저연령'].apply(lambda x: int(str(x)[0]))\n",
    "data['매니저연령_qcut'] = data['매니저연령'].apply(lambda x: 0 if x <= 50 else ( 1 if x <= 52 else ( 2 if x <= 56 else ( 3 if x <= 60 else 4))))\n",
    "\n",
    "test['매니저연령'] = test.apply(lambda x: age(x.접수일,x.매니저생년월일),axis=1)\n",
    "test['매니저연령대'] = test['매니저연령'].apply(lambda x: int(str(x)[0]))\n",
    "test['매니저연령_qcut'] = test['매니저연령'].apply(lambda x: 0 if x <= 50 else ( 1 if x <= 52 else ( 2 if x <= 56 else ( 3 if x <= 60 else 4))))"
   ]
  },
  {
   "cell_type": "code",
   "execution_count": 16,
   "metadata": {},
   "outputs": [],
   "source": [
    "#부재중 서비스가능여부와 부재중여부 일치\n",
    "def 부재중(possible,whether):\n",
    "    return '서비스가능여부' + str(possible) + '/부재중여부' + str(whether)\n",
    "\n",
    "data['부재중_일치'] = data.apply(lambda x : 부재중(x.부재중서비스가능여부,x.부재중여부),axis = 1)\n",
    "\n",
    "test['부재중_일치'] = test.apply(lambda x : 부재중(x.부재중서비스가능여부,x.부재중여부),axis = 1)"
   ]
  },
  {
   "cell_type": "code",
   "execution_count": 17,
   "metadata": {},
   "outputs": [],
   "source": [
    "#반려동물여부\n",
    "data['반려동물여부'] = data['반려동물'].apply(lambda x : 0 if x in [\"없음\" , '정보없음'] else 1)\n",
    "test['반려동물여부'] = test['반려동물'].apply(lambda x : 0 if x in [\"없음\" , '정보없음'] else 1)"
   ]
  },
  {
   "cell_type": "code",
   "execution_count": 18,
   "metadata": {},
   "outputs": [],
   "source": [
    "#서비스이용기간 : 서비스일자 - 최초서비스일\n",
    "data['서비스이용기간'] = (data['서비스일자'] - data['최초서비스일']).astype(str).apply(lambda x : int(x[:-5]))\n",
    "\n",
    "test['서비스이용기간'] = (test['서비스일자'] - test['최초서비스일']).astype(str).apply(lambda x : int(x[:-5]))"
   ]
  },
  {
   "cell_type": "code",
   "execution_count": 19,
   "metadata": {},
   "outputs": [],
   "source": [
    "#회차별 일자\n",
    "data['회차별일자'] = data.apply(lambda x : x['서비스이용기간']/x['현재회차'], axis = 1)\n",
    "\n",
    "test['회차별일자'] = test.apply(lambda x : x['서비스이용기간']/x['현재회차'], axis = 1)"
   ]
  },
  {
   "cell_type": "code",
   "execution_count": 20,
   "metadata": {
    "scrolled": true
   },
   "outputs": [],
   "source": [
    "#가입_최초서비스 : 최초서비스일 - 고객가입일\n",
    "data['가입_최초서비스'] = (data['최초서비스일'] - data['고객가입일']).astype(str).apply(lambda x :int(x.split()[0]))\n",
    "\n",
    "test['가입_최초서비스'] = (test['최초서비스일'] - test['고객가입일']).astype(str).apply(lambda x : int(x.split()[0]))"
   ]
  },
  {
   "cell_type": "code",
   "execution_count": 21,
   "metadata": {
    "scrolled": true
   },
   "outputs": [],
   "source": [
    "#접수시간\n",
    "data['접수시간'] = data['접수시각'].dt.hour.fillna(-1)\n",
    "\n",
    "test['접수시간'] = test['접수시각'].dt.hour.fillna(-1)"
   ]
  },
  {
   "cell_type": "code",
   "execution_count": 22,
   "metadata": {},
   "outputs": [],
   "source": [
    "#서비스진행비율\n",
    "data['서비스진행비율'] = data['현재회차'] / data['전체회차']\n",
    "\n",
    "test['서비스진행비율'] = test['현재회차'] / test['전체회차']"
   ]
  },
  {
   "cell_type": "code",
   "execution_count": 23,
   "metadata": {},
   "outputs": [],
   "source": [
    "#서비스연도, 서비스 계절\n",
    "data['서비스연도'] = data['서비스일자'].dt.year\n",
    "data['서비스계절'] = data['서비스일자'].dt.month.apply(lambda x : '겨울' if x in [12,1,2] else ( '봄' if x in [3,4,5] else ( '여름' if x in [6,7,8] else '가을')) )\n",
    "\n",
    "test['서비스연도'] = test['서비스일자'].dt.year\n",
    "test['서비스계절'] = test['서비스일자'].dt.month.apply(lambda x : '겨울' if x in [12,1,2] else ( '봄' if x in [3,4,5] else ( '여름' if x in [6,7,8] else '가을')) )"
   ]
  },
  {
   "cell_type": "code",
   "execution_count": 24,
   "metadata": {},
   "outputs": [],
   "source": [
    "# 가입 유지 기간\n",
    "data['이용연도'] = 2021 - data['고객가입일'].dt.year + 1\n",
    "\n",
    "test['이용연도'] = 2021 - test['고객가입일'].dt.year + 1"
   ]
  },
  {
   "cell_type": "code",
   "execution_count": 25,
   "metadata": {},
   "outputs": [],
   "source": [
    "#지역\n",
    "data['지역'] = data['서비스주소'].apply(lambda x : x.split(' ')[0])\n",
    "test['지역'] = test['서비스주소'].apply(lambda x : x.split(' ')[0])\n",
    "\n",
    "location_dict = { key : num for num, key in enumerate(data['지역'].unique())}\n",
    "\n",
    "data['지역'] = data['지역'].map(location_dict)\n",
    "test['지역'] = test['지역'].map(location_dict)"
   ]
  },
  {
   "cell_type": "code",
   "execution_count": 26,
   "metadata": {},
   "outputs": [],
   "source": [
    "# 서비스시작시각\n",
    "# 시간이 안적힌것도 있움\n",
    "data['서비스시작시각'] = data['서비스시작시간'].apply(lambda x : x // 6).apply(lambda x : 1 if x == 0 else x)\n",
    "\n",
    "test['서비스시작시각'] = test['서비스시작시간'].apply(lambda x : x // 6).apply(lambda x : 1 if x == 0 else x)"
   ]
  },
  {
   "cell_type": "code",
   "execution_count": 27,
   "metadata": {},
   "outputs": [],
   "source": [
    "# 서비스진행비율_qcut\n",
    "data['서비스진행비율_qcut'] = data['서비스진행비율'].apply(lambda x: 0.2 if x <= 0.2 else (0.4 if x<=0.4 else(0.6 if x<= 0.6 else(0.8 if x<= 0.8 else 1))))\n",
    "\n",
    "test['서비스진행비율_qcut'] = test['서비스진행비율'].apply(lambda x: 0.2 if x <= 0.2 else (0.4 if x<=0.4 else(0.6 if x<= 0.6 else(0.8 if x<= 0.8 else 1))))"
   ]
  },
  {
   "cell_type": "code",
   "execution_count": 28,
   "metadata": {
    "scrolled": true
   },
   "outputs": [],
   "source": [
    "# 서비스_접수_차이_qcut\n",
    "data['서비스_접수_차이_qcut'] = data['서비스-접수-차이'].apply(lambda x: 0 if x <= 4 else ( 1 if x <= 7 else ( 2 if x <= 14 else ( 3 if x <= 21 else 4))))\n",
    "\n",
    "test['서비스_접수_차이_qcut'] = test['서비스-접수-차이'].apply(lambda x: 0 if x <= 4 else ( 1 if x <= 7 else ( 2 if x <= 14 else ( 3 if x <= 21 else 4))))"
   ]
  },
  {
   "cell_type": "code",
   "execution_count": 29,
   "metadata": {},
   "outputs": [],
   "source": [
    "# 서비스이용기간_qcut\n",
    "data['서비스이용기간_qcut'] = data['서비스이용기간'].apply(lambda x: 0 if x <= 7 else ( 1 if x <= 14 else 2 ))\n",
    "\n",
    "test['서비스이용기간_qcut'] = test['서비스이용기간'].apply(lambda x: 0 if x <= 7 else ( 1 if x <= 14 else 2 ))"
   ]
  },
  {
   "cell_type": "code",
   "execution_count": 30,
   "metadata": {},
   "outputs": [],
   "source": [
    "# 접수시간_qcut\n",
    "data['접수시간_qcut'] = data['접수시간'].apply(lambda x: 0 if x <= 11 else ( 1 if x <= 14 else ( 2 if x <= 18 else 3 )))\n",
    "\n",
    "test['접수시간_qcut'] = test['접수시간'].apply(lambda x: 0 if x <= 11 else ( 1 if x <= 14 else ( 2 if x <= 18 else 3 )))"
   ]
  },
  {
   "cell_type": "code",
   "execution_count": 31,
   "metadata": {},
   "outputs": [],
   "source": [
    "# 가입_최초서비스_qcut\n",
    "data['가입_최초서비스_qcut'] = data['가입_최초서비스'].apply(lambda x : 0 if x <= 0 else ( 1 if x <= 37 else ( 2 if x <= 96 else ( 3 if x <= 235 else 4))))\n",
    "\n",
    "test['가입_최초서비스_qcut'] = test['가입_최초서비스'].apply(lambda x : 0 if x <= 0 else ( 1 if x <= 37 else ( 2 if x <= 96 else ( 3 if x <= 235 else 4))))"
   ]
  },
  {
   "cell_type": "code",
   "execution_count": 32,
   "metadata": {},
   "outputs": [],
   "source": [
    "# 회차별일자_qcut\n",
    "data['회차별일자_qcut'] = data['회차별일자'].apply(lambda x : 0 if x<= 2 else( 1 if x <= 6 else ( 2 if x <= 9 else ( 3 if x <= 27 else 4))))\n",
    "\n",
    "test['회차별일자_qcut'] = test['회차별일자'].apply(lambda x : 0 if x<= 2 else( 1 if x <= 6 else ( 2 if x <= 9 else ( 3 if x <= 27 else 4))))"
   ]
  },
  {
   "cell_type": "code",
   "execution_count": 33,
   "metadata": {},
   "outputs": [],
   "source": [
    "# 전체회차 이상치 12로 변경\n",
    "data['전체회차'] = data['전체회차'].apply(lambda x : 12 if x > 10 else x )\n",
    "\n",
    "test['전체회차'] = test['전체회차'].apply(lambda x : 12 if x > 10 else x )"
   ]
  },
  {
   "cell_type": "code",
   "execution_count": 34,
   "metadata": {},
   "outputs": [],
   "source": [
    "# 매니저_교육이수정도\n",
    "data['매니저_교육이수정도'] = data['CS교육이수여부'] + data['청소교육이수여부']\n",
    "\n",
    "test['매니저_교육이수정도'] = test['CS교육이수여부'] + test['청소교육이수여부']"
   ]
  },
  {
   "cell_type": "code",
   "execution_count": 35,
   "metadata": {},
   "outputs": [],
   "source": [
    "# cus_type\n",
    "data['cus_type'] = (data['기존고객여부'].astype(str) + data['결재형태'] + data['평수'].astype(str) + data['반려동물여부'].astype(str) +data['주거형태'] + data['서비스주소'])\n",
    "test['cus_type'] = (test['기존고객여부'].astype(str) + test['결재형태'] + test['평수'].astype(str) + test['반려동물여부'].astype(str) +test['주거형태'] + test['서비스주소'])\n",
    "\n",
    "house = list( set(test['cus_type'].unique()) - set(data['cus_type'].unique()))\n",
    "house = house + list(set(data['cus_type'].unique()) - set(test['cus_type'].unique())) \n",
    "\n",
    "data['cus_type'] = data['cus_type'].apply(lambda x : \"기타\" if x in house else x )\n",
    "test['cus_type'] = test['cus_type'].apply(lambda x : \"기타\" if x in house else x )"
   ]
  },
  {
   "cell_type": "code",
   "execution_count": 36,
   "metadata": {},
   "outputs": [
    {
     "name": "stdout",
     "output_type": "stream",
     "text": [
      "set()\n"
     ]
    }
   ],
   "source": [
    "# cus_type_count_1\n",
    "\n",
    "print(set(test['cus_type'] )- set(data['cus_type']))\n",
    "\n",
    "manager_satisfaction = data.query('매칭성공여부 == 1').groupby(['cus_type'])['매칭성공여부'].agg('count').to_dict() ####\n",
    "data['cus_type_count_1'] = data['cus_type'].map(manager_satisfaction)\n",
    "data['cus_type_count_1'] = data['cus_type_count_1'].fillna(0)\n",
    "\n",
    "test['cus_type_count_1'] = test['cus_type'].map(manager_satisfaction)\n",
    "test['cus_type_count_1'] = test['cus_type_count_1'].fillna(0)"
   ]
  },
  {
   "cell_type": "code",
   "execution_count": 37,
   "metadata": {},
   "outputs": [],
   "source": [
    "# house_type\n",
    "data['house_type'] = (data['평수'].astype(str) + data['반려동물여부'].astype(str) +data['주거형태'] + data['서비스주소'])\n",
    "test['house_type'] = (test['평수'].astype(str) + test['반려동물여부'].astype(str) +test['주거형태'] + test['서비스주소'])\n",
    "\n",
    "house = list( set(test['house_type'].unique()) - set(data['house_type'].unique()))\n",
    "house = house + list(set(data['house_type'].unique()) - set(test['house_type'].unique())) \n",
    "\n",
    "data['house_type'] = data['house_type'].apply(lambda x : \"기타\" if x in house else x )\n",
    "test['house_type'] = test['house_type'].apply(lambda x : \"기타\" if x in house else x )"
   ]
  },
  {
   "cell_type": "code",
   "execution_count": 38,
   "metadata": {},
   "outputs": [
    {
     "name": "stdout",
     "output_type": "stream",
     "text": [
      "set()\n"
     ]
    }
   ],
   "source": [
    "# house_type_count_1\n",
    "\n",
    "print(set(test['house_type'] )- set(data['house_type']))\n",
    "\n",
    "manager_satisfaction = data.query('매칭성공여부 == 1').groupby(['house_type'])['매칭성공여부'].agg('count').to_dict() ####\n",
    "data['house_type_count_1'] = data['house_type'].map(manager_satisfaction)\n",
    "data['house_type_count_1'] = data['house_type_count_1'].fillna(0)\n",
    "\n",
    "test['house_type_count_1'] = test['house_type'].map(manager_satisfaction)\n",
    "test['house_type_count_1'] = test['house_type_count_1'].fillna(0)"
   ]
  },
  {
   "cell_type": "code",
   "execution_count": 39,
   "metadata": {},
   "outputs": [],
   "source": [
    "# manager_type\n",
    "data['manager_type'] = (data['매니저사용휴대폰'] + data['매니저이동방법'] + data['근무가능지역'] + data['CS교육이수여부'].astype(str) + data['청소교육이수여부'].astype(str)+data['추천인여부'].astype(str))\n",
    "test['manager_type'] = (test['매니저사용휴대폰'] + test['매니저이동방법'] + test['근무가능지역'] + test['CS교육이수여부'].astype(str) + test['청소교육이수여부'].astype(str)+data['추천인여부'].astype(str))\n",
    "\n",
    "manager = list(set(data['manager_type'].unique()) - set(test['manager_type'].unique()))\n",
    "manager = manager + list(set(test['manager_type'].unique()) - set(data['manager_type'].unique()))\n",
    "\n",
    "data['manager_type'] = data['manager_type'].apply(lambda x : \"기타\" if x in manager else x )\n",
    "test['manager_type'] = test['manager_type'].apply(lambda x : \"기타\" if x in manager else x )"
   ]
  },
  {
   "cell_type": "code",
   "execution_count": 40,
   "metadata": {},
   "outputs": [],
   "source": [
    "# manager_type_count_1\n",
    "manager_satisfaction = data.query('매칭성공여부 == 1').groupby(['manager_type'])['매칭성공여부'].agg('count').to_dict() ####\n",
    "data['manager_type_count_1'] = data['manager_type'].map(manager_satisfaction)\n",
    "data['manager_type_count_1'] = data['manager_type_count_1'].fillna(0)\n",
    "\n",
    "test['manager_type_count_1'] = test['manager_type'].map(manager_satisfaction)\n",
    "test['manager_type_count_1'] = test['manager_type_count_1'].fillna(0)"
   ]
  },
  {
   "cell_type": "markdown",
   "metadata": {},
   "source": [
    "label encoding"
   ]
  },
  {
   "cell_type": "code",
   "execution_count": 41,
   "metadata": {},
   "outputs": [],
   "source": [
    "encoding_lst = ['결재형태','주거형태','우선청소','매니저사용휴대폰','매니저이동방법','서비스계절','부재중_일치','house_type' ,'manager_type' , 'cus_type']"
   ]
  },
  {
   "cell_type": "code",
   "execution_count": 42,
   "metadata": {},
   "outputs": [],
   "source": [
    "#라벨인코딩 방식\n",
    "for i in encoding_lst:\n",
    "    encoder = LabelEncoder()\n",
    "    encoder.fit(data[i])\n",
    "    data[i] = encoder.transform(data[i])\n",
    "    test[i] = encoder.transform(test[i])"
   ]
  },
  {
   "cell_type": "markdown",
   "metadata": {},
   "source": [
    "- 불필요한 columns drop"
   ]
  },
  {
   "cell_type": "code",
   "execution_count": 43,
   "metadata": {},
   "outputs": [],
   "source": [
    "data = data.drop(['접수시각','접수일','최초서비스일','서비스일자','서비스주소','고객가입일','매니저생년월일','매니저성별','근무가능지역','반려동물' ,'house_type' ], axis =1)\n",
    "test = test.drop(['접수시각','접수일','최초서비스일','서비스일자','서비스주소','고객가입일','매니저생년월일','매니저성별','근무가능지역','반려동물' ,'house_type'], axis =1)"
   ]
  },
  {
   "cell_type": "code",
   "execution_count": 44,
   "metadata": {},
   "outputs": [
    {
     "data": {
      "text/plain": [
       "(23009, 56)"
      ]
     },
     "execution_count": 44,
     "metadata": {},
     "output_type": "execute_result"
    }
   ],
   "source": [
    "data.shape"
   ]
  },
  {
   "cell_type": "code",
   "execution_count": 45,
   "metadata": {},
   "outputs": [],
   "source": [
    "categorical_columns = list(set(data.columns[data.nunique() < 10]) - set(['매칭성공여부']))\n",
    "numerical_columns = list(data.columns[data.nunique() >= 10])"
   ]
  },
  {
   "cell_type": "markdown",
   "metadata": {},
   "source": [
    "## Interaction Features"
   ]
  },
  {
   "cell_type": "code",
   "execution_count": 46,
   "metadata": {},
   "outputs": [
    {
     "name": "stderr",
     "output_type": "stream",
     "text": [
      "100%|██████████████████████████████████████████████████████████████████████████████████| 35/35 [00:00<00:00, 47.97it/s]\n",
      "100%|████████████████████████████████████████████████████████████████████████████████| 595/595 [00:49<00:00, 11.95it/s]"
     ]
    },
    {
     "name": "stdout",
     "output_type": "stream",
     "text": [
      "0 Columns Are Not Available\n"
     ]
    },
    {
     "name": "stderr",
     "output_type": "stream",
     "text": [
      "\n"
     ]
    }
   ],
   "source": [
    "available = []\n",
    "not_available = 0\n",
    "for num in range(1, 3) : \n",
    "    l = len([x for x in combinations(categorical_columns, num)])\n",
    "    for columns in tqdm(combinations(categorical_columns, num), total = l) : \n",
    "        columns = list(columns)\n",
    "        column = '_'.join(columns)\n",
    "        try : \n",
    "            data[column] = data[columns].astype('str').sum(axis = 1)\n",
    "            test[column] = test[columns].astype('str').sum(axis = 1)\n",
    "            mean_dict = data.groupby([column])['매칭성공여부'].agg('mean').to_dict()\n",
    "            data[column] = data[column].map(mean_dict)\n",
    "            test[column] = test[column].map(mean_dict)\n",
    "            test[column] = test[column].fillna(data.groupby([column])['매칭성공여부'].agg('mean').mean())\n",
    "            available.append(column)\n",
    "        except : \n",
    "            not_available += 1\n",
    "print(f'{not_available} Columns Are Not Available')"
   ]
  },
  {
   "cell_type": "code",
   "execution_count": 47,
   "metadata": {},
   "outputs": [],
   "source": [
    "X_train = data.drop(columns  = ['SEQ', '매칭성공여부'])\n",
    "y_train = data['매칭성공여부']\n",
    "X_test = test.drop(columns = ['SEQ'])"
   ]
  },
  {
   "cell_type": "markdown",
   "metadata": {},
   "source": [
    "## Numerical Data -> Polynomial Features"
   ]
  },
  {
   "cell_type": "code",
   "execution_count": 62,
   "metadata": {},
   "outputs": [
    {
     "data": {
      "text/plain": [
       "44"
      ]
     },
     "execution_count": 62,
     "metadata": {},
     "output_type": "execute_result"
    }
   ],
   "source": [
    "len(num_columns)"
   ]
  },
  {
   "cell_type": "code",
   "execution_count": 48,
   "metadata": {},
   "outputs": [],
   "source": [
    "num_columns = X_train.columns[X_train.nunique() > 25 ]\n",
    "X_train_num = X_train.loc[:,num_columns]\n",
    "X_test_num = X_test.loc[:,num_columns]\n",
    "\n",
    "poly = PolynomialFeatures(degree = 2, include_bias=False)\n",
    "columns = X_train_num.columns\n",
    "X_train_num = poly.fit_transform(X_train_num)\n",
    "X_test_num = poly.fit_transform(X_test_num)\n",
    "\n",
    "columns = poly.get_feature_names(columns)\n",
    "X_train_num = pd.DataFrame(X_train_num,columns = columns)\n",
    "X_test_num = pd.DataFrame(X_test_num,columns = columns)\n",
    "\n",
    "X_train = pd.concat([X_train.drop(columns = num_columns), X_train_num], axis = 1)\n",
    "X_test = pd.concat([X_test.drop(columns = num_columns), X_test_num], axis = 1)"
   ]
  },
  {
   "cell_type": "markdown",
   "metadata": {},
   "source": [
    "## Remove Perfect Collinearity"
   ]
  },
  {
   "cell_type": "code",
   "execution_count": 49,
   "metadata": {},
   "outputs": [
    {
     "data": {
      "text/html": [
       "<style  type=\"text/css\" >\n",
       "#T_7b7dd_row44_col1{\n",
       "            background-color:  lightgreen;\n",
       "        }</style><table id=\"T_7b7dd_\" ><thead>    <tr>        <th class=\"blank level0\" ></th>        <th class=\"col_heading level0 col0\" >Description</th>        <th class=\"col_heading level0 col1\" >Value</th>    </tr></thead><tbody>\n",
       "                <tr>\n",
       "                        <th id=\"T_7b7dd_level0_row0\" class=\"row_heading level0 row0\" >0</th>\n",
       "                        <td id=\"T_7b7dd_row0_col0\" class=\"data row0 col0\" >session_id</td>\n",
       "                        <td id=\"T_7b7dd_row0_col1\" class=\"data row0 col1\" >162</td>\n",
       "            </tr>\n",
       "            <tr>\n",
       "                        <th id=\"T_7b7dd_level0_row1\" class=\"row_heading level0 row1\" >1</th>\n",
       "                        <td id=\"T_7b7dd_row1_col0\" class=\"data row1 col0\" >Target</td>\n",
       "                        <td id=\"T_7b7dd_row1_col1\" class=\"data row1 col1\" >매칭성공여부</td>\n",
       "            </tr>\n",
       "            <tr>\n",
       "                        <th id=\"T_7b7dd_level0_row2\" class=\"row_heading level0 row2\" >2</th>\n",
       "                        <td id=\"T_7b7dd_row2_col0\" class=\"data row2 col0\" >Target Type</td>\n",
       "                        <td id=\"T_7b7dd_row2_col1\" class=\"data row2 col1\" >Binary</td>\n",
       "            </tr>\n",
       "            <tr>\n",
       "                        <th id=\"T_7b7dd_level0_row3\" class=\"row_heading level0 row3\" >3</th>\n",
       "                        <td id=\"T_7b7dd_row3_col0\" class=\"data row3 col0\" >Label Encoded</td>\n",
       "                        <td id=\"T_7b7dd_row3_col1\" class=\"data row3 col1\" >None</td>\n",
       "            </tr>\n",
       "            <tr>\n",
       "                        <th id=\"T_7b7dd_level0_row4\" class=\"row_heading level0 row4\" >4</th>\n",
       "                        <td id=\"T_7b7dd_row4_col0\" class=\"data row4 col0\" >Original Data</td>\n",
       "                        <td id=\"T_7b7dd_row4_col1\" class=\"data row4 col1\" >(23009, 1640)</td>\n",
       "            </tr>\n",
       "            <tr>\n",
       "                        <th id=\"T_7b7dd_level0_row5\" class=\"row_heading level0 row5\" >5</th>\n",
       "                        <td id=\"T_7b7dd_row5_col0\" class=\"data row5 col0\" >Missing Values</td>\n",
       "                        <td id=\"T_7b7dd_row5_col1\" class=\"data row5 col1\" >False</td>\n",
       "            </tr>\n",
       "            <tr>\n",
       "                        <th id=\"T_7b7dd_level0_row6\" class=\"row_heading level0 row6\" >6</th>\n",
       "                        <td id=\"T_7b7dd_row6_col0\" class=\"data row6 col0\" >Numeric Features</td>\n",
       "                        <td id=\"T_7b7dd_row6_col1\" class=\"data row6 col1\" >1639</td>\n",
       "            </tr>\n",
       "            <tr>\n",
       "                        <th id=\"T_7b7dd_level0_row7\" class=\"row_heading level0 row7\" >7</th>\n",
       "                        <td id=\"T_7b7dd_row7_col0\" class=\"data row7 col0\" >Categorical Features</td>\n",
       "                        <td id=\"T_7b7dd_row7_col1\" class=\"data row7 col1\" >0</td>\n",
       "            </tr>\n",
       "            <tr>\n",
       "                        <th id=\"T_7b7dd_level0_row8\" class=\"row_heading level0 row8\" >8</th>\n",
       "                        <td id=\"T_7b7dd_row8_col0\" class=\"data row8 col0\" >Ordinal Features</td>\n",
       "                        <td id=\"T_7b7dd_row8_col1\" class=\"data row8 col1\" >False</td>\n",
       "            </tr>\n",
       "            <tr>\n",
       "                        <th id=\"T_7b7dd_level0_row9\" class=\"row_heading level0 row9\" >9</th>\n",
       "                        <td id=\"T_7b7dd_row9_col0\" class=\"data row9 col0\" >High Cardinality Features</td>\n",
       "                        <td id=\"T_7b7dd_row9_col1\" class=\"data row9 col1\" >False</td>\n",
       "            </tr>\n",
       "            <tr>\n",
       "                        <th id=\"T_7b7dd_level0_row10\" class=\"row_heading level0 row10\" >10</th>\n",
       "                        <td id=\"T_7b7dd_row10_col0\" class=\"data row10 col0\" >High Cardinality Method</td>\n",
       "                        <td id=\"T_7b7dd_row10_col1\" class=\"data row10 col1\" >None</td>\n",
       "            </tr>\n",
       "            <tr>\n",
       "                        <th id=\"T_7b7dd_level0_row11\" class=\"row_heading level0 row11\" >11</th>\n",
       "                        <td id=\"T_7b7dd_row11_col0\" class=\"data row11 col0\" >Transformed Train Set</td>\n",
       "                        <td id=\"T_7b7dd_row11_col1\" class=\"data row11 col1\" >(22778, 1378)</td>\n",
       "            </tr>\n",
       "            <tr>\n",
       "                        <th id=\"T_7b7dd_level0_row12\" class=\"row_heading level0 row12\" >12</th>\n",
       "                        <td id=\"T_7b7dd_row12_col0\" class=\"data row12 col0\" >Transformed Test Set</td>\n",
       "                        <td id=\"T_7b7dd_row12_col1\" class=\"data row12 col1\" >(231, 1378)</td>\n",
       "            </tr>\n",
       "            <tr>\n",
       "                        <th id=\"T_7b7dd_level0_row13\" class=\"row_heading level0 row13\" >13</th>\n",
       "                        <td id=\"T_7b7dd_row13_col0\" class=\"data row13 col0\" >Shuffle Train-Test</td>\n",
       "                        <td id=\"T_7b7dd_row13_col1\" class=\"data row13 col1\" >True</td>\n",
       "            </tr>\n",
       "            <tr>\n",
       "                        <th id=\"T_7b7dd_level0_row14\" class=\"row_heading level0 row14\" >14</th>\n",
       "                        <td id=\"T_7b7dd_row14_col0\" class=\"data row14 col0\" >Stratify Train-Test</td>\n",
       "                        <td id=\"T_7b7dd_row14_col1\" class=\"data row14 col1\" >False</td>\n",
       "            </tr>\n",
       "            <tr>\n",
       "                        <th id=\"T_7b7dd_level0_row15\" class=\"row_heading level0 row15\" >15</th>\n",
       "                        <td id=\"T_7b7dd_row15_col0\" class=\"data row15 col0\" >Fold Generator</td>\n",
       "                        <td id=\"T_7b7dd_row15_col1\" class=\"data row15 col1\" >StratifiedKFold</td>\n",
       "            </tr>\n",
       "            <tr>\n",
       "                        <th id=\"T_7b7dd_level0_row16\" class=\"row_heading level0 row16\" >16</th>\n",
       "                        <td id=\"T_7b7dd_row16_col0\" class=\"data row16 col0\" >Fold Number</td>\n",
       "                        <td id=\"T_7b7dd_row16_col1\" class=\"data row16 col1\" >10</td>\n",
       "            </tr>\n",
       "            <tr>\n",
       "                        <th id=\"T_7b7dd_level0_row17\" class=\"row_heading level0 row17\" >17</th>\n",
       "                        <td id=\"T_7b7dd_row17_col0\" class=\"data row17 col0\" >CPU Jobs</td>\n",
       "                        <td id=\"T_7b7dd_row17_col1\" class=\"data row17 col1\" >-1</td>\n",
       "            </tr>\n",
       "            <tr>\n",
       "                        <th id=\"T_7b7dd_level0_row18\" class=\"row_heading level0 row18\" >18</th>\n",
       "                        <td id=\"T_7b7dd_row18_col0\" class=\"data row18 col0\" >Use GPU</td>\n",
       "                        <td id=\"T_7b7dd_row18_col1\" class=\"data row18 col1\" >False</td>\n",
       "            </tr>\n",
       "            <tr>\n",
       "                        <th id=\"T_7b7dd_level0_row19\" class=\"row_heading level0 row19\" >19</th>\n",
       "                        <td id=\"T_7b7dd_row19_col0\" class=\"data row19 col0\" >Log Experiment</td>\n",
       "                        <td id=\"T_7b7dd_row19_col1\" class=\"data row19 col1\" >False</td>\n",
       "            </tr>\n",
       "            <tr>\n",
       "                        <th id=\"T_7b7dd_level0_row20\" class=\"row_heading level0 row20\" >20</th>\n",
       "                        <td id=\"T_7b7dd_row20_col0\" class=\"data row20 col0\" >Experiment Name</td>\n",
       "                        <td id=\"T_7b7dd_row20_col1\" class=\"data row20 col1\" >clf-default-name</td>\n",
       "            </tr>\n",
       "            <tr>\n",
       "                        <th id=\"T_7b7dd_level0_row21\" class=\"row_heading level0 row21\" >21</th>\n",
       "                        <td id=\"T_7b7dd_row21_col0\" class=\"data row21 col0\" >USI</td>\n",
       "                        <td id=\"T_7b7dd_row21_col1\" class=\"data row21 col1\" >cf59</td>\n",
       "            </tr>\n",
       "            <tr>\n",
       "                        <th id=\"T_7b7dd_level0_row22\" class=\"row_heading level0 row22\" >22</th>\n",
       "                        <td id=\"T_7b7dd_row22_col0\" class=\"data row22 col0\" >Imputation Type</td>\n",
       "                        <td id=\"T_7b7dd_row22_col1\" class=\"data row22 col1\" >simple</td>\n",
       "            </tr>\n",
       "            <tr>\n",
       "                        <th id=\"T_7b7dd_level0_row23\" class=\"row_heading level0 row23\" >23</th>\n",
       "                        <td id=\"T_7b7dd_row23_col0\" class=\"data row23 col0\" >Iterative Imputation Iteration</td>\n",
       "                        <td id=\"T_7b7dd_row23_col1\" class=\"data row23 col1\" >None</td>\n",
       "            </tr>\n",
       "            <tr>\n",
       "                        <th id=\"T_7b7dd_level0_row24\" class=\"row_heading level0 row24\" >24</th>\n",
       "                        <td id=\"T_7b7dd_row24_col0\" class=\"data row24 col0\" >Numeric Imputer</td>\n",
       "                        <td id=\"T_7b7dd_row24_col1\" class=\"data row24 col1\" >mean</td>\n",
       "            </tr>\n",
       "            <tr>\n",
       "                        <th id=\"T_7b7dd_level0_row25\" class=\"row_heading level0 row25\" >25</th>\n",
       "                        <td id=\"T_7b7dd_row25_col0\" class=\"data row25 col0\" >Iterative Imputation Numeric Model</td>\n",
       "                        <td id=\"T_7b7dd_row25_col1\" class=\"data row25 col1\" >None</td>\n",
       "            </tr>\n",
       "            <tr>\n",
       "                        <th id=\"T_7b7dd_level0_row26\" class=\"row_heading level0 row26\" >26</th>\n",
       "                        <td id=\"T_7b7dd_row26_col0\" class=\"data row26 col0\" >Categorical Imputer</td>\n",
       "                        <td id=\"T_7b7dd_row26_col1\" class=\"data row26 col1\" >constant</td>\n",
       "            </tr>\n",
       "            <tr>\n",
       "                        <th id=\"T_7b7dd_level0_row27\" class=\"row_heading level0 row27\" >27</th>\n",
       "                        <td id=\"T_7b7dd_row27_col0\" class=\"data row27 col0\" >Iterative Imputation Categorical Model</td>\n",
       "                        <td id=\"T_7b7dd_row27_col1\" class=\"data row27 col1\" >None</td>\n",
       "            </tr>\n",
       "            <tr>\n",
       "                        <th id=\"T_7b7dd_level0_row28\" class=\"row_heading level0 row28\" >28</th>\n",
       "                        <td id=\"T_7b7dd_row28_col0\" class=\"data row28 col0\" >Unknown Categoricals Handling</td>\n",
       "                        <td id=\"T_7b7dd_row28_col1\" class=\"data row28 col1\" >least_frequent</td>\n",
       "            </tr>\n",
       "            <tr>\n",
       "                        <th id=\"T_7b7dd_level0_row29\" class=\"row_heading level0 row29\" >29</th>\n",
       "                        <td id=\"T_7b7dd_row29_col0\" class=\"data row29 col0\" >Normalize</td>\n",
       "                        <td id=\"T_7b7dd_row29_col1\" class=\"data row29 col1\" >False</td>\n",
       "            </tr>\n",
       "            <tr>\n",
       "                        <th id=\"T_7b7dd_level0_row30\" class=\"row_heading level0 row30\" >30</th>\n",
       "                        <td id=\"T_7b7dd_row30_col0\" class=\"data row30 col0\" >Normalize Method</td>\n",
       "                        <td id=\"T_7b7dd_row30_col1\" class=\"data row30 col1\" >None</td>\n",
       "            </tr>\n",
       "            <tr>\n",
       "                        <th id=\"T_7b7dd_level0_row31\" class=\"row_heading level0 row31\" >31</th>\n",
       "                        <td id=\"T_7b7dd_row31_col0\" class=\"data row31 col0\" >Transformation</td>\n",
       "                        <td id=\"T_7b7dd_row31_col1\" class=\"data row31 col1\" >False</td>\n",
       "            </tr>\n",
       "            <tr>\n",
       "                        <th id=\"T_7b7dd_level0_row32\" class=\"row_heading level0 row32\" >32</th>\n",
       "                        <td id=\"T_7b7dd_row32_col0\" class=\"data row32 col0\" >Transformation Method</td>\n",
       "                        <td id=\"T_7b7dd_row32_col1\" class=\"data row32 col1\" >None</td>\n",
       "            </tr>\n",
       "            <tr>\n",
       "                        <th id=\"T_7b7dd_level0_row33\" class=\"row_heading level0 row33\" >33</th>\n",
       "                        <td id=\"T_7b7dd_row33_col0\" class=\"data row33 col0\" >PCA</td>\n",
       "                        <td id=\"T_7b7dd_row33_col1\" class=\"data row33 col1\" >False</td>\n",
       "            </tr>\n",
       "            <tr>\n",
       "                        <th id=\"T_7b7dd_level0_row34\" class=\"row_heading level0 row34\" >34</th>\n",
       "                        <td id=\"T_7b7dd_row34_col0\" class=\"data row34 col0\" >PCA Method</td>\n",
       "                        <td id=\"T_7b7dd_row34_col1\" class=\"data row34 col1\" >None</td>\n",
       "            </tr>\n",
       "            <tr>\n",
       "                        <th id=\"T_7b7dd_level0_row35\" class=\"row_heading level0 row35\" >35</th>\n",
       "                        <td id=\"T_7b7dd_row35_col0\" class=\"data row35 col0\" >PCA Components</td>\n",
       "                        <td id=\"T_7b7dd_row35_col1\" class=\"data row35 col1\" >None</td>\n",
       "            </tr>\n",
       "            <tr>\n",
       "                        <th id=\"T_7b7dd_level0_row36\" class=\"row_heading level0 row36\" >36</th>\n",
       "                        <td id=\"T_7b7dd_row36_col0\" class=\"data row36 col0\" >Ignore Low Variance</td>\n",
       "                        <td id=\"T_7b7dd_row36_col1\" class=\"data row36 col1\" >False</td>\n",
       "            </tr>\n",
       "            <tr>\n",
       "                        <th id=\"T_7b7dd_level0_row37\" class=\"row_heading level0 row37\" >37</th>\n",
       "                        <td id=\"T_7b7dd_row37_col0\" class=\"data row37 col0\" >Combine Rare Levels</td>\n",
       "                        <td id=\"T_7b7dd_row37_col1\" class=\"data row37 col1\" >False</td>\n",
       "            </tr>\n",
       "            <tr>\n",
       "                        <th id=\"T_7b7dd_level0_row38\" class=\"row_heading level0 row38\" >38</th>\n",
       "                        <td id=\"T_7b7dd_row38_col0\" class=\"data row38 col0\" >Rare Level Threshold</td>\n",
       "                        <td id=\"T_7b7dd_row38_col1\" class=\"data row38 col1\" >None</td>\n",
       "            </tr>\n",
       "            <tr>\n",
       "                        <th id=\"T_7b7dd_level0_row39\" class=\"row_heading level0 row39\" >39</th>\n",
       "                        <td id=\"T_7b7dd_row39_col0\" class=\"data row39 col0\" >Numeric Binning</td>\n",
       "                        <td id=\"T_7b7dd_row39_col1\" class=\"data row39 col1\" >False</td>\n",
       "            </tr>\n",
       "            <tr>\n",
       "                        <th id=\"T_7b7dd_level0_row40\" class=\"row_heading level0 row40\" >40</th>\n",
       "                        <td id=\"T_7b7dd_row40_col0\" class=\"data row40 col0\" >Remove Outliers</td>\n",
       "                        <td id=\"T_7b7dd_row40_col1\" class=\"data row40 col1\" >False</td>\n",
       "            </tr>\n",
       "            <tr>\n",
       "                        <th id=\"T_7b7dd_level0_row41\" class=\"row_heading level0 row41\" >41</th>\n",
       "                        <td id=\"T_7b7dd_row41_col0\" class=\"data row41 col0\" >Outliers Threshold</td>\n",
       "                        <td id=\"T_7b7dd_row41_col1\" class=\"data row41 col1\" >None</td>\n",
       "            </tr>\n",
       "            <tr>\n",
       "                        <th id=\"T_7b7dd_level0_row42\" class=\"row_heading level0 row42\" >42</th>\n",
       "                        <td id=\"T_7b7dd_row42_col0\" class=\"data row42 col0\" >Remove Multicollinearity</td>\n",
       "                        <td id=\"T_7b7dd_row42_col1\" class=\"data row42 col1\" >False</td>\n",
       "            </tr>\n",
       "            <tr>\n",
       "                        <th id=\"T_7b7dd_level0_row43\" class=\"row_heading level0 row43\" >43</th>\n",
       "                        <td id=\"T_7b7dd_row43_col0\" class=\"data row43 col0\" >Multicollinearity Threshold</td>\n",
       "                        <td id=\"T_7b7dd_row43_col1\" class=\"data row43 col1\" >None</td>\n",
       "            </tr>\n",
       "            <tr>\n",
       "                        <th id=\"T_7b7dd_level0_row44\" class=\"row_heading level0 row44\" >44</th>\n",
       "                        <td id=\"T_7b7dd_row44_col0\" class=\"data row44 col0\" >Remove Perfect Collinearity</td>\n",
       "                        <td id=\"T_7b7dd_row44_col1\" class=\"data row44 col1\" >True</td>\n",
       "            </tr>\n",
       "            <tr>\n",
       "                        <th id=\"T_7b7dd_level0_row45\" class=\"row_heading level0 row45\" >45</th>\n",
       "                        <td id=\"T_7b7dd_row45_col0\" class=\"data row45 col0\" >Clustering</td>\n",
       "                        <td id=\"T_7b7dd_row45_col1\" class=\"data row45 col1\" >False</td>\n",
       "            </tr>\n",
       "            <tr>\n",
       "                        <th id=\"T_7b7dd_level0_row46\" class=\"row_heading level0 row46\" >46</th>\n",
       "                        <td id=\"T_7b7dd_row46_col0\" class=\"data row46 col0\" >Clustering Iteration</td>\n",
       "                        <td id=\"T_7b7dd_row46_col1\" class=\"data row46 col1\" >None</td>\n",
       "            </tr>\n",
       "            <tr>\n",
       "                        <th id=\"T_7b7dd_level0_row47\" class=\"row_heading level0 row47\" >47</th>\n",
       "                        <td id=\"T_7b7dd_row47_col0\" class=\"data row47 col0\" >Polynomial Features</td>\n",
       "                        <td id=\"T_7b7dd_row47_col1\" class=\"data row47 col1\" >False</td>\n",
       "            </tr>\n",
       "            <tr>\n",
       "                        <th id=\"T_7b7dd_level0_row48\" class=\"row_heading level0 row48\" >48</th>\n",
       "                        <td id=\"T_7b7dd_row48_col0\" class=\"data row48 col0\" >Polynomial Degree</td>\n",
       "                        <td id=\"T_7b7dd_row48_col1\" class=\"data row48 col1\" >None</td>\n",
       "            </tr>\n",
       "            <tr>\n",
       "                        <th id=\"T_7b7dd_level0_row49\" class=\"row_heading level0 row49\" >49</th>\n",
       "                        <td id=\"T_7b7dd_row49_col0\" class=\"data row49 col0\" >Trignometry Features</td>\n",
       "                        <td id=\"T_7b7dd_row49_col1\" class=\"data row49 col1\" >False</td>\n",
       "            </tr>\n",
       "            <tr>\n",
       "                        <th id=\"T_7b7dd_level0_row50\" class=\"row_heading level0 row50\" >50</th>\n",
       "                        <td id=\"T_7b7dd_row50_col0\" class=\"data row50 col0\" >Polynomial Threshold</td>\n",
       "                        <td id=\"T_7b7dd_row50_col1\" class=\"data row50 col1\" >None</td>\n",
       "            </tr>\n",
       "            <tr>\n",
       "                        <th id=\"T_7b7dd_level0_row51\" class=\"row_heading level0 row51\" >51</th>\n",
       "                        <td id=\"T_7b7dd_row51_col0\" class=\"data row51 col0\" >Group Features</td>\n",
       "                        <td id=\"T_7b7dd_row51_col1\" class=\"data row51 col1\" >False</td>\n",
       "            </tr>\n",
       "            <tr>\n",
       "                        <th id=\"T_7b7dd_level0_row52\" class=\"row_heading level0 row52\" >52</th>\n",
       "                        <td id=\"T_7b7dd_row52_col0\" class=\"data row52 col0\" >Feature Selection</td>\n",
       "                        <td id=\"T_7b7dd_row52_col1\" class=\"data row52 col1\" >False</td>\n",
       "            </tr>\n",
       "            <tr>\n",
       "                        <th id=\"T_7b7dd_level0_row53\" class=\"row_heading level0 row53\" >53</th>\n",
       "                        <td id=\"T_7b7dd_row53_col0\" class=\"data row53 col0\" >Feature Selection Method</td>\n",
       "                        <td id=\"T_7b7dd_row53_col1\" class=\"data row53 col1\" >classic</td>\n",
       "            </tr>\n",
       "            <tr>\n",
       "                        <th id=\"T_7b7dd_level0_row54\" class=\"row_heading level0 row54\" >54</th>\n",
       "                        <td id=\"T_7b7dd_row54_col0\" class=\"data row54 col0\" >Features Selection Threshold</td>\n",
       "                        <td id=\"T_7b7dd_row54_col1\" class=\"data row54 col1\" >None</td>\n",
       "            </tr>\n",
       "            <tr>\n",
       "                        <th id=\"T_7b7dd_level0_row55\" class=\"row_heading level0 row55\" >55</th>\n",
       "                        <td id=\"T_7b7dd_row55_col0\" class=\"data row55 col0\" >Feature Interaction</td>\n",
       "                        <td id=\"T_7b7dd_row55_col1\" class=\"data row55 col1\" >False</td>\n",
       "            </tr>\n",
       "            <tr>\n",
       "                        <th id=\"T_7b7dd_level0_row56\" class=\"row_heading level0 row56\" >56</th>\n",
       "                        <td id=\"T_7b7dd_row56_col0\" class=\"data row56 col0\" >Feature Ratio</td>\n",
       "                        <td id=\"T_7b7dd_row56_col1\" class=\"data row56 col1\" >False</td>\n",
       "            </tr>\n",
       "            <tr>\n",
       "                        <th id=\"T_7b7dd_level0_row57\" class=\"row_heading level0 row57\" >57</th>\n",
       "                        <td id=\"T_7b7dd_row57_col0\" class=\"data row57 col0\" >Interaction Threshold</td>\n",
       "                        <td id=\"T_7b7dd_row57_col1\" class=\"data row57 col1\" >None</td>\n",
       "            </tr>\n",
       "            <tr>\n",
       "                        <th id=\"T_7b7dd_level0_row58\" class=\"row_heading level0 row58\" >58</th>\n",
       "                        <td id=\"T_7b7dd_row58_col0\" class=\"data row58 col0\" >Fix Imbalance</td>\n",
       "                        <td id=\"T_7b7dd_row58_col1\" class=\"data row58 col1\" >False</td>\n",
       "            </tr>\n",
       "            <tr>\n",
       "                        <th id=\"T_7b7dd_level0_row59\" class=\"row_heading level0 row59\" >59</th>\n",
       "                        <td id=\"T_7b7dd_row59_col0\" class=\"data row59 col0\" >Fix Imbalance Method</td>\n",
       "                        <td id=\"T_7b7dd_row59_col1\" class=\"data row59 col1\" >SMOTE</td>\n",
       "            </tr>\n",
       "    </tbody></table>"
      ],
      "text/plain": [
       "<pandas.io.formats.style.Styler at 0x15ee60b3fd0>"
      ]
     },
     "metadata": {},
     "output_type": "display_data"
    }
   ],
   "source": [
    "train = X_train.copy()\n",
    "train['매칭성공여부'] = y_train\n",
    "test = X_test.copy()\n",
    "\n",
    "clf = setup(train, target = '매칭성공여부', train_size = 0.99, silent=  True,\n",
    "                            session_id = 162,  numeric_features= list(X_train.columns),)"
   ]
  },
  {
   "cell_type": "code",
   "execution_count": 50,
   "metadata": {},
   "outputs": [
    {
     "name": "stdout",
     "output_type": "stream",
     "text": [
      "(23009, 1378)\n",
      "(23009,)\n",
      "(4244, 1378)\n"
     ]
    }
   ],
   "source": [
    "new_columns = get_config('X_train').columns\n",
    "X_train = X_train[new_columns]\n",
    "X_test = X_test[new_columns]\n",
    "\n",
    "print(X_train.shape)\n",
    "print(y_train.shape)\n",
    "print(X_test.shape)"
   ]
  },
  {
   "cell_type": "code",
   "execution_count": 51,
   "metadata": {},
   "outputs": [],
   "source": [
    "ros = ADASYN(sampling_strategy=0.2, random_state=1000)\n",
    "X_train, y_train = ros.fit_resample(X_train, y_train)\n",
    "\n",
    "X_train = pd.DataFrame(X_train, columns = new_columns)\n",
    "X_test = pd.DataFrame(X_test, columns = new_columns)"
   ]
  },
  {
   "cell_type": "code",
   "execution_count": 52,
   "metadata": {},
   "outputs": [],
   "source": [
    "train = X_train.copy()\n",
    "train['매칭성공여부'] = y_train\n",
    "test = X_test.copy()"
   ]
  },
  {
   "cell_type": "markdown",
   "metadata": {},
   "source": [
    "### Save Feature Engineered Data"
   ]
  },
  {
   "cell_type": "code",
   "execution_count": 53,
   "metadata": {},
   "outputs": [],
   "source": [
    "train.to_csv('./data/submission_3_train_data.csv', index = False)\n",
    "test.to_csv('./data/submission_3_test_data.csv', index = False)"
   ]
  },
  {
   "cell_type": "markdown",
   "metadata": {},
   "source": [
    "# Modeling"
   ]
  },
  {
   "cell_type": "markdown",
   "metadata": {},
   "source": [
    "### Reload Data"
   ]
  },
  {
   "cell_type": "code",
   "execution_count": 54,
   "metadata": {},
   "outputs": [],
   "source": [
    "train = pd.read_csv('./data/submission_3_train_data.csv')\n",
    "test = pd.read_csv('./data/submission_3_test_data.csv')"
   ]
  },
  {
   "cell_type": "markdown",
   "metadata": {},
   "source": [
    "## 1) Set Data For Modeling"
   ]
  },
  {
   "cell_type": "code",
   "execution_count": 55,
   "metadata": {},
   "outputs": [],
   "source": [
    "X_train = train.drop(columns  = ['매칭성공여부'])\n",
    "y_train = train['매칭성공여부']\n",
    "X_test = test.copy()"
   ]
  },
  {
   "cell_type": "markdown",
   "metadata": {},
   "source": [
    "## 2) Bayesian Optimization - ExtraTreesClassifier"
   ]
  },
  {
   "cell_type": "code",
   "execution_count": 57,
   "metadata": {},
   "outputs": [],
   "source": [
    "def bayes_tune_ext(X_train, y_train, X_test, init_iter, n_iter) : \n",
    "    ext_pbounds = {\n",
    "                'n_estimators': (30, 1000),\n",
    "                'max_depth': (50,300),\n",
    "                'min_samples_leaf' : (1,2 *3),\n",
    "    }\n",
    "\n",
    "    def ext_opt(n_estimators, max_depth, min_samples_leaf):\n",
    "\n",
    "        params = {\n",
    "            'n_estimators' : int(round(n_estimators)),\n",
    "            'max_depth' : int(round(max_depth)),\n",
    "            'min_samples_leaf' : int(round(min_samples_leaf)),\n",
    "            'n_jobs' : -1,\n",
    "        }\n",
    "\n",
    "        ext = ExtraTreesClassifier(**params)\n",
    "        skf = StratifiedKFold(n_splits=4 , shuffle=True, random_state=50)\n",
    "        score = cross_val_score(ext, X_train, y_train , scoring = rocauc, cv=skf, n_jobs=-1)\n",
    "\n",
    "        return np.mean(sorted(score)[:2])\n",
    "\n",
    "    BO_ext = BayesianOptimization(f = ext_opt, pbounds = ext_pbounds, random_state=1) \n",
    "\n",
    "    BO_ext.maximize(init_points=init_iter, n_iter=n_iter)\n",
    "\n",
    "    max_params = BO_ext.max['params']\n",
    "\n",
    "    max_params['n_estimators'] = int(round(max_params['n_estimators']))\n",
    "    max_params['max_depth'] = int(round(max_params['max_depth']))\n",
    "    max_params['min_samples_leaf'] = int(round(max_params['min_samples_leaf']))\n",
    "    max_params['n_jobs'] = -1\n",
    "\n",
    "    print(max_params)\n",
    "\n",
    "    ext_clf = ExtraTreesClassifier(**max_params)\n",
    "    scores = cross_val_score(ext_clf, X_train, y_train, scoring=rocauc, cv=4, n_jobs=-1)\n",
    "\n",
    "    print(scores)\n",
    "    print(f'최대성능: {max(scores)}\\n평균성능: {np.mean(scores)}')\n",
    "    return ext_clf\n",
    "\n",
    "# 튜닝 중간 과정은 생략 -> 파라미터\n",
    "# ext_clf = bayes_tune_ext(X_train, y_train, X_test, 1, 1)\n",
    "\n",
    "params = {'max_depth': 166, 'min_samples_leaf': 1, 'n_estimators': 583, 'n_jobs': -1}\n",
    "ext_clf = ExtraTreesClassifier(**params)"
   ]
  },
  {
   "cell_type": "markdown",
   "metadata": {},
   "source": [
    "## 3) Make Prediction (StratifiedKFold)"
   ]
  },
  {
   "cell_type": "code",
   "execution_count": 58,
   "metadata": {},
   "outputs": [
    {
     "name": "stdout",
     "output_type": "stream",
     "text": [
      "FOLD :  0\n",
      "SCORE :  0.9771649051165026\n",
      "\n",
      "FOLD :  1\n",
      "SCORE :  0.9793675694423415\n",
      "\n",
      "FOLD :  2\n",
      "SCORE :  0.9839957895700328\n",
      "\n",
      "FOLD :  3\n",
      "SCORE :  0.98023472002929\n",
      "\n",
      "FOLD :  4\n",
      "SCORE :  0.979828407816755\n",
      "\n"
     ]
    }
   ],
   "source": [
    "skf = StratifiedKFold(n_splits=5, shuffle=True, random_state=2021)\n",
    "ext_preds = []\n",
    "for num, (train_idx, valid_idx) in enumerate(skf.split(X_train, y_train)):\n",
    "    ext_X_train = X_train.iloc[train_idx]\n",
    "    ext_y_train = y_train.iloc[train_idx]\n",
    "    \n",
    "    ext_X_valid = X_train.iloc[valid_idx]\n",
    "    ext_y_valid = y_train.iloc[valid_idx]\n",
    "    \n",
    "    ext_clf.fit(ext_X_train, ext_y_train)\n",
    "    \n",
    "    pred = ext_clf.predict_proba(ext_X_valid)[:,1]\n",
    "    score = roc_auc_score(ext_y_valid, pred)\n",
    "    pred = ext_clf.predict_proba(X_test)[:,1]\n",
    "    \n",
    "    print('FOLD : ', num)\n",
    "    print('SCORE : ', score)\n",
    "    print('')\n",
    "    \n",
    "    ext_preds.append(pred)"
   ]
  },
  {
   "cell_type": "markdown",
   "metadata": {},
   "source": [
    "## 4) Save Submission File"
   ]
  },
  {
   "cell_type": "code",
   "execution_count": 60,
   "metadata": {},
   "outputs": [
    {
     "name": "stdout",
     "output_type": "stream",
     "text": [
      " Submission File Saved In : \"./submissions/재성_1124_ext_1.csv\"\n",
      "0.12600806223456681\n",
      "[[1.         0.99051877]\n",
      " [0.99051877 1.        ]]\n"
     ]
    }
   ],
   "source": [
    "today = datetime.datetime.today()\n",
    "today = str(today.month) + str(today.day)\n",
    "ext_preds_final = np.mean(ext_preds, axis = 0)\n",
    "\n",
    "sample= pd.read_csv('./data/sample_submission_final.csv')\n",
    "sample['pred'] = ext_preds_final\n",
    "\n",
    "num = len(glob(f'./submissions/재성_{today}_ext_*'))\n",
    "sample.to_csv(f'./submissions/submission_3.csv', index=False)\n",
    "\n",
    "print(f' Submission File Saved In : \"./submissions/submission_3.csv\"')\n",
    "\n",
    "print(sample['pred'].mean())"
   ]
  },
  {
   "cell_type": "code",
   "execution_count": null,
   "metadata": {},
   "outputs": [],
   "source": []
  }
 ],
 "metadata": {
  "kernelspec": {
   "display_name": "Python 3",
   "language": "python",
   "name": "python3"
  },
  "language_info": {
   "codemirror_mode": {
    "name": "ipython",
    "version": 3
   },
   "file_extension": ".py",
   "mimetype": "text/x-python",
   "name": "python",
   "nbconvert_exporter": "python",
   "pygments_lexer": "ipython3",
   "version": "3.7.6"
  }
 },
 "nbformat": 4,
 "nbformat_minor": 4
}
