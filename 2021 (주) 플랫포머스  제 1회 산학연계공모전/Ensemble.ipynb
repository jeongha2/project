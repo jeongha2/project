{
 "cells": [
  {
   "cell_type": "code",
   "execution_count": 1,
   "metadata": {},
   "outputs": [],
   "source": [
    "import pandas as pd"
   ]
  },
  {
   "cell_type": "code",
   "execution_count": 2,
   "metadata": {},
   "outputs": [],
   "source": [
    "submission_1 = pd.read_csv('./submission/submission_1.csv').rename(columns = {'pred':'sub_1'})\n",
    "submission_2 = pd.read_csv('./submission/submission_2.csv').rename(columns = {'pred':'sub_2'})\n",
    "submission_3 = pd.read_csv('./submission/submission_3.csv').rename(columns = {'pred':'sub_3'})"
   ]
  },
  {
   "cell_type": "code",
   "execution_count": 3,
   "metadata": {},
   "outputs": [],
   "source": [
    "#최종 submission\n",
    "ensemble = submission_3[['SEQ']]\n",
    "ensemble['pred'] = (submission_3['sub_3'] + submission_2['sub_2'] + submission_1['sub_1'])/3\n",
    "\n",
    "ensemble.to_csv('./submission/ensemble_5_1123_엄마살려줘.csv',index=False)"
   ]
  }
 ],
 "metadata": {
  "kernelspec": {
   "display_name": "Python 3",
   "language": "python",
   "name": "python3"
  },
  "language_info": {
   "codemirror_mode": {
    "name": "ipython",
    "version": 3
   },
   "file_extension": ".py",
   "mimetype": "text/x-python",
   "name": "python",
   "nbconvert_exporter": "python",
   "pygments_lexer": "ipython3",
   "version": "3.7.6"
  }
 },
 "nbformat": 4,
 "nbformat_minor": 4
}
