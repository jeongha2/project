{
 "cells": [
  {
   "cell_type": "code",
   "execution_count": 3,
   "metadata": {},
   "outputs": [],
   "source": [
    "import pandas as pd\n",
    "import datetime\n",
    "import numpy as np\n",
    "\n",
    "#시각화\n",
    "from matplotlib import pyplot as plt\n",
    "import seaborn as sns\n",
    "from matplotlib import font_manager, rc\n",
    "font_path = \"C:/Windows/Fonts/NGULIM.TTF\"\n",
    "sns.set_style('whitegrid')\n",
    "font = font_manager.FontProperties(fname=font_path).get_name()\n",
    "rc('font', family=font)\n",
    "\n",
    "\n",
    "#모델링\n",
    "from sklearn.metrics import silhouette_score , silhouette_samples\n",
    "from sklearn.cluster import KMeans\n",
    "from sklearn.dummy import DummyClassifier\n",
    "from sklearn.linear_model import LogisticRegression\n",
    "from sklearn.neighbors import KNeighborsClassifier\n",
    "from sklearn.ensemble import RandomForestClassifier\n",
    "from sklearn.neural_network import MLPClassifier\n",
    "from sklearn.tree import DecisionTreeClassifier\n",
    "from sklearn.ensemble import GradientBoostingClassifier\n",
    "from sklearn.svm import SVC\n",
    "from sklearn.ensemble import VotingClassifier\n",
    "from sklearn.ensemble import StackingClassifier\n",
    "from sklearn.base import ClassifierMixin\n",
    "from sklearn.ensemble import AdaBoostClassifier\n",
    "from lightgbm import LGBMClassifier\n",
    "from xgboost import XGBClassifier\n",
    "from xgboost import plot_importance\n",
    "from sklearn.ensemble import ExtraTreesClassifier \n",
    "from sklearn import svm\n",
    "from sklearn.svm import LinearSVC\n",
    "from sklearn.naive_bayes import GaussianNB\n",
    "from catboost import CatBoostClassifier\n",
    "\n",
    "\n",
    "from sklearn.model_selection import train_test_split\n",
    "from sklearn.preprocessing import MinMaxScaler\n",
    "from sklearn.impute import SimpleImputer \n",
    "from sklearn.impute import KNNImputer\n",
    "from sklearn.preprocessing import StandardScaler\n",
    "from sklearn.preprocessing import MinMaxScaler\n",
    "from sklearn.preprocessing import LabelEncoder\n",
    "from sklearn.preprocessing import PowerTransformer\n",
    "from sklearn.feature_selection import SelectPercentile\n",
    "from sklearn.model_selection import StratifiedKFold\n",
    "\n",
    "\n",
    "from sklearn.model_selection import GridSearchCV\n",
    "from sklearn.model_selection import RandomizedSearchCV\n",
    "#from bayes_opt import BayesianOptimization\n",
    "\n",
    "from sklearn.metrics import roc_auc_score\n",
    "from sklearn.metrics import accuracy_score\n",
    "from sklearn.metrics import f1_score\n",
    "from sklearn.metrics import make_scorer\n",
    "from sklearn.metrics import average_precision_score\n",
    "from sklearn.model_selection import cross_val_score\n",
    "from sklearn import metrics \n",
    "from sklearn.metrics import confusion_matrix \n",
    "from sklearn.model_selection import StratifiedKFold , KFold\n",
    "\n",
    "from imblearn.over_sampling import SMOTE , ADASYN"
   ]
  },
  {
   "cell_type": "markdown",
   "metadata": {},
   "source": [
    "|Column 명|설명|상세|\n",
    "|---|---|---|\n",
    "SEQ|서비스 요청 ID|무작위로 부여|\n",
    "접수일|서비스 접수 일자|YYYY-MM-DD|\n",
    "접수시각|서비스접수시각|HH:MM:SS|\n",
    "장기서비스여부|0 : 단기, 1 : 장기||\n",
    "최초서비스일|전체회차의 첫 서비스 일자|YYYY-MM-DD|\n",
    "전체회차|||\n",
    "현재회차|||\n",
    "서비스일자|현재 요청의 서비스 일자|YYYY-MM-DD|\n",
    "서비스시작시간|현재 서비스 시작 요청 시간|HH:MM:SS|\n",
    " 서비스종료시간|현재 서비스 종료 요청 시간|HH:MM:SS|\n",
    " 기존고객여부|0 : 신규, 1 : 기존||\n",
    " 결재형태||미수 : 결재수단 확정 X|\n",
    " 서비스주소|서비스요청주소|시/구|\n",
    " 주거형태|||\n",
    " 평수|||\n",
    " 고객가입일|고객최초가입일|YYYY-MM-DD|\n",
    "반려동물|반려동물 여부 및 분류||\n",
    "부재중여부|0 : 재실, 1 : 부재||\n",
    "우선청소|우선청소 요청 사항||\n",
    "쿠폰사용여부|0 : 쿠폰미사용 1 : 쿠폰사용||\n",
    "매니저생년월일||YYYY-MM-DD\n",
    "매니저최초가입일||YYYY-MM-DD\n",
    "매니저최초서비스일||YYYY-MM-DD\n",
    "매니저성별|0:여성, 1:남성|\n",
    "매니저사용휴대폰|매니저 사용 휴대폰 분류\n",
    "매니저주소|매니저 자택 주소 | 시/군단위\n",
    "매니저이동방법|\n",
    "근무가능지역|매니저근무가능지역\n",
    "CS교육이수여부|0 : 미이수, 1 : 이수\n",
    "청소교육이수여부|0 : 미이수, 1 : 이수\n",
    "부재중서비스가능여부|0 : 불가능, 1 : 가능\n",
    "추천인여부|0 : 미추천, 1 : 추천인 존재\n",
    "매칭성공여부|0 : 실패, 1 : 성공\n"
   ]
  },
  {
   "cell_type": "markdown",
   "metadata": {},
   "source": [
    "- read data"
   ]
  },
  {
   "cell_type": "code",
   "execution_count": 4,
   "metadata": {},
   "outputs": [],
   "source": [
    "pd.set_option('max_column',100)\n",
    "data = pd.read_csv('./data/trainset.csv')\n",
    "test= pd.read_csv('./data/testset_final.csv')\n",
    "sub = pd.read_csv('./data/sample_submission_final.csv')"
   ]
  },
  {
   "cell_type": "code",
   "execution_count": 5,
   "metadata": {},
   "outputs": [
    {
     "data": {
      "text/plain": [
       "{'매니저주소', '매니저최초가입일', '매니저최초서비스일', '매칭성공여부'}"
      ]
     },
     "execution_count": 5,
     "metadata": {},
     "output_type": "execute_result"
    }
   ],
   "source": [
    "set(data.columns) - set(test.columns)"
   ]
  },
  {
   "cell_type": "markdown",
   "metadata": {},
   "source": [
    "- 결측치 제거"
   ]
  },
  {
   "cell_type": "code",
   "execution_count": 6,
   "metadata": {},
   "outputs": [],
   "source": [
    "#결측 제거\n",
    "\n",
    "data[['반려동물','우선청소','매니저사용휴대폰','매니저이동방법','평수']] = data[['반려동물','우선청소','매니저사용휴대폰','매니저이동방법','평수']].fillna('정보없음')\n",
    "data[['부재중여부','CS교육이수여부','청소교육이수여부']] = data[['부재중여부','CS교육이수여부','청소교육이수여부']].fillna(3)\n",
    "\n",
    "test['결재형태'] = test['결재형태'].fillna('신용카드')\n",
    "test[['반려동물','우선청소','매니저사용휴대폰','매니저이동방법','평수']] = test[['반려동물','우선청소','매니저사용휴대폰','매니저이동방법','평수']].fillna('정보없음')\n",
    "test[['부재중여부','CS교육이수여부','청소교육이수여부']] = test[['부재중여부','CS교육이수여부','청소교육이수여부']].fillna(3)"
   ]
  },
  {
   "cell_type": "code",
   "execution_count": 7,
   "metadata": {},
   "outputs": [],
   "source": [
    "data['매니저생년월일'] = data['매니저생년월일'].apply(lambda x: int(x.split('-')[0]))"
   ]
  },
  {
   "cell_type": "markdown",
   "metadata": {},
   "source": [
    "- Featrue engineering"
   ]
  },
  {
   "cell_type": "code",
   "execution_count": 8,
   "metadata": {},
   "outputs": [],
   "source": [
    "#일자 데이터 datetime으로 변경\n",
    "data_time_cols = ['접수일','접수시각', '최초서비스일', '서비스일자', '서비스시작시간','서비스종료시간', '고객가입일', '매니저최초가입일', '매니저최초서비스일']\n",
    "test_time_cols = ['접수일','접수시각', '최초서비스일', '서비스일자', '서비스시작시간','서비스종료시간', '고객가입일']\n",
    "\n",
    "data[data_time_cols] = data[data_time_cols].apply(pd.to_datetime)\n",
    "test[test_time_cols] = test[test_time_cols].apply(pd.to_datetime)"
   ]
  },
  {
   "cell_type": "code",
   "execution_count": 10,
   "metadata": {},
   "outputs": [],
   "source": [
    "#서비스요일 변경\n",
    "data['서비스요일'] = data['서비스일자'].apply(lambda x: x.weekday())\n",
    "\n",
    "test['서비스요일'] = test['서비스일자'].apply(lambda x: x.weekday())"
   ]
  },
  {
   "cell_type": "code",
   "execution_count": 9,
   "metadata": {},
   "outputs": [],
   "source": [
    "# 고객가입일_time\n",
    "\n",
    "data['고객가입_year'] = data['고객가입일'].dt.year\n",
    "data['고객가입_month'] = data['고객가입일'].dt.month\n",
    "data['고객가입_day'] = data['고객가입일'].dt.day\n",
    "data['고객가입_요일'] = data['고객가입일'].dt.weekday\n",
    "\n",
    "test['고객가입_year'] = test['고객가입일'].dt.year\n",
    "test['고객가입_month'] = test['고객가입일'].dt.month\n",
    "test['고객가입_day'] = test['고객가입일'].dt.day\n",
    "test['고객가입_요일'] = test['고객가입일'].dt.weekday"
   ]
  },
  {
   "cell_type": "code",
   "execution_count": 11,
   "metadata": {},
   "outputs": [],
   "source": [
    "# 서비스 주소 == 근무가능주소 \n",
    "add_lst = list(data['서비스주소'].unique())\n",
    "\n",
    "add_seoul = [i for i in add_lst if '서울' in i]\n",
    "add_ch = [i for i in add_lst if '충남' in i]\n",
    "add_gw = [i for i in add_lst if '강원' in i]\n",
    "add_pt = [i for i in add_lst if '평택' in i]\n",
    "add_gj = [i for i in add_lst if '광주' in i]\n",
    "add_city = [i for i in add_lst if ('서울' in i) or ('경기' in i)]\n",
    "add_bs = [i for i in add_lst if '부산' in i]\n",
    "\n",
    "def add_modify(address):\n",
    "    if address in add_seoul: return '서울'\n",
    "    elif address in add_ch: return '천안/아산'\n",
    "    elif address in add_gw: return '원주/춘천'\n",
    "    elif address in add_pt: return '평택'\n",
    "    elif address in add_gj: return '광주'\n",
    "    elif address in add_city: return '수도권'\n",
    "    elif address in add_bs: return '부산'\n",
    "    else: return '기타'\n",
    "\n",
    "def matching_add(service, possible):\n",
    "    if service == possible:\n",
    "        return 1\n",
    "    elif (service == '서울') and (possible == '수도권'):\n",
    "        return 1\n",
    "    else :\n",
    "        return 0\n",
    "\n",
    "data['서비스주소_2'] = data['서비스주소'].apply(add_modify)\n",
    "data['지역_매칭'] = data.apply(lambda x: matching_add(x.서비스주소_2,x.근무가능지역),axis=1)\n",
    "data.drop('서비스주소_2',axis = 1,inplace = True)\n",
    "\n",
    "test['서비스주소_2'] = test['서비스주소'].apply(add_modify)\n",
    "test['지역_매칭'] = test.apply(lambda x: matching_add(x.서비스주소_2,x.근무가능지역),axis=1)\n",
    "test.drop('서비스주소_2',axis = 1,inplace = True)"
   ]
  },
  {
   "cell_type": "code",
   "execution_count": 12,
   "metadata": {},
   "outputs": [],
   "source": [
    "#서비스 총 시간\n",
    "data['서비스시작시간'] = data['서비스시작시간'].apply(lambda x: x.hour)\n",
    "data['서비스종료시간'] = data['서비스종료시간'].apply(lambda x: x.hour)\n",
    "\n",
    "data['총서비스시간'] = data['서비스종료시간'] - data['서비스시작시간']\n",
    "\n",
    "test['서비스시작시간'] = test['서비스시작시간'].apply(lambda x: x.hour)\n",
    "test['서비스종료시간'] = test['서비스종료시간'].apply(lambda x: x.hour)\n",
    "\n",
    "test['총서비스시간'] = test['서비스종료시간'] - test['서비스시작시간']"
   ]
  },
  {
   "cell_type": "code",
   "execution_count": 13,
   "metadata": {},
   "outputs": [],
   "source": [
    "#서비스 월\n",
    "data['서비스월'] = data['서비스일자'].apply(lambda x: x.month)\n",
    "data['서비스DAY'] = data['서비스일자'].apply(lambda x: x.day)\n",
    "\n",
    "test['서비스월'] = test['서비스일자'].apply(lambda x: x.month)\n",
    "test['서비스DAY'] = test['서비스일자'].apply(lambda x: x.day)"
   ]
  },
  {
   "cell_type": "code",
   "execution_count": 14,
   "metadata": {},
   "outputs": [],
   "source": [
    "#서비스일자와 접수일자 차이\n",
    "def 서비스_접수_차이(service_day, recep_day):\n",
    "    time = service_day - recep_day\n",
    "    return time.days\n",
    "\n",
    "data['서비스-접수-차이'] = data.apply(lambda x: 서비스_접수_차이(x.서비스일자,x.접수일),axis=1)\n",
    "test['서비스-접수-차이'] = test.apply(lambda x: 서비스_접수_차이(x.서비스일자,x.접수일),axis=1)"
   ]
  },
  {
   "cell_type": "code",
   "execution_count": 15,
   "metadata": {},
   "outputs": [],
   "source": [
    "#매니저 연령대\n",
    "\n",
    "def age(recep_day,birth):\n",
    "    return recep_day.year - int(birth) + 1\n",
    "       \n",
    "data['매니저연령'] = data.apply(lambda x: age(x.접수일,x.매니저생년월일),axis=1)\n",
    "data['매니저연령대'] = data['매니저연령'].apply(lambda x: int(str(x)[0]))\n",
    "data['매니저연령_qcut'] = data['매니저연령'].apply(lambda x: 0 if x <= 50 else ( 1 if x <= 52 else ( 2 if x <= 56 else ( 3 if x <= 60 else 4))))\n",
    "\n",
    "test['매니저연령'] = test.apply(lambda x: age(x.접수일,x.매니저생년월일),axis=1)\n",
    "test['매니저연령대'] = test['매니저연령'].apply(lambda x: int(str(x)[0]))\n",
    "test['매니저연령_qcut'] = test['매니저연령'].apply(lambda x: 0 if x <= 50 else ( 1 if x <= 52 else ( 2 if x <= 56 else ( 3 if x <= 60 else 4))))"
   ]
  },
  {
   "cell_type": "code",
   "execution_count": 16,
   "metadata": {},
   "outputs": [],
   "source": [
    "#부재중 서비스가능여부와 부재중여부 일치\n",
    "def 부재중(possible,whether):\n",
    "    return '서비스가능여부' + str(possible) + '/부재중여부' + str(whether)\n",
    "\n",
    "data['부재중_일치'] = data.apply(lambda x : 부재중(x.부재중서비스가능여부,x.부재중여부),axis = 1)\n",
    "\n",
    "test['부재중_일치'] = test.apply(lambda x : 부재중(x.부재중서비스가능여부,x.부재중여부),axis = 1)"
   ]
  },
  {
   "cell_type": "code",
   "execution_count": 17,
   "metadata": {},
   "outputs": [],
   "source": [
    "#반려동물여부\n",
    "data['반려동물여부'] = data['반려동물'].apply(lambda x : 1  if x in ['기타', '고양이', '개'] else 0 )\n",
    "\n",
    "test['반려동물여부'] = test['반려동물'].apply(lambda x : 1  if x in ['기타', '고양이', '개'] else 0 )"
   ]
  },
  {
   "cell_type": "code",
   "execution_count": 18,
   "metadata": {},
   "outputs": [],
   "source": [
    "#서비스이용기간 : 서비스일자 - 최초서비스일\n",
    "data['서비스이용기간'] = (data['서비스일자'] - data['최초서비스일']).astype(str).apply(lambda x : int(x[:-5]))\n",
    "\n",
    "test['서비스이용기간'] = (test['서비스일자'] - test['최초서비스일']).astype(str).apply(lambda x : int(x[:-5]))"
   ]
  },
  {
   "cell_type": "code",
   "execution_count": 19,
   "metadata": {},
   "outputs": [],
   "source": [
    "#회차별 일자\n",
    "data['회차별일자'] = data.apply(lambda x : x['서비스이용기간']/x['현재회차'], axis = 1)\n",
    "\n",
    "test['회차별일자'] = test.apply(lambda x : x['서비스이용기간']/x['현재회차'], axis = 1)"
   ]
  },
  {
   "cell_type": "code",
   "execution_count": 20,
   "metadata": {},
   "outputs": [],
   "source": [
    "#가입_최초서비스 : 최초서비스일 - 고객가입일\n",
    "service_to_day = (data['최초서비스일'] - data['고객가입일']).median()\n",
    "na_index = test['고객가입일'].isna()\n",
    "test.loc[na_index, '고객가입일'] = test[test['고객가입일'].isna()].apply(lambda x : x['최초서비스일'] - service_to_day, axis = 1)\n",
    "\n",
    "data['가입_최초서비스'] = (data['최초서비스일'] - data['고객가입일']).dt.days\n",
    "test['가입_최초서비스'] = (test['최초서비스일'] - test['고객가입일']).dt.days"
   ]
  },
  {
   "cell_type": "code",
   "execution_count": 21,
   "metadata": {
    "scrolled": true
   },
   "outputs": [],
   "source": [
    "#접수시간\n",
    "data['접수시간'] = data['접수시각'].dt.hour.fillna(-1)\n",
    "\n",
    "test['접수시간'] = test['접수시각'].dt.hour.fillna(-1)"
   ]
  },
  {
   "cell_type": "code",
   "execution_count": 22,
   "metadata": {},
   "outputs": [],
   "source": [
    "#서비스진행비율\n",
    "data['서비스진행비율'] = data['현재회차'] / data['전체회차']\n",
    "\n",
    "test['서비스진행비율'] = test['현재회차'] / test['전체회차']"
   ]
  },
  {
   "cell_type": "code",
   "execution_count": 23,
   "metadata": {},
   "outputs": [],
   "source": [
    "#서비스연도, 서비스 계절\n",
    "data['서비스연도'] = data['서비스일자'].dt.year\n",
    "data['서비스계절'] = data['서비스일자'].dt.month.apply(lambda x : '겨울' if x in [12,1,2] else ( '봄' if x in [3,4,5] else ( '여름' if x in [6,7,8] else '가을')) )\n",
    "\n",
    "test['서비스연도'] = test['서비스일자'].dt.year\n",
    "test['서비스계절'] = test['서비스일자'].dt.month.apply(lambda x : '겨울' if x in [12,1,2] else ( '봄' if x in [3,4,5] else ( '여름' if x in [6,7,8] else '가을')) )"
   ]
  },
  {
   "cell_type": "code",
   "execution_count": 24,
   "metadata": {},
   "outputs": [],
   "source": [
    "# 가입 유지 기간\n",
    "data['이용연도'] = 2021 - data['고객가입일'].dt.year + 1\n",
    "\n",
    "test['이용연도'] = 2021 - test['고객가입일'].dt.year + 1"
   ]
  },
  {
   "cell_type": "code",
   "execution_count": 25,
   "metadata": {},
   "outputs": [],
   "source": [
    "#지역\n",
    "data['지역'] = data['서비스주소'].apply(lambda x : x.split(' ')[0])\n",
    "test['지역'] = test['서비스주소'].apply(lambda x : x.split(' ')[0])\n",
    "\n",
    "location_dict = { key : num for num, key in enumerate(data['지역'].unique())}\n",
    "\n",
    "data['지역'] = data['지역'].map(location_dict)\n",
    "test['지역'] = test['지역'].map(location_dict)"
   ]
  },
  {
   "cell_type": "code",
   "execution_count": 26,
   "metadata": {},
   "outputs": [],
   "source": [
    "# house_type\n",
    "data['house_type'] = (data['평수'].astype(str) + data['반려동물여부'].astype(str) +data['주거형태'] + data['서비스주소'])\n",
    "test['house_type'] = (test['평수'].astype(str) + test['반려동물여부'].astype(str) +test['주거형태'] + test['서비스주소'])\n",
    "\n",
    "house = list( set(test['house_type'].unique()) - set(data['house_type'].unique()))\n",
    "house = house + list(set(data['house_type'].unique()) - set(test['house_type'].unique())) \n",
    "\n",
    "data['house_type'] = data['house_type'].apply(lambda x : \"기타\" if x in house else x )\n",
    "test['house_type'] = test['house_type'].apply(lambda x : \"기타\" if x in house else x )"
   ]
  },
  {
   "cell_type": "code",
   "execution_count": 27,
   "metadata": {},
   "outputs": [],
   "source": [
    "# 서비스시작시각\n",
    "# 시간이 안적힌것도 있움\n",
    "data['서비스시작시각'] = data['서비스시작시간'].apply(lambda x : x // 6).apply(lambda x : 1 if x == 0 else x)\n",
    "\n",
    "test['서비스시작시각'] = test['서비스시작시간'].apply(lambda x : x // 6).apply(lambda x : 1 if x == 0 else x)"
   ]
  },
  {
   "cell_type": "code",
   "execution_count": 28,
   "metadata": {},
   "outputs": [],
   "source": [
    "# 서비스진행비율_qcut\n",
    "data['서비스진행비율_qcut'] = data['서비스진행비율'].apply(lambda x: 0.2 if x <= 0.2 else (0.4 if x<=0.4 else(0.6 if x<= 0.6 else(0.8 if x<= 0.8 else 1))))\n",
    "\n",
    "test['서비스진행비율_qcut'] = test['서비스진행비율'].apply(lambda x: 0.2 if x <= 0.2 else (0.4 if x<=0.4 else(0.6 if x<= 0.6 else(0.8 if x<= 0.8 else 1))))"
   ]
  },
  {
   "cell_type": "code",
   "execution_count": 29,
   "metadata": {},
   "outputs": [],
   "source": [
    "# 서비스_접수_차이_qcut\n",
    "data['서비스_접수_차이_qcut'] = data['서비스-접수-차이'].apply(lambda x: 0 if x <= 4 else ( 1 if x <= 7 else ( 2 if x <= 14 else ( 3 if x <= 21 else 4))))\n",
    "\n",
    "test['서비스_접수_차이_qcut'] = test['서비스-접수-차이'].apply(lambda x: 0 if x <= 4 else ( 1 if x <= 7 else ( 2 if x <= 14 else ( 3 if x <= 21 else 4))))"
   ]
  },
  {
   "cell_type": "code",
   "execution_count": 30,
   "metadata": {},
   "outputs": [],
   "source": [
    "# 서비스이용기간_qcut\n",
    "data['서비스이용기간_qcut'] = data['서비스이용기간'].apply(lambda x: 0 if x <= 7 else ( 1 if x <= 14 else 2 ))\n",
    "\n",
    "test['서비스이용기간_qcut'] = test['서비스이용기간'].apply(lambda x: 0 if x <= 7 else ( 1 if x <= 14 else 2 ))"
   ]
  },
  {
   "cell_type": "code",
   "execution_count": 31,
   "metadata": {},
   "outputs": [],
   "source": [
    "# 접수시간_qcut\n",
    "data['접수시간_qcut'] = data['접수시간'].apply(lambda x: 0 if x <= 11 else ( 1 if x <= 14 else ( 2 if x <= 18 else 3 )))\n",
    "\n",
    "test['접수시간_qcut'] = test['접수시간'].apply(lambda x: 0 if x <= 11 else ( 1 if x <= 14 else ( 2 if x <= 18 else 3 )))"
   ]
  },
  {
   "cell_type": "code",
   "execution_count": 32,
   "metadata": {},
   "outputs": [],
   "source": [
    "# 가입_최초서비스_qcut\n",
    "data['가입_최초서비스_qcut'] = data['가입_최초서비스'].apply(lambda x : 0 if x <= 0 else ( 1 if x <= 37 else ( 2 if x <= 96 else ( 3 if x <= 235 else 4))))\n",
    "\n",
    "test['가입_최초서비스_qcut'] = test['가입_최초서비스'].apply(lambda x : 0 if x <= 0 else ( 1 if x <= 37 else ( 2 if x <= 96 else ( 3 if x <= 235 else 4))))"
   ]
  },
  {
   "cell_type": "code",
   "execution_count": 33,
   "metadata": {},
   "outputs": [],
   "source": [
    "# 회차별일자_qcut\n",
    "data['회차별일자_qcut'] = data['회차별일자'].apply(lambda x : 0 if x<= 2 else( 1 if x <= 6 else ( 2 if x <= 9 else ( 3 if x <= 27 else 4))))\n",
    "\n",
    "test['회차별일자_qcut'] = test['회차별일자'].apply(lambda x : 0 if x<= 2 else( 1 if x <= 6 else ( 2 if x <= 9 else ( 3 if x <= 27 else 4))))"
   ]
  },
  {
   "cell_type": "code",
   "execution_count": 34,
   "metadata": {},
   "outputs": [],
   "source": [
    "# 전체회차 이상치 12로 변경\n",
    "data['전체회차'] = data['전체회차'].apply(lambda x : 12 if x > 10 else x )\n",
    "\n",
    "test['전체회차'] = test['전체회차'].apply(lambda x : 12 if x > 10 else x )"
   ]
  },
  {
   "cell_type": "code",
   "execution_count": 35,
   "metadata": {},
   "outputs": [],
   "source": [
    "#교육 여부\n",
    "def education(x):\n",
    "    if x == 1:\n",
    "        return '이수'\n",
    "    elif x == 0:\n",
    "        return '미이수'\n",
    "    else:\n",
    "        return '정보없음'\n",
    "    \n",
    "data['CS교육'] = data['CS교육이수여부'].apply(education)\n",
    "data['청소교육'] = data['청소교육이수여부'].apply(education)\n",
    "data['교육여부'] = data['CS교육'] + '/' + data['청소교육']\n",
    "\n",
    "data = data.drop(['CS교육','청소교육'],axis = 1)\n",
    "\n",
    "test['CS교육'] = test['CS교육이수여부'].apply(education)\n",
    "test['청소교육'] = test['청소교육이수여부'].apply(education)\n",
    "test['교육여부'] = test['CS교육'] + '/' + test['청소교육']\n",
    "\n",
    "test = test.drop(['CS교육','청소교육'],axis = 1)"
   ]
  },
  {
   "cell_type": "code",
   "execution_count": 36,
   "metadata": {},
   "outputs": [],
   "source": [
    "#서비스일자와 접수일자 차이\n",
    "def 가입_접수_차이(sign_day, recep_day):\n",
    "    time = recep_day - sign_day\n",
    "    return time.days\n",
    "\n",
    "\n",
    "\n",
    "data['가입_접수_차이'] = data.apply(lambda x: 가입_접수_차이(x.고객가입일,x.접수일),axis=1)\n",
    "data['접수주기'] = data.apply(lambda x: x.가입_접수_차이 / x.전체회차,axis= 1)\n",
    "\n",
    "test['가입_접수_차이'] = test.apply(lambda x: 가입_접수_차이(x.고객가입일,x.접수일),axis=1)\n",
    "test['접수주기'] = test.apply(lambda x: x.가입_접수_차이 / x.전체회차,axis= 1)"
   ]
  },
  {
   "cell_type": "code",
   "execution_count": 37,
   "metadata": {},
   "outputs": [],
   "source": [
    "#매니저가입이후년차\n",
    "data['매니저가입이후년차'] = data.apply(lambda x: x.접수일.year - x.매니저최초가입일.year,axis=1)\n",
    "manager_year = pd.DataFrame(data.groupby('매니저연령대')['매니저가입이후년차'].mean()).reset_index()\n",
    "data = data.drop(['매니저가입이후년차'],axis = 1)\n",
    "\n",
    "data = pd.merge(data,manager_year,on='매니저연령대',how='left')\n",
    "test = pd.merge(test,manager_year,on='매니저연령대',how='left')"
   ]
  },
  {
   "cell_type": "code",
   "execution_count": 38,
   "metadata": {},
   "outputs": [],
   "source": [
    "#서비스분기\n",
    "data['서비스분기'] = data['서비스월'].apply(lambda x : '1분기' if x in [1,2,3] else ( '2분기' if x in [4,5,6] else ( '3분기' if x in [7,8,9] else '4분기')) )\n",
    "\n",
    "test['서비스분기'] = test['서비스월'].apply(lambda x : '1분기' if x in [1,2,3] else ( '2분기' if x in [4,5,6] else ( '3분기' if x in [7,8,9] else '4분기')) )"
   ]
  },
  {
   "cell_type": "code",
   "execution_count": 39,
   "metadata": {},
   "outputs": [],
   "source": [
    "def 시간분류_시작(x):\n",
    "    if 1<= x <= 6:\n",
    "        return '새벽_시작'\n",
    "    elif 7<= x <= 12:\n",
    "        return '아침_시작'\n",
    "    elif 13 <= x <= 18:\n",
    "        return '점심_시작'\n",
    "    else:\n",
    "        return '밤_시작'\n",
    "    \n",
    "    \n",
    "def 시간분류_종료(x):\n",
    "    if 1<= x <= 6:\n",
    "        return '새벽_종료'\n",
    "    elif 7<= x <= 12:\n",
    "        return '아침_종료'\n",
    "    elif 13 <= x <= 18:\n",
    "        return '점심_종료'\n",
    "    else:\n",
    "        return '밤_종료'\n",
    "    \n",
    "data['서비스시작_하루'] = data['서비스시작시간'].apply(시간분류_시작)\n",
    "data['서비스종료_하루'] = data['서비스종료시간'].apply(시간분류_종료)\n",
    "\n",
    "test['서비스시작_하루'] = test['서비스시작시간'].apply(시간분류_시작)\n",
    "test['서비스종료_하루'] = test['서비스종료시간'].apply(시간분류_종료)"
   ]
  },
  {
   "cell_type": "code",
   "execution_count": 40,
   "metadata": {},
   "outputs": [],
   "source": [
    "#time_type\n",
    "data['time_type'] = (data['서비스계절']+data['서비스요일'].astype(str)+data['서비스시작_하루']+data['서비스종료_하루'])\n",
    "test['time_type'] = (test['서비스계절']+test['서비스요일'].astype(str)+test['서비스시작_하루']+test['서비스종료_하루'])\n",
    "\n",
    "time = list(set(data['time_type'].unique()) - set(test['time_type'].unique()))\n",
    "time = time + list(set(test['time_type'].unique()) - set(data['time_type'].unique()))\n",
    "\n",
    "data['time_type'] = data['time_type'].apply(lambda x : \"기타\" if x in time else x )\n",
    "test['time_type'] = test['time_type'].apply(lambda x : \"기타\" if x in time else x )"
   ]
  },
  {
   "cell_type": "code",
   "execution_count": 41,
   "metadata": {},
   "outputs": [],
   "source": [
    "data['manager_type'] = (data['매니저사용휴대폰'] + data['매니저이동방법'] + data['근무가능지역'] + data['CS교육이수여부'].astype(str) + data['청소교육이수여부'].astype(str)+data['추천인여부'].astype(str))\n",
    "test['manager_type'] = (test['매니저사용휴대폰'] + test['매니저이동방법'] + test['근무가능지역'] + test['CS교육이수여부'].astype(str) + test['청소교육이수여부'].astype(str)+data['추천인여부'].astype(str))\n",
    "\n",
    "manager = list(set(data['manager_type'].unique()) - set(test['manager_type'].unique()))\n",
    "manager = manager + list(set(test['manager_type'].unique()) - set(data['manager_type'].unique()))\n",
    "\n",
    "data['manager_type'] = data['manager_type'].apply(lambda x : \"기타\" if x in manager else x )\n",
    "test['manager_type'] = test['manager_type'].apply(lambda x : \"기타\" if x in manager else x )"
   ]
  },
  {
   "cell_type": "code",
   "execution_count": 42,
   "metadata": {},
   "outputs": [],
   "source": [
    "#customer_type\n",
    "data['customer_type'] = data['장기서비스여부'].astype(str) + data['기존고객여부'].astype(str) + data['서비스주소'] + data['쿠폰사용여부'].astype(str) + data['우선청소'] + data['부재중여부'].astype(str)\n",
    "test['customer_type'] = test['장기서비스여부'].astype(str) + test['기존고객여부'].astype(str) + test['서비스주소'] + test['쿠폰사용여부'].astype(str) + test['우선청소'] + test['부재중여부'].astype(str)\n",
    "\n",
    "customer = list(set(data['customer_type'].unique()) - set(test['customer_type'].unique()))\n",
    "customer = customer + list(set(test['customer_type'].unique()) - set(data['customer_type'].unique()))\n",
    "\n",
    "data['customer_type'] = data['customer_type'].apply(lambda x : \"기타\" if x in customer else x )\n",
    "test['customer_type'] = test['customer_type'].apply(lambda x : \"기타\" if x in customer else x )"
   ]
  },
  {
   "cell_type": "code",
   "execution_count": 43,
   "metadata": {},
   "outputs": [],
   "source": [
    "#region_type\n",
    "data['region_type'] = data['서비스주소'] + data['근무가능지역'] + data['매니저이동방법']\n",
    "test['region_type'] = test['서비스주소'] + test['근무가능지역'] + test['매니저이동방법']\n",
    "\n",
    "region = list(set(data['region_type'].unique()) - set(test['region_type'].unique()))\n",
    "region = region + list(set(test['region_type'].unique()) - set(data['region_type'].unique()))\n",
    "\n",
    "data['region_type'] = data['region_type'].apply(lambda x : \"기타\" if x in region else x )\n",
    "test['region_type'] = test['region_type'].apply(lambda x : \"기타\" if x in region else x )"
   ]
  },
  {
   "cell_type": "code",
   "execution_count": 44,
   "metadata": {},
   "outputs": [],
   "source": [
    "cluster_manager_col = ['매니저사용휴대폰','매니저이동방법','근무가능지역','CS교육이수여부','청소교육이수여부','부재중서비스가능여부','추천인여부','매니저연령_qcut']\n",
    "\n",
    "df = data.loc[:,cluster_manager_col]\n",
    "\n",
    "label_encoding = ['매니저사용휴대폰','매니저이동방법','근무가능지역']\n",
    "#라벨인코딩 방식\n",
    "for i in label_encoding:\n",
    "    encoder = LabelEncoder()\n",
    "    encoder.fit(df[i])\n",
    "    df[i] = encoder.transform(df[i])"
   ]
  },
  {
   "cell_type": "code",
   "execution_count": 45,
   "metadata": {},
   "outputs": [
    {
     "data": {
      "image/png": "[encoded data removed]",
      "text/plain": [
       "<Figure size 432x288 with 2 Axes>"
      ]
     },
     "metadata": {},
     "output_type": "display_data"
    }
   ],
   "source": [
    "wssn = []\n",
    "sisn = []\n",
    "for k in range(4,10):\n",
    "    kmeansn = KMeans(n_clusters=k,random_state= 1234)\n",
    "    kmeansn.fit(df)\n",
    "    wssn = np.append(wssn, kmeansn.inertia_)\n",
    "    sisn = np.append(sisn, silhouette_score(df, kmeansn.labels_))\n",
    "\n",
    "# 군집 수에 따른 SSE와 Silhouette score 시각화\n",
    "fig, ax1 = plt.subplots()\n",
    "ax2 = ax1.twinx() #X축 공유해서 두 장이 합쳐진다.\n",
    "\n",
    "line1 = ax1.plot(np.arange(4,10), wssn, 'ro--', label='SSE_norm')\n",
    "line2 = ax2.plot(np.arange(4,10), sisn, 'bo--', label='Silhouette_norm') \n",
    "\n",
    "ax1.set_ylim(wssn.min()*0.95, wssn.max()*1.05)\n",
    "ax2.set_ylim(sisn.min()*0.95, sisn.max()*1.05)\n",
    "\n",
    "ax1.set_xlabel('군집 수')\n",
    "ax1.set_ylabel('SSE')\n",
    "ax2.set_ylabel('Silhouette score')\n",
    "\n",
    "lines = line1 + line2\n",
    "labels = [l.get_label() for l in lines]\n",
    "plt.title('정규화 한 SSE, 실루엣 비교')\n",
    "plt.legend(lines, labels)\n",
    "plt.show()"
   ]
  },
  {
   "cell_type": "code",
   "execution_count": 46,
   "metadata": {},
   "outputs": [],
   "source": [
    "sy2_km=KMeans(n_clusters=7 )\n",
    "km = sy2_km.fit(df)\n",
    "\n",
    "kmeans_manager = pd.DataFrame(km.labels_).rename(columns = {0:'kmeans_manager'})\n",
    "\n",
    "data['kmeans_manager'] = kmeans_manager\n",
    "\n",
    "cluster_manager_col_df = ['매니저사용휴대폰','매니저이동방법','근무가능지역','CS교육이수여부','청소교육이수여부','부재중서비스가능여부','추천인여부','매니저연령_qcut','kmeans_manager']\n",
    "manager_df = data.loc[:,cluster_manager_col_df]\n",
    "manager_df.drop_duplicates(inplace = True)\n",
    "\n",
    "test = pd.merge(test,manager_df,on=cluster_manager_col,how='left')\n",
    "\n",
    "mode = data['kmeans_manager'].value_counts().index[0]\n",
    "test.fillna(mode,inplace=True)"
   ]
  },
  {
   "cell_type": "code",
   "execution_count": 47,
   "metadata": {},
   "outputs": [],
   "source": [
    "cluster_customer_col = ['장기서비스여부','기존고객여부','결재형태','서비스주소','쿠폰사용여부','우선청소','부재중여부']\n",
    "\n",
    "df = data.loc[:,cluster_customer_col]\n",
    "\n",
    "label_encoding = ['결재형태','서비스주소','우선청소']\n",
    "#라벨인코딩 방식\n",
    "for i in label_encoding:\n",
    "    encoder = LabelEncoder()\n",
    "    encoder.fit(df[i])\n",
    "    df[i] = encoder.transform(df[i])"
   ]
  },
  {
   "cell_type": "code",
   "execution_count": 48,
   "metadata": {},
   "outputs": [
    {
     "data": {
      "image/png": "[encoded data removed]",
      "text/plain": [
       "<Figure size 432x288 with 2 Axes>"
      ]
     },
     "metadata": {},
     "output_type": "display_data"
    }
   ],
   "source": [
    "wssn = []\n",
    "sisn = []\n",
    "for k in range(4,10):\n",
    "    kmeansn = KMeans(n_clusters=k,random_state= 1234)\n",
    "    kmeansn.fit(df)\n",
    "    wssn = np.append(wssn, kmeansn.inertia_)\n",
    "    sisn = np.append(sisn, silhouette_score(df, kmeansn.labels_))\n",
    "\n",
    "# 군집 수에 따른 SSE와 Silhouette score 시각화\n",
    "fig, ax1 = plt.subplots()\n",
    "ax2 = ax1.twinx() #X축 공유해서 두 장이 합쳐진다.\n",
    "\n",
    "line1 = ax1.plot(np.arange(4,10), wssn, 'ro--', label='SSE_norm')\n",
    "line2 = ax2.plot(np.arange(4,10), sisn, 'bo--', label='Silhouette_norm') \n",
    "\n",
    "ax1.set_ylim(wssn.min()*0.95, wssn.max()*1.05)\n",
    "ax2.set_ylim(sisn.min()*0.95, sisn.max()*1.05)\n",
    "\n",
    "ax1.set_xlabel('군집 수')\n",
    "ax1.set_ylabel('SSE')\n",
    "ax2.set_ylabel('Silhouette score')\n",
    "\n",
    "lines = line1 + line2\n",
    "labels = [l.get_label() for l in lines]\n",
    "plt.title('정규화 한 SSE, 실루엣 비교')\n",
    "plt.legend(lines, labels)\n",
    "plt.show()"
   ]
  },
  {
   "cell_type": "code",
   "execution_count": 49,
   "metadata": {},
   "outputs": [],
   "source": [
    "sy2_km=KMeans(n_clusters=7 )\n",
    "km = sy2_km.fit(df)\n",
    "\n",
    "kmeans_customer = pd.DataFrame(km.labels_).rename(columns = {0:'kmeans_customer'})\n",
    "\n",
    "data['kmeans_customer'] = kmeans_customer\n",
    "\n",
    "cluster_customer_col_df = ['장기서비스여부','기존고객여부','결재형태','서비스주소','쿠폰사용여부','우선청소','부재중여부','kmeans_customer']\n",
    "customer_df = data.loc[:,cluster_customer_col_df]\n",
    "customer_df.drop_duplicates(inplace = True)\n",
    "\n",
    "test = pd.merge(test,customer_df,on=cluster_customer_col,how='left')\n",
    "\n",
    "mode = data['kmeans_customer'].value_counts().index[0]\n",
    "test.fillna(mode,inplace=True)"
   ]
  },
  {
   "cell_type": "markdown",
   "metadata": {},
   "source": [
    "- mean encoding"
   ]
  },
  {
   "cell_type": "code",
   "execution_count": 50,
   "metadata": {},
   "outputs": [],
   "source": [
    "#mean_lst\n",
    "\n",
    "mean_lst = ['장기서비스여부', '기존고객여부',\n",
    "       '결재형태', '주거형태', '평수', '부재중여부', '우선청소', '쿠폰사용여부', '매니저사용휴대폰', '매니저이동방법',\n",
    "       'CS교육이수여부', '청소교육이수여부', '부재중서비스가능여부', '추천인여부', '서비스요일',\n",
    "        '서비스월', '매니저연령대', '부재중_일치',\n",
    "       '반려동물여부', '접수시간', '서비스연도', '서비스계절','교육여부',\n",
    "       '이용연도', '지역','서비스분기','house_type', '매니저연령_qcut', '서비스이용기간_qcut', '서비스진행비율_qcut', '회차별일자_qcut','manager_type','time_type','서비스시작_하루','서비스종료_하루','고객가입_year','고객가입_month',\n",
    "            '고객가입_day','고객가입_요일','customer_type','kmeans_manager','kmeans_customer','region_type']\n",
    "\n",
    "for i in mean_lst : \n",
    "    satisfaction = (data.groupby(i)['매칭성공여부'].mean() ).to_dict()\n",
    "    name = i + '_만족도'\n",
    "    data[name] = data[i].map(satisfaction)\n",
    "    test[name] = test[i].map(satisfaction)\n",
    "    \n",
    "data = data.fillna(0)\n",
    "test = test.fillna(0)"
   ]
  },
  {
   "cell_type": "code",
   "execution_count": 51,
   "metadata": {},
   "outputs": [],
   "source": [
    "for i in mean_lst : \n",
    "    satisfaction = (data.query('매칭성공여부 == 1').groupby(i)['매칭성공여부'].agg('count') ).to_dict()\n",
    "    name = i + '별count'\n",
    "    data[name] = data[i].map(satisfaction)\n",
    "    test[name] = test[i].map(satisfaction)\n",
    "    \n",
    "data = data.fillna(0)\n",
    "test = test.fillna(0)"
   ]
  },
  {
   "cell_type": "markdown",
   "metadata": {},
   "source": [
    "- encoding( label , one_hot_encoding )"
   ]
  },
  {
   "cell_type": "code",
   "execution_count": 52,
   "metadata": {},
   "outputs": [],
   "source": [
    "label_encoding = ['결재형태','지역']"
   ]
  },
  {
   "cell_type": "code",
   "execution_count": 53,
   "metadata": {},
   "outputs": [],
   "source": [
    "one_hot_encoding = ['장기서비스여부', '기존고객여부',\n",
    "         '주거형태', '평수', '부재중여부', '우선청소', '쿠폰사용여부', '매니저사용휴대폰', '매니저이동방법',\n",
    "        'CS교육이수여부', '청소교육이수여부', '부재중서비스가능여부', '추천인여부', '서비스요일','지역_매칭',\n",
    "        '서비스월', '매니저연령대', '부재중_일치',\n",
    "        '반려동물여부', '서비스진행비율', '서비스연도', '서비스계절',\n",
    "        '이용연도', '서비스시작시각', '교육여부','서비스분기','서비스DAY','house_type','manager_type','time_type'\n",
    "                ,'서비스시작_하루','서비스종료_하루','customer_type','region_type']"
   ]
  },
  {
   "cell_type": "code",
   "execution_count": 54,
   "metadata": {},
   "outputs": [],
   "source": [
    "#라벨인코딩 방식\n",
    "for i in label_encoding:\n",
    "    encoder = LabelEncoder()\n",
    "    encoder.fit(data[i])\n",
    "    data[i] = encoder.transform(data[i])\n",
    "    test[i] = encoder.transform(test[i])"
   ]
  },
  {
   "cell_type": "code",
   "execution_count": 55,
   "metadata": {},
   "outputs": [],
   "source": [
    "#원핫인코딩 방식\n",
    "encoding_df = pd.DataFrame()\n",
    "for i in one_hot_encoding:\n",
    "    globals()['encoding_{}'.format(i)] = pd.get_dummies(data[i])\n",
    "    encoding_df = pd.concat([encoding_df,globals()['encoding_{}'.format(i)]],axis=1)\n",
    "\n",
    "data = data.drop(one_hot_encoding,axis=1)\n",
    "\n",
    "encoding_test_df = pd.DataFrame()\n",
    "for i in one_hot_encoding:\n",
    "    if i == '서비스시작_하루':\n",
    "        globals()['encoding_test_{}'.format(i)] = pd.get_dummies(test[i])\n",
    "        globals()['encoding_test_{}'.format(i)]['밤_시작'] = 0\n",
    "        globals()['encoding_test_{}'.format(i)] = globals()['encoding_test_{}'.format(i)][['밤_시작','새벽_시작','아침_시작','점심_시작']]\n",
    "        encoding_test_df = pd.concat([encoding_test_df,globals()['encoding_test_{}'.format(i)]],axis=1)\n",
    "    elif i == '서비스종료_하루':\n",
    "        globals()['encoding_test_{}'.format(i)] = pd.get_dummies(test[i])\n",
    "        globals()['encoding_test_{}'.format(i)]['새벽_종료'] = 0\n",
    "        globals()['encoding_test_{}'.format(i)] = globals()['encoding_test_{}'.format(i)][['밤_종료','새벽_종료','아침_종료','점심_종료']]\n",
    "        encoding_test_df = pd.concat([encoding_test_df,globals()['encoding_test_{}'.format(i)]],axis=1)\n",
    "    else :\n",
    "        globals()['encoding_test_{}'.format(i)] = pd.get_dummies(test[i])\n",
    "        encoding_test_df = pd.concat([encoding_test_df,globals()['encoding_test_{}'.format(i)]],axis=1)\n",
    "        \n",
    "test = test.drop(one_hot_encoding,axis=1)"
   ]
  },
  {
   "cell_type": "code",
   "execution_count": 56,
   "metadata": {
    "scrolled": true
   },
   "outputs": [
    {
     "data": {
      "image/png": "[encoded data removed]",
      "text/plain": [
       "<Figure size 432x288 with 1 Axes>"
      ]
     },
     "metadata": {},
     "output_type": "display_data"
    }
   ],
   "source": [
    "from sklearn.decomposition import PCA\n",
    "pca=PCA().fit(encoding_df) \n",
    "\n",
    "plt.plot(np.arange(1,encoding_df.shape[1]+1), pca.explained_variance_ratio_)\n",
    "plt.xlabel('Number of PCA')\n",
    "plt.ylabel('Explained variance ratio')\n",
    "plt.show()"
   ]
  },
  {
   "cell_type": "code",
   "execution_count": 57,
   "metadata": {},
   "outputs": [],
   "source": [
    "pca = PCA(n_components=0.85) # 주성분을 몇개로 할지 결정\n",
    "printcipalComponents = pca.fit_transform(encoding_df)\n",
    "pcatrain = pd.DataFrame(data=printcipalComponents)\n",
    "# 주성분으로 이루어진 데이터 프레임 구성\n",
    "\n",
    "printcipalComponents_test = pca.transform(encoding_test_df)\n",
    "pcatest = pd.DataFrame(data=printcipalComponents_test)"
   ]
  },
  {
   "cell_type": "code",
   "execution_count": 58,
   "metadata": {},
   "outputs": [],
   "source": [
    "encoding_df.iloc[:,:] = encoding_df.iloc[:,:].astype('int64')\n",
    "data = pd.concat([data,pcatrain],axis=1)\n",
    "\n",
    "encoding_test_df.iloc[:,:] = encoding_test_df.iloc[:,:].astype('int64')\n",
    "test = pd.concat([test,pcatest],axis=1)"
   ]
  },
  {
   "cell_type": "markdown",
   "metadata": {},
   "source": [
    "- 불필요한 column drop"
   ]
  },
  {
   "cell_type": "code",
   "execution_count": 59,
   "metadata": {},
   "outputs": [],
   "source": [
    "data = data.drop(['접수시각','접수일','최초서비스일','서비스일자','서비스주소','고객가입일','매니저생년월일','매니저성별','근무가능지역','반려동물','매니저주소', '매니저최초가입일', '매니저최초서비스일'], axis =1)\n",
    "\n",
    "test = test.drop(['접수시각','접수일','최초서비스일','서비스일자','서비스주소','고객가입일','매니저생년월일','매니저성별','근무가능지역','반려동물'], axis =1)"
   ]
  },
  {
   "cell_type": "markdown",
   "metadata": {},
   "source": [
    "- scaling"
   ]
  },
  {
   "cell_type": "code",
   "execution_count": 60,
   "metadata": {},
   "outputs": [],
   "source": [
    "col1 = list(data.iloc[:,1:5].columns)\n",
    "col2 = list(data.iloc[:,7:19].columns)\n",
    "col3 = list(data.iloc[:,20:29].columns)\n",
    "col4 = list(data.iloc[:,74:117].columns)"
   ]
  },
  {
   "cell_type": "code",
   "execution_count": 61,
   "metadata": {},
   "outputs": [],
   "source": [
    "scale_lst = col1 + col2 + col3 + col4"
   ]
  },
  {
   "cell_type": "code",
   "execution_count": 62,
   "metadata": {},
   "outputs": [],
   "source": [
    "scaler = StandardScaler()\n",
    "\n",
    "data_scale = data[scale_lst]\n",
    "test_scale = test[scale_lst]\n",
    "data_scale = scaler.fit_transform(data_scale)\n",
    "test_scale = scaler.transform(test_scale)\n",
    "\n",
    "data[scale_lst] = data_scale\n",
    "test[scale_lst] = test_scale"
   ]
  },
  {
   "cell_type": "code",
   "execution_count": 63,
   "metadata": {},
   "outputs": [],
   "source": [
    "target = data['매칭성공여부']\n",
    "data = data.drop(['매칭성공여부'],axis = 1)\n",
    "data = data.iloc[:,1:]\n",
    "test_id = test['SEQ']\n",
    "test = test.iloc[:,1:]"
   ]
  },
  {
   "cell_type": "markdown",
   "metadata": {},
   "source": [
    "- Feature Selection"
   ]
  },
  {
   "cell_type": "code",
   "execution_count": 64,
   "metadata": {},
   "outputs": [
    {
     "name": "stdout",
     "output_type": "stream",
     "text": [
      "(73, 0.9082961560645593)\n"
     ]
    },
    {
     "data": {
      "image/png": "[encoded data removed]",
      "text/plain": [
       "<Figure size 432x288 with 1 Axes>"
      ]
     },
     "metadata": {},
     "output_type": "display_data"
    }
   ],
   "source": [
    "model = XGBClassifier(random_state= 0,use_label_encoder=False,eval_metric = 'logloss')\n",
    "\n",
    "cv_scores = []\n",
    "for p in range(5,80,1):\n",
    "    X_new = SelectPercentile(percentile=p).fit_transform(data , target)    \n",
    "    cv_score = cross_val_score(model, X_new, target, scoring='roc_auc', cv=5).mean()\n",
    "    cv_scores.append((p,cv_score))\n",
    "\n",
    "# Print the best percentile\n",
    "best_score = cv_scores[np.argmax([score for _, score in cv_scores])]\n",
    "print(best_score)\n",
    "\n",
    "# Plot the performance change with p\n",
    "plt.plot([k for k, _ in cv_scores], [score for _, score in cv_scores])\n",
    "plt.xlabel('Percent of features')\n",
    "plt.grid() "
   ]
  },
  {
   "cell_type": "code",
   "execution_count": 65,
   "metadata": {},
   "outputs": [
    {
     "name": "stdout",
     "output_type": "stream",
     "text": [
      "(23009, 143)\n"
     ]
    }
   ],
   "source": [
    "# 과적합을 피하기 위해 최적의 p값 주변의 값을 선택하는게 더 나은 결과를 얻을 수 있다. \n",
    "fs = SelectPercentile(percentile=best_score[0]).fit(data, target)\n",
    "data = fs.transform(data)\n",
    "test = fs.transform(test)\n",
    "\n",
    "print(data.shape)"
   ]
  },
  {
   "cell_type": "code",
   "execution_count": 66,
   "metadata": {},
   "outputs": [],
   "source": [
    "data = pd.DataFrame(data)\n",
    "test = pd.DataFrame(test)"
   ]
  },
  {
   "cell_type": "markdown",
   "metadata": {},
   "source": [
    "- ADASYN"
   ]
  },
  {
   "cell_type": "code",
   "execution_count": 1910,
   "metadata": {},
   "outputs": [],
   "source": [
    "ada = ADASYN(sampling_strategy=0.2, random_state=1000)\n",
    "X_res, y_res = ada.fit_resample(data, target)"
   ]
  },
  {
   "cell_type": "markdown",
   "metadata": {},
   "source": [
    "- modeling"
   ]
  },
  {
   "cell_type": "code",
   "execution_count": 1913,
   "metadata": {},
   "outputs": [],
   "source": [
    "test_id = pd.DataFrame(test_id)"
   ]
  },
  {
   "cell_type": "code",
   "execution_count": 1914,
   "metadata": {},
   "outputs": [],
   "source": [
    "stk_fold = StratifiedKFold(n_splits=3, shuffle=True, random_state=42)"
   ]
  },
  {
   "cell_type": "code",
   "execution_count": 1915,
   "metadata": {},
   "outputs": [],
   "source": [
    "X_train, X_dev, y_train, y_dev = train_test_split(X_res, y_res ,stratify = y_res,  test_size=0.3,   random_state=0)"
   ]
  },
  {
   "cell_type": "code",
   "execution_count": 1916,
   "metadata": {},
   "outputs": [
    {
     "data": {
      "text/plain": [
       "0.968334801409353"
      ]
     },
     "execution_count": 1916,
     "metadata": {},
     "output_type": "execute_result"
    }
   ],
   "source": [
    "ext = ExtraTreesClassifier(random_state = 0 )\n",
    "ext.fit(X_train, y_train)\n",
    "\n",
    "predict_ext_proba = ext.predict_proba(X_dev) #중요도 낮은거 제거 안함\n",
    "predict_ext_proba = pd.DataFrame(predict_ext_proba)[[1]].rename(columns = {1:'pred'})\n",
    "roc_auc_score(y_dev, predict_ext_proba)"
   ]
  },
  {
   "cell_type": "code",
   "execution_count": 1917,
   "metadata": {},
   "outputs": [
    {
     "name": "stdout",
     "output_type": "stream",
     "text": [
      "0.11647973609802074\n"
     ]
    }
   ],
   "source": [
    "ext = ExtraTreesClassifier(random_state = 0 )\n",
    "ext.fit(X_res, y_res)\n",
    "\n",
    "predict_ext_proba = ext.predict_proba(test) #중요도 낮은거 제거 안함\n",
    "predict_ext_proba = pd.DataFrame(predict_ext_proba)[[1]].rename(columns = {1:'pred'})\n",
    "predict_ext_proba = pd.concat([test_id,predict_ext_proba],axis =1)\n",
    "\n",
    "print(predict_ext_proba.pred.mean())"
   ]
  },
  {
   "cell_type": "code",
   "execution_count": 1918,
   "metadata": {},
   "outputs": [],
   "source": [
    "predict_ext_proba.to_csv('./submission/submission_2.csv',index= False)"
   ]
  }
 ],
 "metadata": {
  "kernelspec": {
   "display_name": "tf-gpu",
   "language": "python",
   "name": "tf2.0-gpu"
  },
  "language_info": {
   "codemirror_mode": {
    "name": "ipython",
    "version": 3
   },
   "file_extension": ".py",
   "mimetype": "text/x-python",
   "name": "python",
   "nbconvert_exporter": "python",
   "pygments_lexer": "ipython3",
   "version": "3.6.12"
  }
 },
 "nbformat": 4,
 "nbformat_minor": 4
}
